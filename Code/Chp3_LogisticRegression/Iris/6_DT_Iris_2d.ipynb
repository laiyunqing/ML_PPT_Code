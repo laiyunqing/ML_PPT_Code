{
 "cells": [
  {
   "cell_type": "markdown",
   "metadata": {},
   "source": [
    "## 决策树：Iris数据集上用2维特征可视化"
   ]
  },
  {
   "cell_type": "code",
   "execution_count": 1,
   "metadata": {
    "collapsed": true
   },
   "outputs": [],
   "source": [
    "import pandas as pd\n",
    "import numpy as np\n",
    "\n",
    "# 使用accuracy_score作为分类回归模型性能的评价\n",
    "from sklearn.metrics import accuracy_score \n",
    "\n",
    "import matplotlib as mpl\n",
    "import matplotlib.pyplot as plt \n",
    "%matplotlib inline\n",
    "import seaborn as sns\n",
    "\n",
    "#显示中文\n",
    "plt.rcParams['font.sans-serif'] = ['Arial Unicode MS']"
   ]
  },
  {
   "cell_type": "code",
   "execution_count": 2,
   "metadata": {
    "collapsed": true,
    "scrolled": true
   },
   "outputs": [],
   "source": [
    "#读取数据\n",
    "# csv文件没有列名，增加列名\n",
    "feat_names = ['sepal-length', 'sepal-width', 'petal-length', 'petal-width', 'Class']\n",
    "\n",
    "dpath = \"./data/\"\n",
    "df = pd.read_csv(dpath + \"iris.csv\", names = feat_names, header=None)\n",
    "\n",
    "#通过观察前5行，了解数据每列（特征）的概况\n",
    "#df.head()"
   ]
  },
  {
   "cell_type": "code",
   "execution_count": 3,
   "metadata": {
    "scrolled": true
   },
   "outputs": [
    {
     "data": {
      "text/plain": [
       "array(['Iris-setosa', 'Iris-versicolor', 'Iris-virginica'], dtype=object)"
      ]
     },
     "execution_count": 3,
     "metadata": {},
     "output_type": "execute_result"
    }
   ],
   "source": [
    "unique_Class = df['Class'].unique()\n",
    "unique_Class"
   ]
  },
  {
   "cell_type": "code",
   "execution_count": 4,
   "metadata": {
    "collapsed": true,
    "scrolled": true
   },
   "outputs": [],
   "source": [
    "target_map = {'Iris-setosa':0, \n",
    "              'Iris-versicolor':1,\n",
    "              'Iris-virginica':2 }  #2\n",
    "\n",
    "# Use the pandas apply method to numerically encode our attrition target variable\n",
    "df['Class'] = df['Class'].apply(lambda x: target_map[x])"
   ]
  },
  {
   "cell_type": "code",
   "execution_count": 5,
   "metadata": {
    "collapsed": true
   },
   "outputs": [],
   "source": [
    "# 从原始数据中分离输入特征x和输出y\n",
    "y = df['Class']\n",
    "\n",
    "#X = df.drop(['petal-length', 'petal-width', 'Class'], axis = 1)\n",
    "#X = df.drop(['Class'], axis = 1)\n",
    "#X = df[['sepal-length','sepal-length']]\n",
    "X = df.iloc[:, 2:]  # 只取前两维特征"
   ]
  },
  {
   "cell_type": "code",
   "execution_count": 6,
   "metadata": {
    "scrolled": true
   },
   "outputs": [
    {
     "data": {
      "text/plain": [
       "DecisionTreeClassifier(class_weight=None, criterion='gini', max_depth=3,\n",
       "            max_features=None, max_leaf_nodes=None,\n",
       "            min_impurity_decrease=0.0, min_impurity_split=None,\n",
       "            min_samples_leaf=1, min_samples_split=2,\n",
       "            min_weight_fraction_leaf=0.0, presort=False, random_state=None,\n",
       "            splitter='best')"
      ]
     },
     "execution_count": 6,
     "metadata": {},
     "output_type": "execute_result"
    }
   ],
   "source": [
    "from sklearn.tree import DecisionTreeClassifier\n",
    "\n",
    "clf = DecisionTreeClassifier(max_depth = 3)\n",
    "\n",
    "clf.fit(X, y)"
   ]
  },
  {
   "cell_type": "code",
   "execution_count": 8,
   "metadata": {
    "scrolled": true
   },
   "outputs": [
    {
     "name": "stdout",
     "output_type": "stream",
     "text": [
      "The binary tree structure has 5 nodes and has the following tree structure:\n",
      "node=0 test node: go to node 1 if X[:, 1] <= 0.800000011920929 else to node 2.\n",
      "\tnode=1 leaf node.\n",
      "\tnode=2 test node: go to node 3 if X[:, 2] <= 1.5 else to node 4.\n",
      "\t\tnode=3 leaf node.\n",
      "\t\tnode=4 leaf node.\n",
      "()\n"
     ]
    }
   ],
   "source": [
    "n_nodes = clf.tree_.node_count\n",
    "children_left = clf.tree_.children_left\n",
    "children_right = clf.tree_.children_right\n",
    "feature = clf.tree_.feature\n",
    "threshold = clf.tree_.threshold\n",
    "\n",
    "node_depth = np.zeros(shape=n_nodes, dtype=np.int64)\n",
    "is_leaves = np.zeros(shape=n_nodes, dtype=bool)\n",
    "stack = [(0, -1)]  # seed is the root node id and its parent depth\n",
    "while len(stack) > 0:\n",
    "    node_id, parent_depth = stack.pop()\n",
    "    node_depth[node_id] = parent_depth + 1\n",
    "\n",
    "    # If we have a test node\n",
    "    if (children_left[node_id] != children_right[node_id]):\n",
    "        stack.append((children_left[node_id], parent_depth + 1))\n",
    "        stack.append((children_right[node_id], parent_depth + 1))\n",
    "    else:\n",
    "        is_leaves[node_id] = True\n",
    "\n",
    "print(\"The binary tree structure has %s nodes and has \"\n",
    "      \"the following tree structure:\"\n",
    "      % n_nodes)\n",
    "\n",
    "for i in range(n_nodes):\n",
    "    if is_leaves[i]:\n",
    "        print(\"%snode=%s leaf node.\" % (node_depth[i] * \"\\t\", i))\n",
    "    else:\n",
    "        print(\"%snode=%s test node: go to node %s if X[:, %s] <= %s else to \"\n",
    "              \"node %s.\"\n",
    "              % (node_depth[i] * \"\\t\",\n",
    "                 i,\n",
    "                 children_left[i],\n",
    "                 feature[i],\n",
    "                 threshold[i],\n",
    "                 children_right[i],\n",
    "                 ))\n",
    "print()"
   ]
  },
  {
   "cell_type": "code",
   "execution_count": 9,
   "metadata": {
    "collapsed": true
   },
   "outputs": [],
   "source": [
    "YELLOW = '#fefecd'\n",
    "GREEN = '#cfe2d4'\n",
    "DARKBLUE = '#313695'\n",
    "BLUE = '#4575b4'\n",
    "DARKGREEN = '#006400'\n",
    "LIGHTORANGE = '#fee090'\n",
    "LIGHTBLUE = '#a6bddb'\n",
    "GREY = '#444443'\n",
    "WEDGE_COLOR = GREY\n",
    "\n",
    "HIGHLIGHT_COLOR = '#D67C03'\n",
    "\n",
    "color_blind_friendly_colors = [\n",
    "    None,  # 0 classes\n",
    "    None,  # 1 class\n",
    "    ['#FEFEBB', '#a1dab4'],  # 2 classes\n",
    "    ['#FEFEBB', '#D9E6F5', '#a1dab4'],  # 3 classes\n",
    "    ['#FEFEBB', '#D9E6F5', '#a1dab4', LIGHTORANGE],  # 4\n",
    "    ['#FEFEBB', '#D9E6F5', '#a1dab4', '#41b6c4', LIGHTORANGE],  # 5\n",
    "    ['#FEFEBB', '#c7e9b4', '#41b6c4', '#2c7fb8', LIGHTORANGE, '#f46d43'],  # 6\n",
    "    ['#FEFEBB', '#c7e9b4', '#7fcdbb', '#41b6c4', '#225ea8', '#fdae61', '#f46d43'],  # 7\n",
    "    ['#FEFEBB', '#edf8b1', '#c7e9b4', '#7fcdbb', '#1d91c0', '#225ea8', '#fdae61', '#f46d43'],  # 8\n",
    "    ['#FEFEBB', '#c7e9b4', '#41b6c4', '#74add1', BLUE, DARKBLUE, LIGHTORANGE, '#fdae61', '#f46d43'],  # 9\n",
    "    ['#FEFEBB', '#c7e9b4', '#41b6c4', '#74add1', BLUE, DARKBLUE, LIGHTORANGE, '#fdae61', '#f46d43', '#d73027']  # 10\n",
    "]\n",
    "\n",
    "\n",
    "COLORS = {'scatter_edge': GREY,\n",
    "          'scatter_marker': BLUE,\n",
    "          'scatter_marker_alpha': 0.5,\n",
    "          'tesselation_alpha': 0.3,\n",
    "          'tesselation_alpha_3D': 0.5,\n",
    "          'split_line': GREY,\n",
    "          'mean_line': '#f46d43',\n",
    "          'axis_label': GREY,\n",
    "          'title': GREY,\n",
    "          'legend_title': GREY,\n",
    "          'legend_edge': GREY,\n",
    "          'edge': GREY,\n",
    "          'color_map_min': '#c7e9b4',\n",
    "          'color_map_max': '#081d58',\n",
    "          'classes': color_blind_friendly_colors,\n",
    "          'rect_edge': GREY,\n",
    "          'text': GREY,\n",
    "          'highlight': HIGHLIGHT_COLOR,\n",
    "          'wedge': WEDGE_COLOR,\n",
    "          'text_wedge': WEDGE_COLOR,\n",
    "          'arrow': GREY,\n",
    "          'node_label': GREY,\n",
    "          'tick_label': GREY,\n",
    "          'leaf_label': GREY,\n",
    "          'pie': GREY,\n",
    "          'hist_bar': LIGHTBLUE\n",
    "          }"
   ]
  },
  {
   "cell_type": "code",
   "execution_count": 10,
   "metadata": {
    "scrolled": true
   },
   "outputs": [
    {
     "data": {
      "image/png": "[encoded data removed]",
      "text/plain": [
       "<matplotlib.figure.Figure at 0x1a155afc90>"
      ]
     },
     "metadata": {
      "needs_background": "light"
     },
     "output_type": "display_data"
    }
   ],
   "source": [
    "colors = COLORS\n",
    "color_values = colors['classes'][3]\n",
    "\n",
    "map_color = {0: '#FEFEBB', 1:'#D9E6F5', 2:'#a1dab4'}\n",
    "scatter_color = list(map(lambda x: map_color[x], df['Class']))\n",
    "\n",
    "#plt.scatter(df['petal-length'], df['petal-width'], c= color_values[df['Class']])\n",
    "plt.scatter( df['petal-length'], df['petal-width'],  marker='o', alpha=colors['scatter_marker_alpha'], c=scatter_color,edgecolor=GREY)\n",
    "\n",
    "plt.xlim(1.0, 6.9)\n",
    "plt.ylim(0.1, 2.5)\n",
    "plt.xticks([1, 4.85, 6.9])\n",
    "plt.yticks([0.1, 0.8, 1.75, 2.5])\n",
    "\n",
    "plt.hlines(0.8, xmin=1.0, xmax=6.9, colors=\"green\")\n",
    "\n",
    "plt.hlines(1.75, xmin=1.0, xmax=6.9, colors=\"green\")\n",
    "\n",
    "plt.vlines(4.949999809265137, ymin=0.8, ymax=1.75, colors=\"green\")\n",
    "\n",
    "plt.vlines(4.850000381469727, ymin=1.75, ymax=2.450000047683716, colors=\"green\")\n",
    "\n",
    "plt.annotate('R1', xy=(4,0.4), fontsize='xx-large')\n",
    "\n",
    "plt.annotate('R3', xy=(5.25,1.2), fontsize='xx-large')\n",
    "\n",
    "plt.annotate('R2', xy=(1.8,1.2), fontsize='xx-large')\n",
    "\n",
    "plt.annotate('R5', xy=(5.8, 2), fontsize='xx-large')\n",
    "\n",
    "plt.annotate('R4', xy=(2.5,2), fontsize='xx-large')\n",
    "\n",
    "plt.xlabel( u'花瓣宽度(petal length)',fontsize='xx-large')\n",
    "plt.ylabel(u'花瓣长度(petal width)', fontsize='xx-large')\n",
    "\n",
    "plt.show()"
   ]
  },
  {
   "cell_type": "code",
   "execution_count": null,
   "metadata": {
    "collapsed": true
   },
   "outputs": [],
   "source": []
  }
 ],
 "metadata": {
  "kernelspec": {
   "display_name": "Python 2",
   "language": "python",
   "name": "python2"
  },
  "language_info": {
   "codemirror_mode": {
    "name": "ipython",
    "version": 2
   },
   "file_extension": ".py",
   "mimetype": "text/x-python",
   "name": "python",
   "nbconvert_exporter": "python",
   "pygments_lexer": "ipython2",
   "version": "2.7.3"
  }
 },
 "nbformat": 4,
 "nbformat_minor": 2
}
