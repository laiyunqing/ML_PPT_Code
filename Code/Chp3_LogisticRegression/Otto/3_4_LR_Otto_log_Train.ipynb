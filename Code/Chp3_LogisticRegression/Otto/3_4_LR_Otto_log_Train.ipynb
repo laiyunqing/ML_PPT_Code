{
 "cells": [
  {
   "cell_type": "markdown",
   "metadata": {},
   "source": [
    "# Otto商品分类——Logistic 回归\n",
    "log特征"
   ]
  },
  {
   "cell_type": "markdown",
   "metadata": {},
   "source": [
    "我们以Kaggle 2015年举办的Otto Group Product Classification Challenge竞赛数据为例，分别调用缺省参数LogisticRegression、LogisticRegression + GridSearchCV以及LogisticRegressionCV进行参数调优。实际应用中LogisticRegression + GridSearchCV或LogisticRegressionCV任选一个即可。\n",
    "\n",
    "Otto数据集是著名电商Otto提供的一个多类商品分类问题，类别数=9. 每个样本有93维数值型特征（整数，表示某种事件发生的次数，已经进行过脱敏处理）。 竞赛官网：https://www.kaggle.com/c/otto-group-product-classification-challenge/data\n",
    "\n",
    "\n",
    "第一名：https://www.kaggle.com/c/otto-group-product-classification-challenge/discussion/14335\n",
    "第二名：http://blog.kaggle.com/2015/06/09/otto-product-classification-winners-interview-2nd-place-alexander-guschin/"
   ]
  },
  {
   "cell_type": "code",
   "execution_count": 1,
   "metadata": {
    "collapsed": true
   },
   "outputs": [],
   "source": [
    "# 首先 import 必要的模块\n",
    "import pandas as pd \n",
    "import numpy as np\n",
    "\n",
    "from sklearn.model_selection import GridSearchCV\n",
    "\n",
    "import matplotlib.pyplot as plt\n",
    "%matplotlib inline"
   ]
  },
  {
   "cell_type": "markdown",
   "metadata": {},
   "source": [
    "## 读取数据 & 数据探索"
   ]
  },
  {
   "cell_type": "code",
   "execution_count": 2,
   "metadata": {
    "scrolled": false
   },
   "outputs": [
    {
     "data": {
      "text/html": [
       "<div>\n",
       "<style>\n",
       "    .dataframe thead tr:only-child th {\n",
       "        text-align: right;\n",
       "    }\n",
       "\n",
       "    .dataframe thead th {\n",
       "        text-align: left;\n",
       "    }\n",
       "\n",
       "    .dataframe tbody tr th {\n",
       "        vertical-align: top;\n",
       "    }\n",
       "</style>\n",
       "<table border=\"1\" class=\"dataframe\">\n",
       "  <thead>\n",
       "    <tr style=\"text-align: right;\">\n",
       "      <th></th>\n",
       "      <th>id</th>\n",
       "      <th>feat_1_log</th>\n",
       "      <th>feat_2_log</th>\n",
       "      <th>feat_3_log</th>\n",
       "      <th>feat_4_log</th>\n",
       "      <th>feat_5_log</th>\n",
       "      <th>feat_6_log</th>\n",
       "      <th>feat_7_log</th>\n",
       "      <th>feat_8_log</th>\n",
       "      <th>feat_9_log</th>\n",
       "      <th>...</th>\n",
       "      <th>feat_85_log</th>\n",
       "      <th>feat_86_log</th>\n",
       "      <th>feat_87_log</th>\n",
       "      <th>feat_88_log</th>\n",
       "      <th>feat_89_log</th>\n",
       "      <th>feat_90_log</th>\n",
       "      <th>feat_91_log</th>\n",
       "      <th>feat_92_log</th>\n",
       "      <th>feat_93_log</th>\n",
       "      <th>target</th>\n",
       "    </tr>\n",
       "  </thead>\n",
       "  <tbody>\n",
       "    <tr>\n",
       "      <th>0</th>\n",
       "      <td>1</td>\n",
       "      <td>0.167949</td>\n",
       "      <td>0.0</td>\n",
       "      <td>0.0</td>\n",
       "      <td>0.000000</td>\n",
       "      <td>0.000000</td>\n",
       "      <td>0.000000</td>\n",
       "      <td>0.000000</td>\n",
       "      <td>0.000000</td>\n",
       "      <td>0.0</td>\n",
       "      <td>...</td>\n",
       "      <td>0.172195</td>\n",
       "      <td>0.000000</td>\n",
       "      <td>0.000000</td>\n",
       "      <td>0.0</td>\n",
       "      <td>0.0</td>\n",
       "      <td>0.000000</td>\n",
       "      <td>0.0</td>\n",
       "      <td>0.0</td>\n",
       "      <td>0.0</td>\n",
       "      <td>Class_1</td>\n",
       "    </tr>\n",
       "    <tr>\n",
       "      <th>1</th>\n",
       "      <td>2</td>\n",
       "      <td>0.000000</td>\n",
       "      <td>0.0</td>\n",
       "      <td>0.0</td>\n",
       "      <td>0.000000</td>\n",
       "      <td>0.000000</td>\n",
       "      <td>0.000000</td>\n",
       "      <td>0.000000</td>\n",
       "      <td>0.159571</td>\n",
       "      <td>0.0</td>\n",
       "      <td>...</td>\n",
       "      <td>0.000000</td>\n",
       "      <td>0.000000</td>\n",
       "      <td>0.000000</td>\n",
       "      <td>0.0</td>\n",
       "      <td>0.0</td>\n",
       "      <td>0.000000</td>\n",
       "      <td>0.0</td>\n",
       "      <td>0.0</td>\n",
       "      <td>0.0</td>\n",
       "      <td>Class_1</td>\n",
       "    </tr>\n",
       "    <tr>\n",
       "      <th>2</th>\n",
       "      <td>3</td>\n",
       "      <td>0.000000</td>\n",
       "      <td>0.0</td>\n",
       "      <td>0.0</td>\n",
       "      <td>0.000000</td>\n",
       "      <td>0.000000</td>\n",
       "      <td>0.000000</td>\n",
       "      <td>0.000000</td>\n",
       "      <td>0.159571</td>\n",
       "      <td>0.0</td>\n",
       "      <td>...</td>\n",
       "      <td>0.000000</td>\n",
       "      <td>0.000000</td>\n",
       "      <td>0.000000</td>\n",
       "      <td>0.0</td>\n",
       "      <td>0.0</td>\n",
       "      <td>0.000000</td>\n",
       "      <td>0.0</td>\n",
       "      <td>0.0</td>\n",
       "      <td>0.0</td>\n",
       "      <td>Class_1</td>\n",
       "    </tr>\n",
       "    <tr>\n",
       "      <th>3</th>\n",
       "      <td>4</td>\n",
       "      <td>0.167949</td>\n",
       "      <td>0.0</td>\n",
       "      <td>0.0</td>\n",
       "      <td>0.162608</td>\n",
       "      <td>0.649561</td>\n",
       "      <td>0.289065</td>\n",
       "      <td>0.489076</td>\n",
       "      <td>0.000000</td>\n",
       "      <td>0.0</td>\n",
       "      <td>...</td>\n",
       "      <td>0.000000</td>\n",
       "      <td>0.165443</td>\n",
       "      <td>0.260365</td>\n",
       "      <td>0.0</td>\n",
       "      <td>0.0</td>\n",
       "      <td>0.000000</td>\n",
       "      <td>0.0</td>\n",
       "      <td>0.0</td>\n",
       "      <td>0.0</td>\n",
       "      <td>Class_1</td>\n",
       "    </tr>\n",
       "    <tr>\n",
       "      <th>4</th>\n",
       "      <td>5</td>\n",
       "      <td>0.000000</td>\n",
       "      <td>0.0</td>\n",
       "      <td>0.0</td>\n",
       "      <td>0.000000</td>\n",
       "      <td>0.000000</td>\n",
       "      <td>0.000000</td>\n",
       "      <td>0.000000</td>\n",
       "      <td>0.000000</td>\n",
       "      <td>0.0</td>\n",
       "      <td>...</td>\n",
       "      <td>0.172195</td>\n",
       "      <td>0.000000</td>\n",
       "      <td>0.000000</td>\n",
       "      <td>0.0</td>\n",
       "      <td>0.0</td>\n",
       "      <td>0.142178</td>\n",
       "      <td>0.0</td>\n",
       "      <td>0.0</td>\n",
       "      <td>0.0</td>\n",
       "      <td>Class_1</td>\n",
       "    </tr>\n",
       "  </tbody>\n",
       "</table>\n",
       "<p>5 rows × 95 columns</p>\n",
       "</div>"
      ],
      "text/plain": [
       "   id  feat_1_log  feat_2_log  feat_3_log  feat_4_log  feat_5_log  feat_6_log  \\\n",
       "0   1    0.167949         0.0         0.0    0.000000    0.000000    0.000000   \n",
       "1   2    0.000000         0.0         0.0    0.000000    0.000000    0.000000   \n",
       "2   3    0.000000         0.0         0.0    0.000000    0.000000    0.000000   \n",
       "3   4    0.167949         0.0         0.0    0.162608    0.649561    0.289065   \n",
       "4   5    0.000000         0.0         0.0    0.000000    0.000000    0.000000   \n",
       "\n",
       "   feat_7_log  feat_8_log  feat_9_log   ...     feat_85_log  feat_86_log  \\\n",
       "0    0.000000    0.000000         0.0   ...        0.172195     0.000000   \n",
       "1    0.000000    0.159571         0.0   ...        0.000000     0.000000   \n",
       "2    0.000000    0.159571         0.0   ...        0.000000     0.000000   \n",
       "3    0.489076    0.000000         0.0   ...        0.000000     0.165443   \n",
       "4    0.000000    0.000000         0.0   ...        0.172195     0.000000   \n",
       "\n",
       "   feat_87_log  feat_88_log  feat_89_log  feat_90_log  feat_91_log  \\\n",
       "0     0.000000          0.0          0.0     0.000000          0.0   \n",
       "1     0.000000          0.0          0.0     0.000000          0.0   \n",
       "2     0.000000          0.0          0.0     0.000000          0.0   \n",
       "3     0.260365          0.0          0.0     0.000000          0.0   \n",
       "4     0.000000          0.0          0.0     0.142178          0.0   \n",
       "\n",
       "   feat_92_log  feat_93_log   target  \n",
       "0          0.0          0.0  Class_1  \n",
       "1          0.0          0.0  Class_1  \n",
       "2          0.0          0.0  Class_1  \n",
       "3          0.0          0.0  Class_1  \n",
       "4          0.0          0.0  Class_1  \n",
       "\n",
       "[5 rows x 95 columns]"
      ]
     },
     "execution_count": 2,
     "metadata": {},
     "output_type": "execute_result"
    }
   ],
   "source": [
    "# 读取数据\n",
    "# 请自行在log(x+1)特征和tf_idf特征上尝试，并比较不同特征的结果，\n",
    "# path to where the data lies\n",
    "dpath = './data/'\n",
    "train = pd.read_csv(dpath +\"Otto_FE_train_log.csv\")\n",
    "train.head()"
   ]
  },
  {
   "cell_type": "code",
   "execution_count": 3,
   "metadata": {
    "scrolled": false
   },
   "outputs": [
    {
     "name": "stdout",
     "output_type": "stream",
     "text": [
      "<class 'pandas.core.frame.DataFrame'>\n",
      "RangeIndex: 61878 entries, 0 to 61877\n",
      "Data columns (total 95 columns):\n",
      "id             61878 non-null int64\n",
      "feat_1_log     61878 non-null float64\n",
      "feat_2_log     61878 non-null float64\n",
      "feat_3_log     61878 non-null float64\n",
      "feat_4_log     61878 non-null float64\n",
      "feat_5_log     61878 non-null float64\n",
      "feat_6_log     61878 non-null float64\n",
      "feat_7_log     61878 non-null float64\n",
      "feat_8_log     61878 non-null float64\n",
      "feat_9_log     61878 non-null float64\n",
      "feat_10_log    61878 non-null float64\n",
      "feat_11_log    61878 non-null float64\n",
      "feat_12_log    61878 non-null float64\n",
      "feat_13_log    61878 non-null float64\n",
      "feat_14_log    61878 non-null float64\n",
      "feat_15_log    61878 non-null float64\n",
      "feat_16_log    61878 non-null float64\n",
      "feat_17_log    61878 non-null float64\n",
      "feat_18_log    61878 non-null float64\n",
      "feat_19_log    61878 non-null float64\n",
      "feat_20_log    61878 non-null float64\n",
      "feat_21_log    61878 non-null float64\n",
      "feat_22_log    61878 non-null float64\n",
      "feat_23_log    61878 non-null float64\n",
      "feat_24_log    61878 non-null float64\n",
      "feat_25_log    61878 non-null float64\n",
      "feat_26_log    61878 non-null float64\n",
      "feat_27_log    61878 non-null float64\n",
      "feat_28_log    61878 non-null float64\n",
      "feat_29_log    61878 non-null float64\n",
      "feat_30_log    61878 non-null float64\n",
      "feat_31_log    61878 non-null float64\n",
      "feat_32_log    61878 non-null float64\n",
      "feat_33_log    61878 non-null float64\n",
      "feat_34_log    61878 non-null float64\n",
      "feat_35_log    61878 non-null float64\n",
      "feat_36_log    61878 non-null float64\n",
      "feat_37_log    61878 non-null float64\n",
      "feat_38_log    61878 non-null float64\n",
      "feat_39_log    61878 non-null float64\n",
      "feat_40_log    61878 non-null float64\n",
      "feat_41_log    61878 non-null float64\n",
      "feat_42_log    61878 non-null float64\n",
      "feat_43_log    61878 non-null float64\n",
      "feat_44_log    61878 non-null float64\n",
      "feat_45_log    61878 non-null float64\n",
      "feat_46_log    61878 non-null float64\n",
      "feat_47_log    61878 non-null float64\n",
      "feat_48_log    61878 non-null float64\n",
      "feat_49_log    61878 non-null float64\n",
      "feat_50_log    61878 non-null float64\n",
      "feat_51_log    61878 non-null float64\n",
      "feat_52_log    61878 non-null float64\n",
      "feat_53_log    61878 non-null float64\n",
      "feat_54_log    61878 non-null float64\n",
      "feat_55_log    61878 non-null float64\n",
      "feat_56_log    61878 non-null float64\n",
      "feat_57_log    61878 non-null float64\n",
      "feat_58_log    61878 non-null float64\n",
      "feat_59_log    61878 non-null float64\n",
      "feat_60_log    61878 non-null float64\n",
      "feat_61_log    61878 non-null float64\n",
      "feat_62_log    61878 non-null float64\n",
      "feat_63_log    61878 non-null float64\n",
      "feat_64_log    61878 non-null float64\n",
      "feat_65_log    61878 non-null float64\n",
      "feat_66_log    61878 non-null float64\n",
      "feat_67_log    61878 non-null float64\n",
      "feat_68_log    61878 non-null float64\n",
      "feat_69_log    61878 non-null float64\n",
      "feat_70_log    61878 non-null float64\n",
      "feat_71_log    61878 non-null float64\n",
      "feat_72_log    61878 non-null float64\n",
      "feat_73_log    61878 non-null float64\n",
      "feat_74_log    61878 non-null float64\n",
      "feat_75_log    61878 non-null float64\n",
      "feat_76_log    61878 non-null float64\n",
      "feat_77_log    61878 non-null float64\n",
      "feat_78_log    61878 non-null float64\n",
      "feat_79_log    61878 non-null float64\n",
      "feat_80_log    61878 non-null float64\n",
      "feat_81_log    61878 non-null float64\n",
      "feat_82_log    61878 non-null float64\n",
      "feat_83_log    61878 non-null float64\n",
      "feat_84_log    61878 non-null float64\n",
      "feat_85_log    61878 non-null float64\n",
      "feat_86_log    61878 non-null float64\n",
      "feat_87_log    61878 non-null float64\n",
      "feat_88_log    61878 non-null float64\n",
      "feat_89_log    61878 non-null float64\n",
      "feat_90_log    61878 non-null float64\n",
      "feat_91_log    61878 non-null float64\n",
      "feat_92_log    61878 non-null float64\n",
      "feat_93_log    61878 non-null float64\n",
      "target         61878 non-null object\n",
      "dtypes: float64(93), int64(1), object(1)\n",
      "memory usage: 44.8+ MB\n"
     ]
    }
   ],
   "source": [
    "train.info()"
   ]
  },
  {
   "cell_type": "markdown",
   "metadata": {},
   "source": [
    "## 准备数据"
   ]
  },
  {
   "cell_type": "code",
   "execution_count": 4,
   "metadata": {
    "collapsed": true
   },
   "outputs": [],
   "source": [
    "y_train = train['target']   \n",
    "X_train = train.drop([\"id\", \"target\"], axis=1)\n",
    "\n",
    "#保存特征名字以备后用（可视化）\n",
    "feat_names = X_train.columns \n",
    "\n",
    "#sklearn的学习器大多之一稀疏数据输入，模型训练会快很多\n",
    "#查看一个学习器是否支持稀疏数据，可以看fit函数是否支持: X: {array-like, sparse matrix}.\n",
    "#可自行用timeit比较稠密数据和稀疏数据的训练时间\n",
    "from scipy.sparse import csr_matrix\n",
    "X_train = csr_matrix(X_train)"
   ]
  },
  {
   "cell_type": "markdown",
   "metadata": {},
   "source": [
    "## 默认参数的Logistic Regression"
   ]
  },
  {
   "cell_type": "code",
   "execution_count": 5,
   "metadata": {
    "collapsed": true
   },
   "outputs": [],
   "source": [
    "from sklearn.linear_model import LogisticRegression\n",
    "lr = LogisticRegression()"
   ]
  },
  {
   "cell_type": "code",
   "execution_count": 8,
   "metadata": {
    "scrolled": false
   },
   "outputs": [
    {
     "name": "stdout",
     "output_type": "stream",
     "text": [
      "logloss of each fold is:  [ 0.68515708  0.6861802   0.68082293]\n",
      "cv logloss is: 0.684053401541\n"
     ]
    }
   ],
   "source": [
    "# 交叉验证用于评估模型性能和进行参数调优（模型选择）\n",
    "#分类任务中交叉验证缺省是采用StratifiedKFold\n",
    "#数据集比较大，采用3折交叉验证\n",
    "from sklearn.model_selection import cross_val_score\n",
    "loss = cross_val_score(lr, X_train, y_train, cv=3, scoring='neg_log_loss')\n",
    "#%timeit loss_sparse = cross_val_score(lr, X_train_sparse, y_train, cv=3, scoring='neg_log_loss')\n",
    "print ('logloss of each fold is: ',-loss)\n",
    "print ('cv logloss is:', -loss.mean"
   ]
  },
  {
   "cell_type": "markdown",
   "metadata": {},
   "source": [
    "结果果然比用原始特征（0.797465616286）好很多"
   ]
  },
  {
   "cell_type": "markdown",
   "metadata": {},
   "source": [
    "### 正则化的 Logistic Regression及参数调优"
   ]
  },
  {
   "cell_type": "markdown",
   "metadata": {},
   "source": [
    "logistic回归的需要调整超参数有：C（正则系数，一般在log域（取log后的值）均匀设置候选参数）和正则函数penalty（L2/L1） \n",
    "目标函数为：J =  C* sum(logloss(f(xi), yi)) +* penalty \n",
    "\n",
    "在sklearn框架下，不同学习器的参数调整步骤相同：\n",
    "设置参数搜索范围\n",
    "生成GridSearchCV的实例（参数）\n",
    "调用GridSearchCV的fit方法"
   ]
  },
  {
   "cell_type": "code",
   "execution_count": 7,
   "metadata": {
    "scrolled": false
   },
   "outputs": [
    {
     "data": {
      "text/plain": [
       "GridSearchCV(cv=3, error_score='raise',\n",
       "       estimator=LogisticRegression(C=1.0, class_weight=None, dual=False, fit_intercept=True,\n",
       "          intercept_scaling=1, max_iter=100, multi_class='ovr', n_jobs=1,\n",
       "          penalty='l2', random_state=None, solver='liblinear', tol=0.0001,\n",
       "          verbose=0, warm_start=False),\n",
       "       fit_params=None, iid=True, n_jobs=1,\n",
       "       param_grid={'penalty': ['l1', 'l2'], 'C': [0.001, 0.01, 0.1, 1, 10, 100, 1000]},\n",
       "       pre_dispatch='2*n_jobs', refit=True, return_train_score='warn',\n",
       "       scoring='neg_log_loss', verbose=0)"
      ]
     },
     "execution_count": 7,
     "metadata": {},
     "output_type": "execute_result"
    }
   ],
   "source": [
    "from sklearn.model_selection import GridSearchCV\n",
    "from sklearn.linear_model import LogisticRegression\n",
    "\n",
    "#需要调优的参数\n",
    "# 请尝试将L1正则和L2正则分开，并配合合适的优化求解算法（slover）\n",
    "#tuned_parameters = {'penalty':['l1','l2'],\n",
    "#                   'C': [0.001, 0.01, 0.1, 1, 10, 100, 1000]\n",
    "#                   }\n",
    "penaltys = ['l1','l2']\n",
    "Cs = [0.001, 0.01, 0.1, 1, 10, 100, 1000]\n",
    "tuned_parameters = dict(penalty = penaltys, C = Cs)\n",
    "\n",
    "lr_penalty= LogisticRegression()\n",
    "grid= GridSearchCV(lr_penalty, tuned_parameters,cv=3, scoring='neg_log_loss')\n",
    "grid.fit(X_train,y_train)"
   ]
  },
  {
   "cell_type": "code",
   "execution_count": 9,
   "metadata": {
    "scrolled": true
   },
   "outputs": [
    {
     "name": "stdout",
     "output_type": "stream",
     "text": [
      "0.67736990448\n",
      "{'penalty': 'l2', 'C': 100}\n"
     ]
    }
   ],
   "source": [
    "# examine the best model\n",
    "print(-grid.best_score_)\n",
    "print(grid.best_params_)"
   ]
  },
  {
   "cell_type": "markdown",
   "metadata": {},
   "source": [
    "最佳值在候选参数的边缘，再尝试更大的候选参数，直到找到拐点。"
   ]
  },
  {
   "cell_type": "code",
   "execution_count": 10,
   "metadata": {},
   "outputs": [
    {
     "name": "stderr",
     "output_type": "stream",
     "text": [
      "/Users/qing/anaconda2/lib/python2.7/site-packages/sklearn/utils/deprecation.py:122: FutureWarning: You are accessing a training score ('mean_train_score'), which will not be available by default any more in 0.21. If you need training scores, please set return_train_score=True\n",
      "  warnings.warn(*warn_args, **warn_kwargs)\n",
      "/Users/qing/anaconda2/lib/python2.7/site-packages/sklearn/utils/deprecation.py:122: FutureWarning: You are accessing a training score ('std_train_score'), which will not be available by default any more in 0.21. If you need training scores, please set return_train_score=True\n",
      "  warnings.warn(*warn_args, **warn_kwargs)\n"
     ]
    },
    {
     "data": {
      "image/png": "[encoded data removed]",
      "text/plain": [
       "<matplotlib.figure.Figure at 0x1a13459a10>"
      ]
     },
     "metadata": {},
     "output_type": "display_data"
    }
   ],
   "source": [
    "#pd.DataFrame(grid.cv_results_).to_csv('LogisticGridSearchCV_Otto.csv')\n",
    "#cvresult = pd.DataFrame.from_csv('LogisticGridSearchCV_Otto.csv')\n",
    "#test_means = cv_results['mean_test_score']\n",
    "#test_stds = cv_results['std_test_score'] \n",
    "#train_means = cvresult['mean_train_score']\n",
    "#train_stds = cvresult['std_train_score'] \n",
    "\n",
    "\n",
    "# plot CV误差曲线\n",
    "test_means = grid.cv_results_[ 'mean_test_score' ]\n",
    "test_stds = grid.cv_results_[ 'std_test_score' ]\n",
    "train_means = grid.cv_results_[ 'mean_train_score' ]\n",
    "train_stds = grid.cv_results_[ 'std_train_score' ]\n",
    "\n",
    "\n",
    "# plot results\n",
    "n_Cs = len(Cs)\n",
    "number_penaltys = len(penaltys)\n",
    "test_scores = np.array(test_means).reshape(n_Cs,number_penaltys)\n",
    "train_scores = np.array(train_means).reshape(n_Cs,number_penaltys)\n",
    "test_stds = np.array(test_stds).reshape(n_Cs,number_penaltys)\n",
    "train_stds = np.array(train_stds).reshape(n_Cs,number_penaltys)\n",
    "\n",
    "x_axis = np.log10(Cs)\n",
    "for i, value in enumerate(penaltys):\n",
    "    #pyplot.plot(log(Cs), test_scores[i], label= 'penalty:'   + str(value))\n",
    "    plt.errorbar(x_axis, -test_scores[:,i], yerr=test_stds[:,i] ,label = penaltys[i] +' Test')\n",
    "    #plt.errorbar(x_axis, -train_scores[:,i], yerr=train_stds[:,i] ,label = penaltys[i] +' Train')\n",
    "    \n",
    "plt.legend()\n",
    "plt.xlabel( 'log(C)' )                                                                                                      \n",
    "plt.ylabel( 'logloss' )\n",
    "plt.savefig('LogisticGridSearchCV_C.png' )\n",
    "\n",
    "plt.show()"
   ]
  },
  {
   "cell_type": "markdown",
   "metadata": {},
   "source": [
    "上图给出了L1正则和L2正则下、不同正则参数C对应的模型在训练集上测试集上的logloss。可以看出在训练集上C越大（正则越少）的模型性能越好；但在测试集上当C=100时性能最好（L1正则）"
   ]
  },
  {
   "cell_type": "markdown",
   "metadata": {},
   "source": [
    "### 用LogisticRegressionCV实现正则化的 Logistic Regression"
   ]
  },
  {
   "cell_type": "markdown",
   "metadata": {},
   "source": [
    "### L1正则"
   ]
  },
  {
   "cell_type": "code",
   "execution_count": 13,
   "metadata": {
    "scrolled": false
   },
   "outputs": [
    {
     "data": {
      "text/plain": [
       "LogisticRegressionCV(Cs=[0.001, 0.01, 0.1, 1, 10, 100, 1000],\n",
       "           class_weight=None, cv=3, dual=False, fit_intercept=True,\n",
       "           intercept_scaling=1.0, max_iter=100, multi_class='ovr',\n",
       "           n_jobs=1, penalty='l1', random_state=None, refit=True,\n",
       "           scoring='neg_log_loss', solver='liblinear', tol=0.0001,\n",
       "           verbose=0)"
      ]
     },
     "execution_count": 13,
     "metadata": {},
     "output_type": "execute_result"
    }
   ],
   "source": [
    "from sklearn.linear_model import LogisticRegressionCV\n",
    "\n",
    "Cs = [1e-3, 1e-2, 1e-1, 1, 10, 100, 1000]\n",
    "#nCs = 9  #Cs values are chosen in a logarithmic scale between 1e-4 and 1e4.\n",
    "\n",
    "# 大量样本（6W+）、高维度（93），L1正则 --> 可选用saga优化求解器(0.19版本新功能)\n",
    "# LogisticRegressionCV比GridSearchCV快\n",
    "lrcv_L1 = LogisticRegressionCV(Cs=Cs, cv = 3, scoring='neg_log_loss', penalty='l1', solver='liblinear', multi_class='ovr')\n",
    "lrcv_L1.fit(X_train, y_train)    "
   ]
  },
  {
   "cell_type": "code",
   "execution_count": 14,
   "metadata": {
    "scrolled": false
   },
   "outputs": [
    {
     "data": {
      "text/plain": [
       "{'Class_1': array([[-0.14540941, -0.13888327, -0.11033725, -0.08749023, -0.08507874,\n",
       "         -0.08521415, -0.08524412],\n",
       "        [-0.14541674, -0.13889324, -0.11085722, -0.08637617, -0.0836447 ,\n",
       "         -0.08395953, -0.08400906],\n",
       "        [-0.14542407, -0.1389033 , -0.10961539, -0.08513374, -0.08210621,\n",
       "         -0.08207292, -0.08208421]]),\n",
       " 'Class_2': array([[-0.57507308, -0.45068348, -0.34931526, -0.32030421, -0.31669393,\n",
       "         -0.31659969, -0.31659842],\n",
       "        [-0.5750947 , -0.45161968, -0.34949774, -0.32071066, -0.31833695,\n",
       "         -0.31854972, -0.31858148],\n",
       "        [-0.57511632, -0.44816622, -0.34621376, -0.31954067, -0.31724365,\n",
       "         -0.31728877, -0.31729992]]),\n",
       " 'Class_3': array([[-0.38749796, -0.34550656, -0.28295377, -0.26357786, -0.26132108,\n",
       "         -0.26135071, -0.26136374],\n",
       "        [-0.38751797, -0.34476714, -0.2853468 , -0.26844802, -0.2666547 ,\n",
       "         -0.26663302, -0.26663829],\n",
       "        [-0.38753799, -0.345958  , -0.28507455, -0.26546101, -0.26289776,\n",
       "         -0.26297127, -0.26298316]]),\n",
       " 'Class_4': array([[-0.18415472, -0.17893305, -0.1464004 , -0.13108627, -0.12861342,\n",
       "         -0.12885358, -0.12891715],\n",
       "        [-0.18416452, -0.17894572, -0.14574117, -0.12915447, -0.12653613,\n",
       "         -0.12661015, -0.12666254],\n",
       "        [-0.18417431, -0.1789584 , -0.14722002, -0.13256127, -0.13008921,\n",
       "         -0.1301892 , -0.13022441]]),\n",
       " 'Class_5': array([[-0.18648008, -0.07880459, -0.03785669, -0.01959767, -0.01458579,\n",
       "         -0.01422857, -0.01448869],\n",
       "        [-0.18649002, -0.08068992, -0.04168659, -0.02229938, -0.01630894,\n",
       "         -0.01630374, -0.01660148],\n",
       "        [-0.18649996, -0.08324412, -0.04253587, -0.02253446, -0.01632   ,\n",
       "         -0.01552271, -0.01570203]]),\n",
       " 'Class_6': array([[-0.53896138, -0.22606402, -0.13831651, -0.11811352, -0.1183933 ,\n",
       "         -0.11870177, -0.11873754],\n",
       "        [-0.53898383, -0.22334704, -0.13362228, -0.10875925, -0.10683454,\n",
       "         -0.10683099, -0.10683452],\n",
       "        [-0.53895681, -0.22146801, -0.13126193, -0.10825376, -0.10690238,\n",
       "         -0.10708653, -0.10711044]]),\n",
       " 'Class_7': array([[-0.19136209, -0.17442254, -0.1274818 , -0.10595623, -0.10419447,\n",
       "         -0.10434829, -0.10437998],\n",
       "        [-0.19125602, -0.1737928 , -0.1283954 , -0.10997782, -0.10838408,\n",
       "         -0.10855415, -0.10857447],\n",
       "        [-0.19126625, -0.17360164, -0.12434223, -0.10261606, -0.09992786,\n",
       "         -0.09999191, -0.10001154]]),\n",
       " 'Class_8': array([[-0.40138531, -0.30024447, -0.136595  , -0.10852201, -0.10712896,\n",
       "         -0.10736753, -0.10739802],\n",
       "        [-0.40133013, -0.30120056, -0.13294125, -0.10269237, -0.10081911,\n",
       "         -0.1009001 , -0.10091663],\n",
       "        [-0.40135062, -0.29938001, -0.13476343, -0.10676062, -0.1048938 ,\n",
       "         -0.10500785, -0.10502702]]),\n",
       " 'Class_9': array([[-0.28236401, -0.2212519 , -0.11548552, -0.09069683, -0.08833885,\n",
       "         -0.08879295, -0.08887426],\n",
       "        [-0.2823794 , -0.22325211, -0.11742408, -0.09472103, -0.09206397,\n",
       "         -0.09216805, -0.09220315],\n",
       "        [-0.28229682, -0.22399186, -0.11796379, -0.09341746, -0.09053635,\n",
       "         -0.09056858, -0.09058582]])}"
      ]
     },
     "execution_count": 14,
     "metadata": {},
     "output_type": "execute_result"
    }
   ],
   "source": [
    "lrcv_L1.scores_"
   ]
  },
  {
   "cell_type": "code",
   "execution_count": 22,
   "metadata": {
    "scrolled": true
   },
   "outputs": [
    {
     "data": {
      "image/png": "[encoded data removed]",
      "text/plain": [
       "<matplotlib.figure.Figure at 0x107b65b90>"
      ]
     },
     "metadata": {},
     "output_type": "display_data"
    }
   ],
   "source": [
    "# scores_：dict with classes as the keys, and the values as the grid of scores obtained during cross-validating each fold,\n",
    "# Each dict value has shape (n_folds, len(Cs))\n",
    "Cs = [1e-3, 1e-2, 1e-1, 1, 10, 100, 1000]\n",
    "n_Cs = len(Cs)\n",
    "n_classes = 9\n",
    "scores =  np.zeros((n_classes,n_Cs))\n",
    "\n",
    "for j in range(n_classes):\n",
    "        scores[j][:] = np.mean(lrcv_L1.scores_['Class_'+ str(j+1)],axis = 0)\n",
    "    \n",
    "mse_mean = -np.mean(scores, axis = 0)\n",
    "plt.plot(np.log10(Cs), mse_mean.reshape(n_Cs,1)) \n",
    "#plt(np.log10(reg.Cs)*np.ones(3), [0.28, 0.29, 0.30])\n",
    "plt.xlabel('log(C)')\n",
    "plt.ylabel('logloss')\n",
    "plt.show()\n",
    "\n",
    "#print ('C is:',lr_cv.C_)  #对多类分类问题，每个类别的分类器有一个C\n"
   ]
  },
  {
   "cell_type": "code",
   "execution_count": 23,
   "metadata": {
    "scrolled": true
   },
   "outputs": [
    {
     "data": {
      "text/plain": [
       "array([ 0.32140535,  0.23499902,  0.16034243,  0.13795419,  0.13536477,\n",
       "        0.13543209,  0.13548341])"
      ]
     },
     "execution_count": 23,
     "metadata": {},
     "output_type": "execute_result"
    }
   ],
   "source": [
    "mse_mean"
   ]
  },
  {
   "cell_type": "markdown",
   "metadata": {},
   "source": [
    "这个score似乎和GridSearchCV得到的Score不一样:("
   ]
  },
  {
   "cell_type": "code",
   "execution_count": 24,
   "metadata": {},
   "outputs": [
    {
     "name": "stdout",
     "output_type": "stream",
     "text": [
      "10 0.135364772754\n"
     ]
    }
   ],
   "source": [
    "best_C = np.argmin(mse_mean)\n",
    "best_score = np.min(mse_mean)\n",
    "print Cs[best_C], best_score"
   ]
  },
  {
   "cell_type": "code",
   "execution_count": 15,
   "metadata": {},
   "outputs": [
    {
     "data": {
      "text/plain": [
       "array([[ -2.51316065e+00,  -1.29199566e+01,  -9.37230688e+00,\n",
       "         -5.40603619e+00,   2.56371207e+00,   1.65336573e+00,\n",
       "          2.26690516e+00,   2.42643066e+00,  -1.33485147e+01,\n",
       "         -8.08253281e-01,  -1.71897672e+01,  -1.50185630e+00,\n",
       "         -1.22908346e+01,  -1.12655999e+01,  -2.09018723e+01,\n",
       "         -2.77514248e+00,   7.50368922e+00,   1.06186144e+00,\n",
       "         -2.30960719e+01,   5.48268436e-01,  -1.23749439e+00,\n",
       "         -3.31197070e-01,   8.76871146e+00,   2.27109069e+01,\n",
       "         -1.13262520e+01,  -3.59171148e+00,  -6.42512388e+00,\n",
       "         -2.37279970e-01,  -8.69053041e+00,   1.46010503e+01,\n",
       "         -3.83070644e+01,   1.18183014e+00,  -6.67974464e+00,\n",
       "         -2.66144404e+01,  -2.18197998e+01,  -5.83634483e+00,\n",
       "          3.69565572e+00,  -4.22994154e+00,  -6.01830986e+00,\n",
       "         -1.66610540e+01,  -1.21963080e+01,  -1.23598061e+01,\n",
       "         -4.48857435e+01,   2.44238339e+00,  -1.24130235e+01,\n",
       "         -5.53599959e+00,  -1.03947386e+01,  -2.32707038e-01,\n",
       "         -2.39146804e+00,  -2.87451792e+01,   7.82591284e-01,\n",
       "         -5.21036335e+00,   4.86621353e+00,  -1.93300211e+00,\n",
       "          1.87708471e+00,  -6.79938771e+00,  -7.54110328e+00,\n",
       "         -6.73602168e+01,  -1.02434478e+01,  -7.51624329e+00,\n",
       "          4.32421286e+00,   4.84474845e-01,  -3.79643997e+00,\n",
       "         -7.60046049e+00,  -7.89458116e-01,   4.05704133e+00,\n",
       "          7.85045786e+00,  -2.52821534e+01,  -1.96398625e+01,\n",
       "          5.13900261e+00,   1.09141487e+00,  -6.24474384e+00,\n",
       "         -1.54734960e+00,  -4.90985583e+01,  -1.51829276e+01,\n",
       "          7.58310400e+00,   6.66319299e+00,  -1.16208160e+00,\n",
       "          1.41756649e+00,  -2.79469888e+00,   6.72167608e+00,\n",
       "         -7.76875378e+00,  -2.70273295e+00,   8.15577944e+00,\n",
       "          1.30603667e+00,  -1.06884093e+01,  -6.43805385e+00,\n",
       "         -1.76958546e+00,  -5.75999089e+00,  -3.26687767e+01,\n",
       "         -3.95996354e+00,   6.02441504e-01,  -1.80897997e+01,\n",
       "         -1.50664293e+01,  -1.63791856e-01,  -8.43626438e+00],\n",
       "       [ -4.38553519e-01,  -1.18467541e+01,  -6.10667419e+00,\n",
       "          4.47042895e-01,   2.43543763e+00,   6.94567637e-01,\n",
       "         -6.00452356e+00,  -8.48045280e+00,   2.43913227e+00,\n",
       "          5.28757750e-01,  -1.07255963e+01,   5.21412335e+00,\n",
       "         -1.91515443e+01,   2.11057398e+00,   3.13749138e+00,\n",
       "          1.20585818e+00,  -1.71074809e+01,  -2.32099728e-01,\n",
       "         -2.10975384e+01,  -4.74583590e+00,   3.76419653e-02,\n",
       "         -1.24117005e+00,  -2.41905032e+01,   1.19695479e+01,\n",
       "          2.66990952e+00,  -2.39477869e+01,  -2.84826338e+01,\n",
       "         -3.98057276e+00,  -3.13656559e+01,  -3.93796325e+01,\n",
       "         -5.20231056e+00,  -1.29196428e+01,   3.47730537e+00,\n",
       "         -1.28073014e+01,  -8.84667753e+00,  -2.81780796e+01,\n",
       "         -1.56947790e+00,   1.40938112e+00,  -1.15263146e+01,\n",
       "          2.36438355e+00,  -1.70009070e+01,  -1.74969293e+01,\n",
       "         -4.69490766e-01,  -1.48349416e+00,  -1.87244736e+00,\n",
       "         -7.51965784e+00,  -1.67706834e+01,   6.99879436e+00,\n",
       "         -2.49450210e+00,  -9.40236708e+00,  -2.01621556e+01,\n",
       "         -6.15630854e-01,  -1.25457533e+01,   2.51298207e+00,\n",
       "         -3.77918524e+00,  -6.12833150e+00,  -1.71474479e+01,\n",
       "         -1.48022898e+01,  -2.82198217e+01,  -1.20270982e+01,\n",
       "         -9.54649820e+00,  -1.36799518e+00,   6.57305219e+00,\n",
       "          4.02728141e+00,   2.69885816e+00,   1.51754014e+00,\n",
       "          5.33132905e+00,  -5.49368825e+01,  -6.59791742e+00,\n",
       "         -7.86986034e-01,  -1.18446484e+01,   2.04025081e+00,\n",
       "         -5.03389632e+00,   1.21418915e+01,  -2.85741755e+01,\n",
       "         -9.35416058e+00,   8.66798632e+00,  -2.87629904e+01,\n",
       "         -4.97084468e+00,  -7.96750460e+00,  -6.96113035e+00,\n",
       "         -2.43941624e-01,  -3.46185429e+00,  -6.44297199e+01,\n",
       "          3.73575514e-01,   8.08589175e-01,   9.02848793e-01,\n",
       "         -7.46468503e-01,   1.28911693e+00,  -3.51542222e+01,\n",
       "         -2.24444777e+01,   1.36563737e+00,  -1.90574374e+00,\n",
       "         -1.49460388e+01,  -9.19277491e+00,  -5.30121231e+00],\n",
       "       [ -5.32521168e+00,  -3.32433629e+00,  -5.06745401e+00,\n",
       "         -4.53113843e+00,  -4.38382495e+00,  -7.82279239e-01,\n",
       "         -7.66011174e+00,  -5.48963985e+00,   3.66719337e+00,\n",
       "         -1.70842083e+00,  -8.62057122e+00,  -3.06558943e+00,\n",
       "          7.73154357e-01,   2.24067953e+00,   2.37402527e+00,\n",
       "          2.19045846e+00,  -1.25205375e+01,  -2.25745049e+00,\n",
       "         -1.23214391e+00,  -4.28555775e+00,   5.46076219e-01,\n",
       "         -1.57508333e+00,   2.87479201e-02,   1.20641268e+01,\n",
       "         -4.09847552e-01,  -1.78872225e+01,   6.24037701e+00,\n",
       "         -3.36207630e+00,   3.67365227e+00,   1.26865209e+01,\n",
       "          1.98353436e+00,   1.39212024e+01,  -2.03492070e+00,\n",
       "         -8.16465008e+00,  -7.86901111e+00,  -2.30156767e+00,\n",
       "         -8.62971760e-01,   1.73797177e+00,  -6.05049127e+00,\n",
       "          3.68198987e+00,   1.57618720e-01,  -1.04974574e+01,\n",
       "          7.90603884e+00,  -7.52210199e-01,  -1.02548455e+01,\n",
       "         -1.51043632e-01,  -2.04887654e+01,  -1.71533733e+00,\n",
       "          0.00000000e+00,   4.98700164e-02,  -1.24041118e+01,\n",
       "         -6.48933685e-01,  -2.55488208e+00,  -8.53282201e-01,\n",
       "         -9.60962287e-01,   4.25376483e+00,  -1.43354891e+01,\n",
       "         -1.03342022e+01,  -1.71426325e+01,  -3.78274812e+01,\n",
       "         -7.77770239e+00,   8.68103964e-01,   1.43095144e+00,\n",
       "          5.51954705e+00,  -2.82151691e+00,  -1.18427610e+00,\n",
       "         -8.68410497e+00,  -9.50410677e+00,  -2.04022330e+01,\n",
       "          1.24199735e+00,   3.08968845e+00,  -4.02490353e-01,\n",
       "         -6.38876602e+01,  -3.85467362e+01,  -1.72859275e+01,\n",
       "         -1.58979825e+01,  -1.64462767e+01,  -3.21240019e+00,\n",
       "         -1.31835232e+00,   3.01794626e+00,  -2.94247486e+00,\n",
       "         -8.80985962e+00,   1.24622697e+01,  -5.88798508e+01,\n",
       "          4.75952795e+00,   5.31082289e+00,  -7.97313396e+00,\n",
       "          1.55619347e+00,   7.90042107e+00,  -2.23227127e+01,\n",
       "         -1.38493960e+01,  -1.41481464e+01,  -2.30590316e+01,\n",
       "         -1.99920094e+01,  -3.96713275e-01,  -2.60505573e+00],\n",
       "       [  9.38284159e+00,  -1.61321397e+01,  -1.60529594e+01,\n",
       "         -1.75539084e+01,   2.57670532e+00,   2.17063499e-01,\n",
       "         -6.53254788e+00,  -3.29911364e+00,  -8.00244260e+00,\n",
       "          1.97526299e+00,  -1.61963262e+01,  -8.81752041e+00,\n",
       "          1.99681265e+00,   1.29779362e+00,   6.78448841e+00,\n",
       "         -9.87522736e-01,  -1.45601695e+01,  -9.19440812e+00,\n",
       "          1.66961448e+00,   8.74377288e-01,  -2.24798182e+00,\n",
       "          6.70429564e-01,   1.84169874e+00,  -4.33397499e+01,\n",
       "          4.67251950e+00,   1.41364487e+01,   1.05348022e+00,\n",
       "         -7.95843281e+00,  -1.32002156e+01,  -2.28595749e+01,\n",
       "         -1.01392260e+01,  -1.04129857e+01,  -1.60584749e+00,\n",
       "         -7.16679989e+00,  -3.17084526e+01,  -1.93749652e-01,\n",
       "         -1.00494703e+00,  -2.38997378e+00,  -2.18574458e+01,\n",
       "          1.79393192e+00,  -2.82689542e+00,   3.88484242e+00,\n",
       "          1.30747555e+00,   1.89870277e+00,  -6.41572311e+00,\n",
       "         -1.91066202e+00,  -3.42339916e+01,  -8.69278964e+00,\n",
       "         -2.72429982e+01,  -6.22908007e+00,  -3.47989033e+01,\n",
       "          9.93695812e+00,  -1.94216821e+00,  -2.78803834e+00,\n",
       "         -1.37212251e+00,   5.18963578e+00,  -1.86137638e+01,\n",
       "         -6.09212510e+01,  -3.24934045e+01,  -8.47295316e-01,\n",
       "         -2.35258409e+01,  -1.80715736e+01,   5.34375713e+00,\n",
       "         -5.83958665e-01,  -7.71163730e+00,  -2.74037402e+00,\n",
       "         -1.93920138e+01,  -2.35623920e+00,   2.03290383e+00,\n",
       "         -1.70374673e-01,  -8.72264781e+00,  -3.48369312e-01,\n",
       "          1.53392201e+01,   3.25452887e+00,  -6.76543750e+00,\n",
       "         -3.90398959e+01,  -1.67267068e+01,  -6.35812159e+00,\n",
       "          2.13537467e+00,  -2.35751826e+00,  -1.05517159e+01,\n",
       "         -1.10253648e+01,  -8.63530721e+00,  -6.09509759e+01,\n",
       "          5.92526634e+00,   5.57006920e+00,   1.25700777e+01,\n",
       "          2.31066469e+00,  -9.78136777e+00,  -3.05428295e+01,\n",
       "          2.59809276e-01,   2.40418371e+00,  -3.78995874e+01,\n",
       "         -1.77937446e+01,  -1.21641805e+01,  -6.45052534e+00],\n",
       "       [ -1.28043892e+01,   3.43738636e+01,   4.46577853e+01,\n",
       "         -2.47071118e+00,  -4.28406907e+00,   3.92001942e-01,\n",
       "         -3.13668186e+01,   2.23107106e+01,   2.46594869e+01,\n",
       "         -1.73643073e+01,  -5.35767558e+01,   8.48577317e+00,\n",
       "          4.74402078e+01,  -1.13916099e+01,  -4.21306628e+00,\n",
       "          3.91534550e+00,  -6.10698077e+01,   1.10252467e+01,\n",
       "          3.49863280e+01,  -2.56901664e-02,  -1.19311449e+01,\n",
       "          7.67116365e+00,   6.82964888e+00,  -5.32276768e+00,\n",
       "         -1.54078094e+01,  -3.31638418e+01,  -3.02599423e+01,\n",
       "         -1.02055278e+01,  -3.70892283e+01,  -1.45057560e+02,\n",
       "          4.03885133e+01,   2.19726424e+01,   6.52345066e+00,\n",
       "          1.28931605e+02,  -2.12576300e+01,  -2.17884398e+01,\n",
       "         -1.16660731e+00,  -5.62359300e+00,  -2.16934304e+02,\n",
       "          1.46473037e+01,  -2.43431740e-01,  -1.31484341e+01,\n",
       "         -1.55764974e+02,  -7.11966899e+00,  -3.28253863e+01,\n",
       "         -3.68058982e+00,  -6.09715119e+01,  -2.40498676e+00,\n",
       "         -9.22898223e+00,  -5.73667309e+01,  -2.95068164e+01,\n",
       "         -7.51463451e+01,  -3.95065685e+00,  -1.30378582e+01,\n",
       "         -1.75900743e+01,  -3.35879321e+01,   1.81565222e+00,\n",
       "         -8.42439590e+01,  -1.66761764e+02,  -4.51106716e+01,\n",
       "         -1.99029765e+01,  -9.66328857e+00,  -3.35373898e+00,\n",
       "         -3.45794978e-01,   6.69490724e-01,   5.88647901e+00,\n",
       "          5.24076634e+00,  -1.85460294e+01,  -1.72224484e+01,\n",
       "         -1.72400558e+00,   9.89670471e+00,  -1.73947226e+01,\n",
       "         -3.13351950e+02,  -2.50534463e+01,  -1.08429009e+02,\n",
       "         -5.64734212e+01,  -2.39825379e+01,  -3.09752941e+01,\n",
       "          7.80526989e+00,   1.24300464e-01,  -2.32159016e+01,\n",
       "         -2.19923040e+01,  -1.62749046e+02,  -2.52726526e+02,\n",
       "          4.18981263e+00,  -5.58860751e+01,   8.48751742e+00,\n",
       "         -1.16316595e+01,  -2.09442363e+01,  -3.08877582e+01,\n",
       "         -3.28202995e+01,   4.42660423e+00,   4.01492237e+01,\n",
       "         -2.98908553e+02,  -4.16347557e+00,  -2.31862703e+00],\n",
       "       [  3.77999500e+00,   6.42746655e-01,   6.24750210e+00,\n",
       "          9.96776184e-01,  -6.33509538e+00,   3.13560000e-01,\n",
       "         -9.90193072e+00,  -5.81522562e+00,  -6.58029830e+00,\n",
       "         -3.15394424e+00,   2.82458713e+01,  -4.51222725e+00,\n",
       "          4.56342245e-01,  -1.03984164e+01,  -1.27711072e+01,\n",
       "         -9.94942106e-01,  -4.54084256e-01,   1.99980526e+00,\n",
       "         -1.81523731e+01,  -2.04555521e+00,  -6.71241593e-01,\n",
       "          1.05207988e-01,   2.96489779e+00,   3.20810035e+00,\n",
       "         -5.81651961e+00,   9.69591651e+00,   7.30103494e+00,\n",
       "         -1.22418958e+00,   5.80224447e+00,  -1.70984221e+01,\n",
       "          2.82570786e+00,  -1.68983168e+01,  -3.91659160e+00,\n",
       "         -2.29017033e+01,  -2.17529890e+01,  -6.95800303e+00,\n",
       "         -4.47638800e+00,  -6.64186077e+00,   9.86208763e-01,\n",
       "         -1.25740722e+01,  -6.28969636e+00,   1.90632725e+01,\n",
       "         -5.87482928e+00,   2.24456508e+00,   3.95246786e+00,\n",
       "          3.22907186e+00,   1.39476996e+00,  -5.72239669e+00,\n",
       "         -2.23329188e-01,   2.80871792e-01,  -1.98361428e+00,\n",
       "         -7.87291725e+00,  -1.50650393e+00,   1.90582631e+00,\n",
       "          2.27888777e-01,  -6.50626392e+00,   1.47921526e+01,\n",
       "         -1.34313159e+01,   2.96463343e+00,   1.50539472e+01,\n",
       "          9.42969454e+00,  -1.26166490e+01,  -3.23661639e-02,\n",
       "          6.64592950e+00,  -2.41846181e+00,  -1.32826084e+00,\n",
       "          4.28180787e-01,  -1.70670347e+01,  -9.75451478e+00,\n",
       "         -2.39603685e+00,  -6.16607922e+00,  -8.67426305e+00,\n",
       "         -1.88068343e+01,   2.08918598e+01,  -5.05336723e+00,\n",
       "         -9.69385727e+00,  -5.57629867e+00,  -3.18365733e+01,\n",
       "          1.78223686e+00,  -1.81005375e+00,  -2.66531322e+00,\n",
       "          1.43595177e+00,  -2.17341966e+00,  -1.64373327e+01,\n",
       "         -3.68115164e+00,  -2.86060156e+00,   6.12916819e+00,\n",
       "         -6.45178634e+00,  -9.09263528e+00,  -2.29154476e+01,\n",
       "         -5.43161194e-01,   7.98172309e-01,   2.99401063e+01,\n",
       "         -1.15521600e+01,  -4.03115413e+00,  -7.12067516e+00],\n",
       "       [ -7.52942617e-01,   1.02382427e+01,  -2.83261012e+00,\n",
       "         -1.98635365e+00,  -6.56988852e+00,  -6.59031604e-01,\n",
       "         -1.43180472e+00,  -1.49872870e+01,  -1.09315336e+01,\n",
       "          2.31792297e+00,  -5.26233327e+00,   2.90571409e+00,\n",
       "         -1.25818271e+01,  -3.95327487e+00,  -1.39808265e+01,\n",
       "          2.33903201e+00,   4.23544189e+00,  -1.92821454e+00,\n",
       "         -5.46738863e+00,  -2.16773520e+00,  -2.71648812e-01,\n",
       "         -2.09075511e+00,   1.90006274e+01,   2.50619928e+01,\n",
       "         -5.28073753e+00,  -7.35511972e+00,  -3.83142656e+01,\n",
       "         -1.38647007e+00,  -4.67279229e+00,  -1.32100534e+01,\n",
       "         -7.15545232e+00,   3.16809815e+01,  -3.08126771e+00,\n",
       "         -1.99408541e+01,  -3.06174884e+00,  -2.09037101e+01,\n",
       "          1.55440419e+00,   4.01606705e+00,   1.88920083e+01,\n",
       "         -1.02359257e+01,  -7.02715806e+00,  -7.38566312e+00,\n",
       "          4.80950852e-01,   8.11917983e-01,   1.17516733e+01,\n",
       "         -6.50708968e+00,   1.97041690e+00,   1.75380768e+00,\n",
       "          1.06793735e+01,   2.01030332e+01,   2.08331602e+00,\n",
       "          3.23026037e+00,  -6.05549023e+00,  -1.00883717e+00,\n",
       "         -4.22149277e-01,   1.62627468e+01,  -2.91971202e+00,\n",
       "         -1.44742770e+01,  -1.73425384e+00,  -3.65263470e+00,\n",
       "         -1.72514970e+01,  -1.30104969e+01,   2.67675615e+00,\n",
       "          5.54996165e+00,  -2.27839776e-01,   1.53485521e+00,\n",
       "          3.30148198e-01,  -1.56049048e+01,  -9.33259970e+00,\n",
       "          2.50561614e+00,   6.69379841e-01,  -3.95820556e+00,\n",
       "         -3.38051083e+01,  -6.52811335e+00,  -1.42144027e+01,\n",
       "         -7.35553442e+00,  -4.11141660e+00,  -4.59958386e+00,\n",
       "          6.05921519e-01,  -2.50332661e+00,   3.76516494e+00,\n",
       "         -1.76178141e+00,   8.21246174e+00,  -6.75816302e+01,\n",
       "          3.20884636e-01,   9.89899943e+00,  -3.94040656e-01,\n",
       "         -7.81452563e-01,  -4.19016283e+00,  -1.58071399e+01,\n",
       "          2.18475119e+00,  -4.70592035e+00,  -5.61560826e+00,\n",
       "         -5.80493159e+01,  -3.55420121e+00,  -5.55024847e+00],\n",
       "       [  3.32511464e+00,  -8.45133361e+00,  -7.60135563e+00,\n",
       "          3.20439663e+00,  -1.40296619e+00,  -3.80813262e-01,\n",
       "          3.42457550e+00,  -6.12158590e+00,  -1.64595028e+00,\n",
       "          2.44156410e+00,  -2.11701868e+01,   3.30002756e-01,\n",
       "          6.37678298e+00,  -1.04951527e+01,  -2.05488253e+01,\n",
       "         -2.42390374e+00,  -6.19455002e+00,  -1.33490608e+00,\n",
       "          2.40957272e+01,   4.65524269e+00,  -2.32196677e-01,\n",
       "         -2.21271630e-01,  -8.11077572e+00,   4.29003455e+00,\n",
       "         -2.70104595e+00,  -9.17226365e+00,  -5.56979904e+00,\n",
       "          4.35219745e+00,  -3.21735955e+00,  -9.53040587e+00,\n",
       "          8.33728682e+00,  -1.93401500e+01,   3.57713784e-01,\n",
       "         -2.31865733e+01,   3.22588519e+01,  -1.70745451e+01,\n",
       "          6.80484181e+00,   7.50170543e+00,  -2.19661297e+01,\n",
       "         -1.22367813e+01,   1.37305067e+00,  -1.20802193e+01,\n",
       "         -2.46771969e+01,  -1.03334439e+00,  -2.22249591e+01,\n",
       "          2.44456173e+00,   8.46040528e+00,  -8.91141208e+00,\n",
       "         -4.81137337e+00,  -1.16101504e+01,   3.81076654e+00,\n",
       "          1.70979519e+00,  -1.26123247e+01,   2.00583220e+00,\n",
       "         -2.38221507e+00,  -5.64216936e+00,  -7.31819946e+00,\n",
       "          2.30770457e+01,  -2.29270826e+01,  -1.35431223e+01,\n",
       "         -6.78730532e+00,  -2.54125875e+00,  -4.13713470e+00,\n",
       "          1.35956716e+00,   4.33803167e+00,   1.71489554e-01,\n",
       "          2.71732533e+00,   4.46069575e+01,   2.46165052e+01,\n",
       "         -4.20128576e-01,   7.81501006e+00,  -6.63604335e+00,\n",
       "          5.18103423e+01,   8.36648093e+00,   2.82973785e+01,\n",
       "          3.30091521e+00,  -1.31783231e+01,   1.25479727e+01,\n",
       "         -5.82375259e+00,   2.33540404e+00,   2.21167239e+00,\n",
       "         -4.80633620e+00,   3.34939231e+00,   1.32833665e+01,\n",
       "         -1.00807773e+01,  -2.78383183e+01,  -1.40784598e+01,\n",
       "         -6.25153134e+00,   6.46664344e+00,   3.97872941e+01,\n",
       "         -2.08249821e+01,  -2.20732092e+00,  -5.60823567e+00,\n",
       "         -1.30387341e+01,  -4.25301255e-01,  -4.94979837e+00],\n",
       "       [  5.31256628e+00,  -4.13417748e+00,  -1.99023934e+00,\n",
       "         -2.11138027e+00,  -2.74238172e+00,  -6.40307412e+00,\n",
       "         -5.17598706e+00,   9.03601350e+00,  -1.03513516e+01,\n",
       "         -4.79354918e+00,  -1.62966378e+01,  -7.17365637e+00,\n",
       "          8.99054408e+00,  -8.33241641e+00,  -1.46107611e+01,\n",
       "          1.08898453e+00,   3.01690039e+00,   8.80892075e-01,\n",
       "         -6.26260378e+00,  -4.48657668e+00,   2.12543750e+00,\n",
       "          4.42822357e+00,  -2.44426041e+01,  -8.82374902e+00,\n",
       "         -1.52875440e+00,  -3.33650276e+00,   2.63751988e+00,\n",
       "         -2.47231718e+00,   4.28986604e+00,   3.16551433e+01,\n",
       "          0.00000000e+00,  -1.10623705e-01,  -3.45867568e-01,\n",
       "         -2.31051798e+01,  -6.02717281e+00,   2.32642058e+01,\n",
       "         -8.00009952e+00,  -8.43061620e+00,  -1.46650304e+01,\n",
       "         -1.54381402e+01,   1.22460545e+01,  -1.01596564e+01,\n",
       "         -2.92938637e+01,   1.58430694e-01,  -5.34895737e+01,\n",
       "         -1.06570430e+01,  -2.10506384e+01,   1.46698843e+00,\n",
       "         -6.33422440e+00,  -1.23514413e+01,   1.74439959e+00,\n",
       "          1.08697452e+00,   1.14293874e+01,  -1.53171175e+00,\n",
       "         -2.85789761e+00,   5.52391222e+00,  -7.48962459e+00,\n",
       "         -1.13340786e+01,   3.06732470e+01,  -1.14489436e+01,\n",
       "         -8.20132675e+00,   1.82859663e+01,  -9.64949374e-01,\n",
       "         -1.63826221e+01,  -5.47282300e+00,   3.17834963e+00,\n",
       "          1.27043528e+01,  -7.20785613e+00,  -1.73861404e+01,\n",
       "         -5.53424191e+00,  -5.81169541e+00,  -6.04547977e+00,\n",
       "         -2.26453980e+01,   9.11870892e+00,  -1.27832606e+00,\n",
       "         -3.60131663e+00,   6.75577914e+00,  -1.25419581e+01,\n",
       "          8.41012535e-01,  -1.27177740e+00,  -8.99319772e+00,\n",
       "          5.96719443e+00,   9.85086548e+00,  -8.38845623e+01,\n",
       "         -2.71122794e+00,  -6.65325843e+00,   5.86061412e+00,\n",
       "         -1.20264416e+01,   8.68473709e+00,  -1.57246179e+01,\n",
       "          1.42313909e+01,   3.77096716e+00,  -1.17457229e+01,\n",
       "         -4.80720679e+01,  -4.16243238e+00,  -2.99146624e+00]])"
      ]
     },
     "execution_count": 15,
     "metadata": {},
     "output_type": "execute_result"
    }
   ],
   "source": [
    "lrcv_L1.coef_"
   ]
  },
  {
   "cell_type": "markdown",
   "metadata": {},
   "source": [
    "## 保存模型，用于后续测试"
   ]
  },
  {
   "cell_type": "code",
   "execution_count": 12,
   "metadata": {
    "collapsed": true
   },
   "outputs": [],
   "source": [
    "import cPickle\n",
    "\n",
    "cPickle.dump(grid.best_estimator_, open(\"Otto_L2_log.pkl\", 'wb'))"
   ]
  }
 ],
 "metadata": {
  "kernelspec": {
   "display_name": "Python 2",
   "language": "python",
   "name": "python2"
  },
  "language_info": {
   "codemirror_mode": {
    "name": "ipython",
    "version": 2
   },
   "file_extension": ".py",
   "mimetype": "text/x-python",
   "name": "python",
   "nbconvert_exporter": "python",
   "pygments_lexer": "ipython2",
   "version": "2.7.3"
  }
 },
 "nbformat": 4,
 "nbformat_minor": 2
}
