{
 "cells": [
  {
   "cell_type": "markdown",
   "metadata": {},
   "source": [
    "# Otto商品分类——XGBoost训练\n",
    "原始特征"
   ]
  },
  {
   "cell_type": "markdown",
   "metadata": {},
   "source": [
    "我们以Kaggle 2015年举办的Otto Group Product Classification Challenge竞赛数据为例，进行XGBoost参数调优探索。\n",
    "Otto数据集是著名电商Otto提供的一个多类商品分类问题，类别数=9. 每个样本有93维数值型特征（整数，表示某种事件发生的次数，已经进行过脱敏处理）。 \n",
    "\n",
    "竞赛官网：https://www.kaggle.com/c/otto-group-product-classification-challenge/data"
   ]
  },
  {
   "cell_type": "markdown",
   "metadata": {},
   "source": [
    "XGBoost的主要超参数包括：\n",
    "1. 树的数目n_estimators 和 学习率 learning_rate\n",
    "2. 树的最大深度max_depth\n",
    "3. 叶子结点的最小样本数:min_child_weight\n",
    "4. 每棵树的列采样比例：colsample_bytree\n",
    "5. 每棵树的行采样比例：subsample\n",
    "6. 正则化参数lambda_l1(reg_alpha), lambda_l2(reg_lambda)\n",
    "\n",
    "对n_estimators，XGBoost学习的过程内嵌了cv，速度快。\n",
    "其他参数用GridSearchCV。"
   ]
  },
  {
   "cell_type": "markdown",
   "metadata": {},
   "source": [
    "## 首先 import 必要的模块"
   ]
  },
  {
   "cell_type": "code",
   "execution_count": 1,
   "metadata": {
    "collapsed": true
   },
   "outputs": [],
   "source": [
    "from xgboost import XGBClassifier\n",
    "import xgboost as xgb\n",
    "\n",
    "from sklearn.model_selection import GridSearchCV\n",
    "\n",
    "import pandas as pd \n",
    "import numpy as np\n",
    "\n",
    "import matplotlib.pyplot as plt\n",
    "%matplotlib inline"
   ]
  },
  {
   "cell_type": "markdown",
   "metadata": {},
   "source": [
    "## 读取数据"
   ]
  },
  {
   "cell_type": "code",
   "execution_count": 38,
   "metadata": {
    "collapsed": true,
    "scrolled": true
   },
   "outputs": [],
   "source": [
    "# path to where the data lies\n",
    "dpath = './data/'\n",
    "train = pd.read_csv(dpath +\"Otto_train.csv\")\n",
    "#train.head()"
   ]
  },
  {
   "cell_type": "code",
   "execution_count": 39,
   "metadata": {
    "collapsed": true
   },
   "outputs": [],
   "source": [
    "# drop ids and get labels\n",
    "y_train = train['target']\n",
    "\n",
    "#XGBoost只接受数字型标签\n",
    "y_train = y_train.map(lambda s: s[6:])\n",
    "y_train = y_train.map(lambda s: int(s)-1)\n",
    "\n",
    "X_train = train.drop([\"id\", \"target\"], axis=1)\n",
    "\n",
    "#保存特征名字以备后用（可视化）\n",
    "feat_names = X_train.columns \n",
    "\n",
    "#sklearn的学习器大多之一稀疏数据输入，模型训练会快很多\n",
    "#查看一个学习器是否支持稀疏数据，可以看fit函数是否支持: X: {array-like, sparse matrix}.\n",
    "#可自行用timeit比较稠密数据和稀疏数据的训练时间\n",
    "from scipy.sparse import csr_matrix\n",
    "X_train = csr_matrix(X_train)"
   ]
  },
  {
   "cell_type": "markdown",
   "metadata": {},
   "source": [
    "### 不同参数调优用相同的交叉验证数据分折"
   ]
  },
  {
   "cell_type": "code",
   "execution_count": 4,
   "metadata": {
    "collapsed": true
   },
   "outputs": [],
   "source": [
    "# prepare cross validation\n",
    "from sklearn.model_selection import StratifiedKFold\n",
    "kfold = StratifiedKFold(n_splits=3, shuffle=True, random_state=3)"
   ]
  },
  {
   "cell_type": "markdown",
   "metadata": {},
   "source": [
    "## 第一步：学习率为0.1，粗调基学习器的数目n_estimators"
   ]
  },
  {
   "cell_type": "code",
   "execution_count": 27,
   "metadata": {
    "collapsed": true
   },
   "outputs": [],
   "source": [
    "MAX_ROUNDS = 10000\n",
    "\n",
    "#直接调用xgboost内嵌的交叉验证（cv），可对连续的n_estimators参数进行快速交叉验证\n",
    "#而GridSearchCV只能对有限个参数进行交叉验证\n",
    "def get_n_estimators(params, X_train , y_train , early_stopping_rounds=10):\n",
    "    xgb_params = params.copy()\n",
    "    \n",
    "    #准备数据\n",
    "    xgb_train = xgb.DMatrix(X_train, label = y_train)\n",
    "        \n",
    "    #模型训练/超参数调优    \n",
    "    cvresult = xgb.cv(xgb_params, xgb_train, num_boost_round=MAX_ROUNDS, nfold=3,\n",
    "             metrics='mlogloss', early_stopping_rounds=early_stopping_rounds,seed=3)\n",
    "  \n",
    "    cvresult.to_csv('1_nestimators.csv', index_label = 'n_estimators')\n",
    "    \n",
    "    #最佳参数n_estimators\n",
    "    n_estimators = cvresult.shape[0]\n",
    "    \n",
    "         \n",
    "    print('best n_estimators:' , n_estimators)\n",
    "    print('best cv score:' , cvresult['test-mlogloss-mean'][n_estimators-1])\n",
    "     \n",
    "    return n_estimators"
   ]
  },
  {
   "cell_type": "code",
   "execution_count": null,
   "metadata": {
    "collapsed": true
   },
   "outputs": [],
   "source": [
    "#初始参数\n",
    "params = {'learning_rate': 0.1,\n",
    "          #'n_estimators': 1000\n",
    "          'min_child_weight': 1,\n",
    "          'max_depth': 5,\n",
    "          'subsample': 0.7,\n",
    "          'colsample_bytree': 0.7,\n",
    "          'objective': 'multi:softprob',\n",
    "          'num_class':9,\n",
    "          'n_jobs': 4\n",
    "         }\n",
    "\n",
    "n_estimators_1 = get_n_estimators(params , X_train , y_train)"
   ]
  },
  {
   "cell_type": "markdown",
   "metadata": {},
   "source": [
    "## 第二步：调整树的参数：max_depth & min_child_weight"
   ]
  },
  {
   "cell_type": "markdown",
   "metadata": {},
   "source": [
    "这两个参数尽可能一起调，因为max_depth和min_child_weight都直接影响树模型的复杂度。\n",
    "如果计算资源有限，也可类似坐标轴下降，先调其中一个，然后调另一个。\n",
    "如果是分类任务，且不同类的样本数目不均衡，最好先调min_child_weight，以免max_depth对少数类样本过拟合。"
   ]
  },
  {
   "cell_type": "markdown",
   "metadata": {},
   "source": [
    "### 粗调，参数的步长为2"
   ]
  },
  {
   "cell_type": "markdown",
   "metadata": {},
   "source": [
    "#### 设置参数搜索范围"
   ]
  },
  {
   "cell_type": "code",
   "execution_count": 7,
   "metadata": {
    "collapsed": true,
    "scrolled": true
   },
   "outputs": [],
   "source": [
    "#max_depth 建议3-10， min_child_weight=1／sqrt(ratio_rare_event) =5.5\n",
    "max_depth = range(5,10,2)\n",
    "min_child_weight = range(1,6,2)\n",
    "tuned_params = dict(max_depth=max_depth, min_child_weight=min_child_weight)"
   ]
  },
  {
   "cell_type": "markdown",
   "metadata": {},
   "source": [
    "#### 设置其他参数值\n",
    "第一轮参数调整得到的n_estimators最优值（636），其余参数继续默认值"
   ]
  },
  {
   "cell_type": "code",
   "execution_count": null,
   "metadata": {
    "collapsed": true
   },
   "outputs": [],
   "source": [
    "params = {'learning_rate': 0.1,\n",
    "          'n_estimators': 636,   #第一轮参数调整得到的n_estimators最优值\n",
    "          #'min_child_weight': 1,\n",
    "          #'max_depth': 5,\n",
    "          'subsample': 0.7,\n",
    "          'colsample_bytree': 0.7,\n",
    "          #'tree_method':'hist',\n",
    "          #'max_bin':127,\n",
    "          'objective': 'multi:softprob',\n",
    "          'nthread': 4\n",
    "         }\n",
    "\n",
    "xgb_g = XGBClassifier(silent=False,  **params)"
   ]
  },
  {
   "cell_type": "markdown",
   "metadata": {},
   "source": [
    "#### 交叉验证 GridSearchCV\n",
    "等待（XGBoost在特征数目少一倍的情况下，一次fit的时间差不多是和LightGBM的两倍）"
   ]
  },
  {
   "cell_type": "markdown",
   "metadata": {},
   "source": [
    "用交叉验证评价模型性能时，用scoring参数定义评价指标。评价指标是越高越好，因此用一些损失函数当评价指标时，需要再加负号，如neg_log_loss，neg_mean_squared_error \n",
    "详见sklearn文档：http://scikit-learn.org/stable/modules/model_evaluation.html#log-loss"
   ]
  },
  {
   "cell_type": "code",
   "execution_count": 14,
   "metadata": {
    "scrolled": true
   },
   "outputs": [
    {
     "name": "stdout",
     "output_type": "stream",
     "text": [
      "Fitting 3 folds for each of 9 candidates, totalling 27 fits\n",
      "[CV] max_depth=5, min_child_weight=1 .................................\n",
      "[CV] max_depth=5, min_child_weight=1 .................................\n",
      "[CV] max_depth=5, min_child_weight=1 .................................\n",
      "[CV] max_depth=5, min_child_weight=3 .................................\n",
      "[CV]  max_depth=5, min_child_weight=1, score=-0.485512125446, total= 5.8min\n",
      "[CV] max_depth=5, min_child_weight=3 .................................\n",
      "[CV]  max_depth=5, min_child_weight=3, score=-0.473845466821, total= 5.8min\n",
      "[CV] max_depth=5, min_child_weight=3 .................................\n",
      "[CV]  max_depth=5, min_child_weight=1, score=-0.473514989822, total= 5.8min\n",
      "[CV] max_depth=5, min_child_weight=5 .................................\n",
      "[CV]  max_depth=5, min_child_weight=1, score=-0.482563729466, total= 5.8min\n",
      "[CV] max_depth=5, min_child_weight=5 .................................\n",
      "[CV]  max_depth=5, min_child_weight=5, score=-0.481682384189, total= 5.5min\n",
      "[CV] max_depth=5, min_child_weight=5 .................................\n",
      "[CV]  max_depth=5, min_child_weight=5, score=-0.477041526976, total= 5.5min\n",
      "[CV] max_depth=7, min_child_weight=1 .................................\n",
      "[CV]  max_depth=5, min_child_weight=3, score=-0.481352269877, total= 5.7min\n",
      "[CV] max_depth=7, min_child_weight=1 .................................\n",
      "[CV]  max_depth=5, min_child_weight=3, score=-0.484885784203, total= 6.0min\n",
      "[CV] max_depth=7, min_child_weight=1 .................................\n",
      "[CV]  max_depth=5, min_child_weight=5, score=-0.485568414691, total= 5.5min\n",
      "[CV] max_depth=7, min_child_weight=3 .................................\n",
      "[CV]  max_depth=7, min_child_weight=1, score=-0.493272783938, total= 7.6min\n",
      "[CV] max_depth=7, min_child_weight=3 .................................\n"
     ]
    },
    {
     "name": "stderr",
     "output_type": "stream",
     "text": [
      "[Parallel(n_jobs=4)]: Done  10 tasks      | elapsed: 21.4min\n"
     ]
    },
    {
     "name": "stdout",
     "output_type": "stream",
     "text": [
      "[CV]  max_depth=7, min_child_weight=1, score=-0.503130429303, total= 7.5min\n",
      "[CV] max_depth=7, min_child_weight=3 .................................\n",
      "[CV]  max_depth=7, min_child_weight=1, score=-0.507058924646, total= 7.7min\n",
      "[CV] max_depth=7, min_child_weight=5 .................................\n",
      "[CV]  max_depth=7, min_child_weight=3, score=-0.48391583136, total= 8.0min\n",
      "[CV] max_depth=7, min_child_weight=5 .................................\n",
      "[CV]  max_depth=7, min_child_weight=3, score=-0.497244434862, total= 7.8min\n",
      "[CV] max_depth=7, min_child_weight=5 .................................\n",
      "[CV]  max_depth=7, min_child_weight=5, score=-0.479057997648, total= 7.8min\n",
      "[CV] max_depth=9, min_child_weight=1 .................................\n",
      "[CV]  max_depth=7, min_child_weight=3, score=-0.487922322336, total= 8.1min\n",
      "[CV] max_depth=9, min_child_weight=1 .................................\n",
      "[CV]  max_depth=7, min_child_weight=5, score=-0.48444741855, total= 7.8min\n",
      "[CV] max_depth=9, min_child_weight=1 .................................\n",
      "[CV]  max_depth=7, min_child_weight=5, score=-0.490038170606, total= 7.5min\n",
      "[CV] max_depth=9, min_child_weight=3 .................................\n",
      "[CV]  max_depth=9, min_child_weight=1, score=-0.525265651469, total= 9.6min\n",
      "[CV] max_depth=9, min_child_weight=3 .................................\n",
      "[CV]  max_depth=9, min_child_weight=1, score=-0.531587451389, total= 9.6min\n",
      "[CV] max_depth=9, min_child_weight=3 .................................\n",
      "[CV]  max_depth=9, min_child_weight=1, score=-0.534915294589, total= 9.8min\n",
      "[CV] max_depth=9, min_child_weight=5 .................................\n",
      "[CV]  max_depth=9, min_child_weight=3, score=-0.500283061721, total= 9.7min\n",
      "[CV] max_depth=9, min_child_weight=5 .................................\n",
      "[CV]  max_depth=9, min_child_weight=3, score=-0.514853903477, total= 9.5min\n",
      "[CV] max_depth=9, min_child_weight=5 .................................\n",
      "[CV]  max_depth=9, min_child_weight=3, score=-0.506566455272, total= 9.6min\n",
      "[CV]  max_depth=9, min_child_weight=5, score=-0.491919696272, total= 8.4min\n",
      "[CV]  max_depth=9, min_child_weight=5, score=-0.498933776121, total= 7.5min\n",
      "[CV]  max_depth=9, min_child_weight=5, score=-0.505688014513, total= 5.9min\n"
     ]
    },
    {
     "name": "stderr",
     "output_type": "stream",
     "text": [
      "[Parallel(n_jobs=4)]: Done  27 out of  27 | elapsed: 57.8min finished\n"
     ]
    },
    {
     "data": {
      "text/plain": [
       "({'max_depth': 5, 'min_child_weight': 3}, -0.48002748345913354)"
      ]
     },
     "execution_count": 14,
     "metadata": {},
     "output_type": "execute_result"
    }
   ],
   "source": [
    "grid_search = GridSearchCV(xgb_g, param_grid = tuned_params, scoring='neg_log_loss',n_jobs=4, cv=kfold,verbose=5, refit = False)\n",
    "grid_search.fit(X_train , y_train)"
   ]
  },
  {
   "cell_type": "markdown",
   "metadata": {},
   "source": [
    "#### 交叉验证结果可视化"
   ]
  },
  {
   "cell_type": "code",
   "execution_count": 20,
   "metadata": {
    "scrolled": true
   },
   "outputs": [
    {
     "name": "stdout",
     "output_type": "stream",
     "text": [
      "Best: -0.480027 using {'max_depth': 5, 'min_child_weight': 3}\n"
     ]
    },
    {
     "data": {
      "image/png": "[encoded data removed]",
      "text/plain": [
       "<matplotlib.figure.Figure at 0x110738610>"
      ]
     },
     "metadata": {},
     "output_type": "display_data"
    }
   ],
   "source": [
    "# summarize results\n",
    "print(\"Best: %f using %s\" % (grid_search.best_score_, grid_search.best_params_))\n",
    "test_means = grid_search.cv_results_[ 'mean_test_score' ]\n",
    "#test_stds = grid_search.cv_results_[ 'std_test_score' ]\n",
    "#train_means = grid_search.cv_results_[ 'mean_train_score' ]\n",
    "#train_stds = grid_search.cv_results_[ 'std_train_score' ]\n",
    "\n",
    "pd.DataFrame(grid_search.cv_results_).to_csv('maxdepth_min_child_weights_1.csv')\n",
    "\n",
    "# plot results\n",
    "test_scores = np.array(test_means).reshape(len(max_depth), len(min_child_weight))\n",
    "#train_scores = np.array(train_means).reshape(len(max_depth), len(min_child_weight))\n",
    "\n",
    "for i, value in enumerate(max_depth):\n",
    "    plt.plot(min_child_weight, -test_scores[i], label= 'test_max_depth:'   + str(value))\n",
    "\n",
    "plt.legend()\n",
    "plt.xlabel( 'min_child_weight' )                                                                                                      \n",
    "plt.ylabel( 'Log Loss' )\n",
    "plt.savefig('max_depth_and_min_child_weght_1.png' )"
   ]
  },
  {
   "cell_type": "markdown",
   "metadata": {},
   "source": [
    "### 微调，参数的步长为1"
   ]
  },
  {
   "cell_type": "code",
   "execution_count": 21,
   "metadata": {
    "collapsed": true
   },
   "outputs": [],
   "source": [
    "#step=1，继续微调\n",
    "max_depth = range(4,7,1) #4，5，6\n",
    "min_child_weight = range(2,5,1)  #2，3，4\n",
    "tuned_params = dict(max_depth=max_depth, min_child_weight=min_child_weight)"
   ]
  },
  {
   "cell_type": "code",
   "execution_count": 22,
   "metadata": {},
   "outputs": [
    {
     "name": "stdout",
     "output_type": "stream",
     "text": [
      "Fitting 3 folds for each of 9 candidates, totalling 27 fits\n",
      "[CV] max_depth=4, min_child_weight=2 .................................\n",
      "[CV] max_depth=4, min_child_weight=2 .................................\n",
      "[CV] max_depth=4, min_child_weight=2 .................................\n",
      "[CV] max_depth=4, min_child_weight=3 .................................\n",
      "[CV]  max_depth=4, min_child_weight=2, score=-0.489539473449, total= 4.6min\n",
      "[CV] max_depth=4, min_child_weight=3 .................................\n",
      "[CV]  max_depth=4, min_child_weight=3, score=-0.484778810571, total= 4.6min\n",
      "[CV] max_depth=4, min_child_weight=3 .................................\n",
      "[CV]  max_depth=4, min_child_weight=2, score=-0.485230050286, total= 4.8min\n",
      "[CV]  max_depth=4, min_child_weight=2, score=-0.493611367402, total= 4.8min\n",
      "[CV] max_depth=4, min_child_weight=4 .................................\n",
      "[CV] max_depth=4, min_child_weight=4 .................................\n",
      "[CV]  max_depth=4, min_child_weight=3, score=-0.495543069456, total= 4.7min\n",
      "[CV] max_depth=4, min_child_weight=4 .................................\n",
      "[CV]  max_depth=4, min_child_weight=4, score=-0.486672705899, total= 4.8min\n",
      "[CV] max_depth=5, min_child_weight=2 .................................\n",
      "[CV]  max_depth=4, min_child_weight=3, score=-0.491229628626, total= 5.0min\n",
      "[CV] max_depth=5, min_child_weight=2 .................................\n",
      "[CV]  max_depth=4, min_child_weight=4, score=-0.49233591596, total= 5.1min\n",
      "[CV] max_depth=5, min_child_weight=2 .................................\n",
      "[CV]  max_depth=4, min_child_weight=4, score=-0.49560241085, total= 4.8min\n",
      "[CV] max_depth=5, min_child_weight=3 .................................\n",
      "[CV]  max_depth=5, min_child_weight=2, score=-0.473855196209, total= 5.7min\n",
      "[CV] max_depth=5, min_child_weight=3 .................................\n"
     ]
    },
    {
     "name": "stderr",
     "output_type": "stream",
     "text": [
      "[Parallel(n_jobs=4)]: Done  10 tasks      | elapsed: 16.7min\n"
     ]
    },
    {
     "name": "stdout",
     "output_type": "stream",
     "text": [
      "[CV]  max_depth=5, min_child_weight=2, score=-0.485505132629, total= 5.8min\n",
      "[CV] max_depth=5, min_child_weight=3 .................................\n",
      "[CV]  max_depth=5, min_child_weight=2, score=-0.482410761547, total= 6.0min\n",
      "[CV] max_depth=5, min_child_weight=4 .................................\n",
      "[CV]  max_depth=5, min_child_weight=3, score=-0.473845466821, total= 5.9min\n",
      "[CV] max_depth=5, min_child_weight=4 .................................\n",
      "[CV]  max_depth=5, min_child_weight=3, score=-0.481352269877, total= 5.7min\n",
      "[CV] max_depth=5, min_child_weight=4 .................................\n",
      "[CV]  max_depth=5, min_child_weight=4, score=-0.475487674611, total= 5.8min\n",
      "[CV]  max_depth=5, min_child_weight=3, score=-0.484885784203, total= 5.8min\n",
      "[CV] max_depth=6, min_child_weight=2 .................................\n",
      "[CV] max_depth=6, min_child_weight=2 .................................\n",
      "[CV]  max_depth=5, min_child_weight=4, score=-0.480553142104, total= 5.7min\n",
      "[CV] max_depth=6, min_child_weight=2 .................................\n",
      "[CV]  max_depth=5, min_child_weight=4, score=-0.485032723066, total= 5.7min\n",
      "[CV] max_depth=6, min_child_weight=3 .................................\n",
      "[CV]  max_depth=6, min_child_weight=2, score=-0.483889196554, total= 6.8min\n",
      "[CV] max_depth=6, min_child_weight=3 .................................\n",
      "[CV]  max_depth=6, min_child_weight=2, score=-0.476625070083, total= 7.0min\n",
      "[CV] max_depth=6, min_child_weight=3 .................................\n",
      "[CV]  max_depth=6, min_child_weight=2, score=-0.489617538952, total= 7.1min\n",
      "[CV] max_depth=6, min_child_weight=4 .................................\n",
      "[CV]  max_depth=6, min_child_weight=3, score=-0.473967838826, total= 7.1min\n",
      "[CV] max_depth=6, min_child_weight=4 .................................\n",
      "[CV]  max_depth=6, min_child_weight=3, score=-0.482791589761, total= 7.0min\n",
      "[CV] max_depth=6, min_child_weight=4 .................................\n",
      "[CV]  max_depth=6, min_child_weight=3, score=-0.487164148123, total= 6.9min\n",
      "[CV]  max_depth=6, min_child_weight=4, score=-0.474818229515, total= 5.9min\n",
      "[CV]  max_depth=6, min_child_weight=4, score=-0.481822599984, total= 5.2min\n",
      "[CV]  max_depth=6, min_child_weight=4, score=-0.486352716654, total= 4.5min\n"
     ]
    },
    {
     "name": "stderr",
     "output_type": "stream",
     "text": [
      "[Parallel(n_jobs=4)]: Done  27 out of  27 | elapsed: 42.9min finished\n"
     ]
    },
    {
     "data": {
      "text/plain": [
       "GridSearchCV(cv=StratifiedKFold(n_splits=3, random_state=3, shuffle=True),\n",
       "       error_score='raise',\n",
       "       estimator=XGBClassifier(base_score=0.5, colsample_bylevel=1, colsample_bytree=0.7,\n",
       "       gamma=0, learning_rate=0.1, max_delta_step=0, max_depth=3,\n",
       "       min_child_weight=1, missing=None, n_estimators=636, nthread=4,\n",
       "       objective='multi:softprob', reg_alpha=0, reg_lambda=1,\n",
       "       scale_pos_weight=1, seed=0, silent=False, subsample=0.7),\n",
       "       fit_params=None, iid=True, n_jobs=4,\n",
       "       param_grid={'max_depth': [4, 5, 6], 'min_child_weight': [2, 3, 4]},\n",
       "       pre_dispatch='2*n_jobs', refit=False, return_train_score='warn',\n",
       "       scoring='neg_log_loss', verbose=5)"
      ]
     },
     "execution_count": 22,
     "metadata": {},
     "output_type": "execute_result"
    }
   ],
   "source": [
    "params = {'learning_rate': 0.1,\n",
    "          'n_estimators': 636,   #第一轮参数调整得到的n_estimators最优值\n",
    "          #'min_child_weight': 1,\n",
    "          #'max_depth': 5,\n",
    "          'subsample': 0.7,\n",
    "          'colsample_bytree': 0.7,\n",
    "          #'tree_method':'hist',\n",
    "          #'max_bin':127,\n",
    "          'objective': 'multi:softprob',\n",
    "          'nthread': 4\n",
    "         }\n",
    "\n",
    "xgb_g = XGBClassifier(silent=False,  **params)\n",
    "\n",
    "grid_search = GridSearchCV(xgb_g, param_grid = tuned_params, scoring='neg_log_loss',n_jobs=4, cv=kfold,verbose=5, refit = False)\n",
    "grid_search.fit(X_train , y_train)"
   ]
  },
  {
   "cell_type": "code",
   "execution_count": 23,
   "metadata": {
    "scrolled": false
   },
   "outputs": [
    {
     "name": "stdout",
     "output_type": "stream",
     "text": [
      "Best: -0.480027 using {'max_depth': 5, 'min_child_weight': 3}\n"
     ]
    },
    {
     "data": {
      "image/png": "[encoded data removed]",
      "text/plain": [
       "<matplotlib.figure.Figure at 0x112c06750>"
      ]
     },
     "metadata": {},
     "output_type": "display_data"
    }
   ],
   "source": [
    "# summarize results\n",
    "print(\"Best: %f using %s\" % (grid_search.best_score_, grid_search.best_params_))\n",
    "test_means = grid_search.cv_results_[ 'mean_test_score' ]\n",
    "\n",
    "pd.DataFrame(grid_search.cv_results_).to_csv('maxdepth_min_child_weights_2.csv')\n",
    "\n",
    "# plot results\n",
    "test_scores = np.array(test_means).reshape(len(max_depth), len(min_child_weight))\n",
    "\n",
    "for i, value in enumerate(max_depth):\n",
    "    plt.plot(min_child_weight, -test_scores[i], label= 'test_max_depth:'   + str(value))\n",
    "\n",
    "plt.legend()\n",
    "plt.xlabel( 'min_child_weight' )                                                                                                      \n",
    "plt.ylabel( 'Log Loss' )\n",
    "plt.savefig('max_depth_and_min_child_weght_2.png' )"
   ]
  },
  {
   "cell_type": "markdown",
   "metadata": {},
   "source": [
    "## 第三步 行采样比例"
   ]
  },
  {
   "cell_type": "code",
   "execution_count": 5,
   "metadata": {
    "collapsed": true
   },
   "outputs": [],
   "source": [
    "subsample_s = [i/10.0 for i in range(5,10)]\n",
    "tuned_params = dict(subsample=subsample_s)"
   ]
  },
  {
   "cell_type": "code",
   "execution_count": 6,
   "metadata": {},
   "outputs": [
    {
     "name": "stdout",
     "output_type": "stream",
     "text": [
      "Fitting 3 folds for each of 5 candidates, totalling 15 fits\n",
      "[CV] subsample=0.5 ...................................................\n",
      "[CV] subsample=0.5 ...................................................\n",
      "[CV] subsample=0.5 ...................................................\n",
      "[CV] subsample=0.6 ...................................................\n",
      "[CV] .............. subsample=0.5, score=-0.47752024231, total= 5.2min\n",
      "[CV] subsample=0.6 ...................................................\n",
      "[CV] ............. subsample=0.5, score=-0.489447544338, total= 5.2min\n",
      "[CV] subsample=0.6 ...................................................\n",
      "[CV] ............. subsample=0.5, score=-0.484413982984, total= 5.8min\n",
      "[CV] subsample=0.7 ...................................................\n",
      "[CV] ............. subsample=0.6, score=-0.476766441127, total= 5.8min\n",
      "[CV] subsample=0.7 ...................................................\n",
      "[CV] ............. subsample=0.6, score=-0.487572875712, total= 6.0min\n",
      "[CV] subsample=0.7 ...................................................\n",
      "[CV] ............. subsample=0.6, score=-0.484490747909, total= 6.0min\n",
      "[CV] subsample=0.8 ...................................................\n",
      "[CV] ............. subsample=0.7, score=-0.473845466821, total= 6.0min\n",
      "[CV] subsample=0.8 ...................................................\n",
      "[CV] ............. subsample=0.7, score=-0.481352269877, total= 6.1min\n",
      "[CV] subsample=0.8 ...................................................\n",
      "[CV] ............. subsample=0.8, score=-0.474662895631, total= 5.6min\n",
      "[CV] subsample=0.9 ...................................................\n",
      "[CV] ............. subsample=0.7, score=-0.484885784203, total= 5.6min\n",
      "[CV] subsample=0.9 ...................................................\n",
      "[CV] ............. subsample=0.8, score=-0.484803786832, total= 5.6min\n",
      "[CV] subsample=0.9 ...................................................\n",
      "[CV] ............. subsample=0.8, score=-0.480880194632, total= 5.8min\n"
     ]
    },
    {
     "name": "stderr",
     "output_type": "stream",
     "text": [
      "[Parallel(n_jobs=4)]: Done  12 out of  15 | elapsed: 18.7min remaining:  4.7min\n"
     ]
    },
    {
     "name": "stdout",
     "output_type": "stream",
     "text": [
      "[CV] ............. subsample=0.9, score=-0.475223752905, total= 4.4min\n",
      "[CV] ............. subsample=0.9, score=-0.481473296606, total= 4.4min\n",
      "[CV] ............. subsample=0.9, score=-0.485303165025, total= 4.1min\n"
     ]
    },
    {
     "name": "stderr",
     "output_type": "stream",
     "text": [
      "[Parallel(n_jobs=4)]: Done  15 out of  15 | elapsed: 23.0min finished\n"
     ]
    },
    {
     "data": {
      "text/plain": [
       "GridSearchCV(cv=StratifiedKFold(n_splits=3, random_state=3, shuffle=True),\n",
       "       error_score='raise',\n",
       "       estimator=XGBClassifier(base_score=0.5, colsample_bylevel=1, colsample_bytree=0.7,\n",
       "       gamma=0, learning_rate=0.1, max_delta_step=0, max_depth=5,\n",
       "       min_child_weight=3, missing=None, n_estimators=636, nthread=4,\n",
       "       objective='multi:softprob', reg_alpha=0, reg_lambda=1,\n",
       "       scale_pos_weight=1, seed=0, silent=False, subsample=1),\n",
       "       fit_params=None, iid=True, n_jobs=4,\n",
       "       param_grid={'subsample': [0.5, 0.6, 0.7, 0.8, 0.9]},\n",
       "       pre_dispatch='2*n_jobs', refit=False, return_train_score='warn',\n",
       "       scoring='neg_log_loss', verbose=5)"
      ]
     },
     "execution_count": 6,
     "metadata": {},
     "output_type": "execute_result"
    }
   ],
   "source": [
    "params = {'learning_rate': 0.1,\n",
    "          'n_estimators': 636,   #第一轮参数调整得到的n_estimators最优值\n",
    "          'min_child_weight': 3,\n",
    "          'max_depth': 5,\n",
    "          #'subsample': 0.7,\n",
    "          'colsample_bytree': 0.7,\n",
    "          #'tree_method':'hist',\n",
    "          #'max_bin':127,\n",
    "          'objective': 'multi:softprob',\n",
    "          'nthread': 4\n",
    "         }\n",
    "\n",
    "xgb_g = XGBClassifier(silent=False,  **params)\n",
    "\n",
    "grid_search = GridSearchCV(xgb_g, param_grid = tuned_params, scoring='neg_log_loss',n_jobs=4, cv=kfold,verbose=5, refit = False)\n",
    "grid_search.fit(X_train , y_train)"
   ]
  },
  {
   "cell_type": "code",
   "execution_count": 7,
   "metadata": {},
   "outputs": [
    {
     "name": "stdout",
     "output_type": "stream",
     "text": [
      "Best: -0.480027 using {'subsample': 0.7}\n"
     ]
    },
    {
     "name": "stderr",
     "output_type": "stream",
     "text": [
      "/Users/qing/anaconda2/lib/python2.7/site-packages/sklearn/utils/deprecation.py:122: FutureWarning: You are accessing a training score ('mean_train_score'), which will not be available by default any more in 0.21. If you need training scores, please set return_train_score=True\n",
      "  warnings.warn(*warn_args, **warn_kwargs)\n",
      "/Users/qing/anaconda2/lib/python2.7/site-packages/sklearn/utils/deprecation.py:122: FutureWarning: You are accessing a training score ('split0_train_score'), which will not be available by default any more in 0.21. If you need training scores, please set return_train_score=True\n",
      "  warnings.warn(*warn_args, **warn_kwargs)\n",
      "/Users/qing/anaconda2/lib/python2.7/site-packages/sklearn/utils/deprecation.py:122: FutureWarning: You are accessing a training score ('split1_train_score'), which will not be available by default any more in 0.21. If you need training scores, please set return_train_score=True\n",
      "  warnings.warn(*warn_args, **warn_kwargs)\n",
      "/Users/qing/anaconda2/lib/python2.7/site-packages/sklearn/utils/deprecation.py:122: FutureWarning: You are accessing a training score ('split2_train_score'), which will not be available by default any more in 0.21. If you need training scores, please set return_train_score=True\n",
      "  warnings.warn(*warn_args, **warn_kwargs)\n",
      "/Users/qing/anaconda2/lib/python2.7/site-packages/sklearn/utils/deprecation.py:122: FutureWarning: You are accessing a training score ('std_train_score'), which will not be available by default any more in 0.21. If you need training scores, please set return_train_score=True\n",
      "  warnings.warn(*warn_args, **warn_kwargs)\n"
     ]
    },
    {
     "data": {
      "image/png": "[encoded data removed]",
      "text/plain": [
       "<matplotlib.figure.Figure at 0x10c5a26d0>"
      ]
     },
     "metadata": {},
     "output_type": "display_data"
    }
   ],
   "source": [
    "# summarize results\n",
    "print(\"Best: %f using %s\" % (grid_search.best_score_, grid_search.best_params_))\n",
    "test_means = grid_search.cv_results_[ 'mean_test_score' ]\n",
    "\n",
    "pd.DataFrame(grid_search.cv_results_).to_csv('subsample.csv')\n",
    "\n",
    "plt.plot(subsample_s, -test_means)\n",
    "\n",
    "plt.legend()\n",
    "plt.xlabel( 'subsample' )                                                                                                      \n",
    "plt.ylabel( 'Log Loss' )\n",
    "plt.savefig('subsample.png' )"
   ]
  },
  {
   "cell_type": "markdown",
   "metadata": {},
   "source": [
    "## 第四步 列采样比例"
   ]
  },
  {
   "cell_type": "code",
   "execution_count": 8,
   "metadata": {
    "collapsed": true
   },
   "outputs": [],
   "source": [
    "colsample_bytree_s = [i/10.0 for i in range(5,10)]\n",
    "tuned_params = dict(colsample_bytree=colsample_bytree_s)"
   ]
  },
  {
   "cell_type": "code",
   "execution_count": 9,
   "metadata": {},
   "outputs": [
    {
     "name": "stdout",
     "output_type": "stream",
     "text": [
      "Fitting 3 folds for each of 5 candidates, totalling 15 fits\n",
      "[CV] colsample_bytree=0.5 ............................................\n",
      "[CV] colsample_bytree=0.5 ............................................\n",
      "[CV] colsample_bytree=0.5 ............................................\n",
      "[CV] colsample_bytree=0.6 ............................................\n",
      "[CV] ...... colsample_bytree=0.5, score=-0.486013164118, total= 4.2min\n",
      "[CV] colsample_bytree=0.6 ............................................\n",
      "[CV] ...... colsample_bytree=0.5, score=-0.481436542177, total= 4.4min\n",
      "[CV] colsample_bytree=0.6 ............................................\n",
      "[CV] ...... colsample_bytree=0.5, score=-0.475645835683, total= 4.4min\n",
      "[CV] colsample_bytree=0.7 ............................................\n",
      "[CV] ...... colsample_bytree=0.6, score=-0.474697201327, total= 4.9min\n",
      "[CV] colsample_bytree=0.7 ............................................\n",
      "[CV] ...... colsample_bytree=0.6, score=-0.480589755645, total= 4.8min\n",
      "[CV] colsample_bytree=0.7 ............................................\n",
      "[CV] ...... colsample_bytree=0.6, score=-0.486548600041, total= 4.7min\n",
      "[CV] colsample_bytree=0.8 ............................................\n",
      "[CV] ...... colsample_bytree=0.7, score=-0.473845466821, total= 5.3min\n",
      "[CV] colsample_bytree=0.8 ............................................\n",
      "[CV] ...... colsample_bytree=0.7, score=-0.481352269877, total= 5.4min\n",
      "[CV] colsample_bytree=0.8 ............................................\n",
      "[CV] ...... colsample_bytree=0.7, score=-0.484885784203, total= 6.5min\n",
      "[CV] colsample_bytree=0.9 ............................................\n",
      "[CV] ...... colsample_bytree=0.8, score=-0.475108538393, total= 7.1min\n",
      "[CV] colsample_bytree=0.9 ............................................\n",
      "[CV] ...... colsample_bytree=0.8, score=-0.482083529108, total= 7.2min\n",
      "[CV] colsample_bytree=0.9 ............................................\n",
      "[CV] ...... colsample_bytree=0.8, score=-0.486302058038, total= 7.2min\n"
     ]
    },
    {
     "name": "stderr",
     "output_type": "stream",
     "text": [
      "[Parallel(n_jobs=4)]: Done  12 out of  15 | elapsed: 18.4min remaining:  4.6min\n"
     ]
    },
    {
     "name": "stdout",
     "output_type": "stream",
     "text": [
      "[CV] ...... colsample_bytree=0.9, score=-0.475230991002, total= 5.2min\n",
      "[CV] ...... colsample_bytree=0.9, score=-0.482775285185, total= 4.9min\n",
      "[CV] ...... colsample_bytree=0.9, score=-0.488149128472, total= 4.6min\n"
     ]
    },
    {
     "name": "stderr",
     "output_type": "stream",
     "text": [
      "[Parallel(n_jobs=4)]: Done  15 out of  15 | elapsed: 22.8min finished\n"
     ]
    },
    {
     "data": {
      "text/plain": [
       "GridSearchCV(cv=StratifiedKFold(n_splits=3, random_state=3, shuffle=True),\n",
       "       error_score='raise',\n",
       "       estimator=XGBClassifier(base_score=0.5, colsample_bylevel=1, colsample_bytree=1,\n",
       "       gamma=0, learning_rate=0.1, max_delta_step=0, max_depth=5,\n",
       "       min_child_weight=3, missing=None, n_estimators=636, nthread=4,\n",
       "       objective='multi:softprob', reg_alpha=0, reg_lambda=1,\n",
       "       scale_pos_weight=1, seed=0, silent=True, subsample=0.7),\n",
       "       fit_params=None, iid=True, n_jobs=4,\n",
       "       param_grid={'colsample_bytree': [0.5, 0.6, 0.7, 0.8, 0.9]},\n",
       "       pre_dispatch='2*n_jobs', refit=False, return_train_score='warn',\n",
       "       scoring='neg_log_loss', verbose=5)"
      ]
     },
     "execution_count": 9,
     "metadata": {},
     "output_type": "execute_result"
    }
   ],
   "source": [
    "params = {'learning_rate': 0.1,\n",
    "          'n_estimators': 636,   #第一轮参数调整得到的n_estimators最优值\n",
    "          'min_child_weight': 3,\n",
    "          'max_depth': 5,\n",
    "          'subsample': 0.7,\n",
    "          #'colsample_bytree': 0.7,\n",
    "          #'tree_method':'hist',\n",
    "          #'max_bin':127,\n",
    "          'objective': 'multi:softprob',\n",
    "          'nthread': 4\n",
    "         }\n",
    "\n",
    "xgb_g = XGBClassifier(**params)\n",
    "\n",
    "grid_search = GridSearchCV(xgb_g, param_grid = tuned_params, scoring='neg_log_loss',n_jobs=4, cv=kfold,verbose=5, refit = False)\n",
    "grid_search.fit(X_train , y_train)"
   ]
  },
  {
   "cell_type": "code",
   "execution_count": 10,
   "metadata": {},
   "outputs": [
    {
     "name": "stdout",
     "output_type": "stream",
     "text": [
      "Best: -0.480027 using {'colsample_bytree': 0.7}\n"
     ]
    },
    {
     "data": {
      "image/png": "[encoded data removed]",
      "text/plain": [
       "<matplotlib.figure.Figure at 0x10c4d3d50>"
      ]
     },
     "metadata": {},
     "output_type": "display_data"
    }
   ],
   "source": [
    "# summarize results\n",
    "print(\"Best: %f using %s\" % (grid_search.best_score_, grid_search.best_params_))\n",
    "test_means = grid_search.cv_results_[ 'mean_test_score' ]\n",
    "\n",
    "pd.DataFrame(grid_search.cv_results_).to_csv('colsample_bytree.csv')\n",
    "\n",
    "plt.plot(colsample_bytree_s, -test_means)\n",
    "\n",
    "plt.legend()\n",
    "plt.xlabel( 'colsample_bytree' )                                                                                                      \n",
    "plt.ylabel( 'Log Loss' )\n",
    "plt.savefig('colsample_bytree.png' )"
   ]
  },
  {
   "cell_type": "code",
   "execution_count": 11,
   "metadata": {},
   "outputs": [
    {
     "data": {
      "text/plain": [
       "array([-0.48103151, -0.48061147, -0.48002748, -0.48116435, -0.48205138])"
      ]
     },
     "execution_count": 11,
     "metadata": {},
     "output_type": "execute_result"
    }
   ],
   "source": [
    "test_means"
   ]
  },
  {
   "cell_type": "markdown",
   "metadata": {},
   "source": [
    "## 第五步 正则系数reg_lambda\n",
    "reg_lambda:L2正则\n",
    "默认为1"
   ]
  },
  {
   "cell_type": "code",
   "execution_count": 13,
   "metadata": {
    "collapsed": true
   },
   "outputs": [],
   "source": [
    "reg_lambda_s = range(0,4,2)\n",
    "tuned_params = dict(reg_lambda =reg_lambda_s)"
   ]
  },
  {
   "cell_type": "code",
   "execution_count": 14,
   "metadata": {},
   "outputs": [
    {
     "name": "stdout",
     "output_type": "stream",
     "text": [
      "Fitting 3 folds for each of 2 candidates, totalling 6 fits\n",
      "[CV] reg_lambda=0 ....................................................\n",
      "[CV] reg_lambda=0 ....................................................\n",
      "[CV] reg_lambda=0 ....................................................\n",
      "[CV] reg_lambda=2 ....................................................\n",
      "[CV] .............. reg_lambda=0, score=-0.486662387901, total= 5.1min\n",
      "[CV] reg_lambda=2 ....................................................\n",
      "[CV] .............. reg_lambda=0, score=-0.475698975088, total= 5.1min\n",
      "[CV] reg_lambda=2 ....................................................\n",
      "[CV] .............. reg_lambda=2, score=-0.475021685319, total= 5.3min\n"
     ]
    },
    {
     "name": "stderr",
     "output_type": "stream",
     "text": [
      "[Parallel(n_jobs=4)]: Done   3 out of   6 | elapsed:  6.0min remaining:  6.0min\n"
     ]
    },
    {
     "name": "stdout",
     "output_type": "stream",
     "text": [
      "[CV] .............. reg_lambda=0, score=-0.484914845906, total= 5.4min\n",
      "[CV] .............. reg_lambda=2, score=-0.483000982249, total= 2.8min\n",
      "[CV] .............. reg_lambda=2, score=-0.481599221878, total= 3.1min\n"
     ]
    },
    {
     "name": "stderr",
     "output_type": "stream",
     "text": [
      "[Parallel(n_jobs=4)]: Done   6 out of   6 | elapsed:  9.0min finished\n"
     ]
    },
    {
     "data": {
      "text/plain": [
       "GridSearchCV(cv=StratifiedKFold(n_splits=3, random_state=3, shuffle=True),\n",
       "       error_score='raise',\n",
       "       estimator=XGBClassifier(base_score=0.5, colsample_bylevel=1, colsample_bytree=0.7,\n",
       "       gamma=0, learning_rate=0.1, max_delta_step=0, max_depth=5,\n",
       "       min_child_weight=3, missing=None, n_estimators=636, nthread=4,\n",
       "       objective='multi:softprob', reg_alpha=0, reg_lambda=1,\n",
       "       scale_pos_weight=1, seed=0, silent=True, subsample=0.7),\n",
       "       fit_params=None, iid=True, n_jobs=4,\n",
       "       param_grid={'reg_lambda': [0, 2]}, pre_dispatch='2*n_jobs',\n",
       "       refit=False, return_train_score='warn', scoring='neg_log_loss',\n",
       "       verbose=5)"
      ]
     },
     "execution_count": 14,
     "metadata": {},
     "output_type": "execute_result"
    }
   ],
   "source": [
    "params = {'learning_rate': 0.1,\n",
    "          'n_estimators': 636,   #第一轮参数调整得到的n_estimators最优值\n",
    "          'min_child_weight': 3,\n",
    "          'max_depth': 5,\n",
    "          'subsample': 0.7,\n",
    "          'colsample_bytree': 0.7,\n",
    "          #'tree_method':'hist',\n",
    "          #'max_bin':127,\n",
    "          'objective': 'multi:softprob',\n",
    "          'nthread': 4\n",
    "         }\n",
    "\n",
    "xgb_g = XGBClassifier(**params)\n",
    "\n",
    "grid_search = GridSearchCV(xgb_g, param_grid = tuned_params, scoring='neg_log_loss',n_jobs=4, cv=kfold,verbose=5, refit = False)\n",
    "grid_search.fit(X_train , y_train)"
   ]
  },
  {
   "cell_type": "code",
   "execution_count": 16,
   "metadata": {
    "scrolled": true
   },
   "outputs": [
    {
     "name": "stdout",
     "output_type": "stream",
     "text": [
      "Best: -0.479874 using {'reg_lambda': 2}\n"
     ]
    },
    {
     "data": {
      "image/png": "[encoded data removed]",
      "text/plain": [
       "<matplotlib.figure.Figure at 0x10f7fe890>"
      ]
     },
     "metadata": {},
     "output_type": "display_data"
    }
   ],
   "source": [
    "# summarize results\n",
    "print(\"Best: %f using %s\" % (grid_search.best_score_, grid_search.best_params_))\n",
    "test_means = grid_search.cv_results_[ 'mean_test_score' ]\n",
    "\n",
    "pd.DataFrame(grid_search.cv_results_).to_csv('reg_lambda.csv')\n",
    "\n",
    "plt.plot(reg_lambda_s, -test_means)\n",
    "\n",
    "plt.legend()\n",
    "plt.xlabel( 'reg_lambda' )                                                                                                      \n",
    "plt.ylabel( 'Log Loss' )\n",
    "plt.savefig('reg_lambda.png' )"
   ]
  },
  {
   "cell_type": "code",
   "execution_count": 20,
   "metadata": {},
   "outputs": [
    {
     "data": {
      "text/plain": [
       "array([ 0.48242505,  0.47987371])"
      ]
     },
     "execution_count": 20,
     "metadata": {},
     "output_type": "execute_result"
    }
   ],
   "source": [
    "-test_means"
   ]
  },
  {
   "cell_type": "markdown",
   "metadata": {},
   "source": [
    "默认参数值1对应的模型性能为0.480027，比最佳参数值2的性能（0.47987371）差，参数值取2。\n",
    "2为搜索范围最大值，继续扩大搜索范围。"
   ]
  },
  {
   "cell_type": "code",
   "execution_count": 18,
   "metadata": {
    "collapsed": true
   },
   "outputs": [],
   "source": [
    "reg_lambda_s = range(3,6,1)\n",
    "tuned_params = dict(reg_lambda =reg_lambda_s)"
   ]
  },
  {
   "cell_type": "code",
   "execution_count": 19,
   "metadata": {},
   "outputs": [
    {
     "name": "stdout",
     "output_type": "stream",
     "text": [
      "Fitting 3 folds for each of 3 candidates, totalling 9 fits\n",
      "[CV] reg_lambda=3 ....................................................\n",
      "[CV] reg_lambda=3 ....................................................\n",
      "[CV] reg_lambda=3 ....................................................\n",
      "[CV] reg_lambda=4 ....................................................\n",
      "[CV] .............. reg_lambda=3, score=-0.483578849129, total= 5.1min\n",
      "[CV] reg_lambda=4 ....................................................\n",
      "[CV] .............. reg_lambda=3, score=-0.475353340547, total= 5.1min\n",
      "[CV] reg_lambda=4 ....................................................\n",
      "[CV] .............. reg_lambda=3, score=-0.481491813131, total= 5.2min\n",
      "[CV] reg_lambda=5 ....................................................\n",
      "[CV] .............. reg_lambda=4, score=-0.473988623793, total= 5.6min\n",
      "[CV] reg_lambda=5 ....................................................\n"
     ]
    },
    {
     "name": "stderr",
     "output_type": "stream",
     "text": [
      "[Parallel(n_jobs=4)]: Done   4 out of   9 | elapsed:  6.0min remaining:  7.6min\n"
     ]
    },
    {
     "name": "stdout",
     "output_type": "stream",
     "text": [
      "[CV] .............. reg_lambda=4, score=-0.480934504323, total= 5.3min\n",
      "[CV] reg_lambda=5 ....................................................\n",
      "[CV] .............. reg_lambda=4, score=-0.484475485325, total= 5.3min\n"
     ]
    },
    {
     "name": "stderr",
     "output_type": "stream",
     "text": [
      "[Parallel(n_jobs=4)]: Done   6 out of   9 | elapsed: 11.8min remaining:  5.9min\n"
     ]
    },
    {
     "name": "stdout",
     "output_type": "stream",
     "text": [
      "[CV] .............. reg_lambda=5, score=-0.475187762576, total= 5.3min\n",
      "[CV] .............. reg_lambda=5, score=-0.480811277388, total= 5.5min\n",
      "[CV] .............. reg_lambda=5, score=-0.485396040346, total= 2.2min\n"
     ]
    },
    {
     "name": "stderr",
     "output_type": "stream",
     "text": [
      "[Parallel(n_jobs=4)]: Done   9 out of   9 | elapsed: 14.1min finished\n"
     ]
    },
    {
     "data": {
      "text/plain": [
       "GridSearchCV(cv=StratifiedKFold(n_splits=3, random_state=3, shuffle=True),\n",
       "       error_score='raise',\n",
       "       estimator=XGBClassifier(base_score=0.5, colsample_bylevel=1, colsample_bytree=0.7,\n",
       "       gamma=0, learning_rate=0.1, max_delta_step=0, max_depth=5,\n",
       "       min_child_weight=3, missing=None, n_estimators=636, nthread=4,\n",
       "       objective='multi:softprob', reg_alpha=0, reg_lambda=1,\n",
       "       scale_pos_weight=1, seed=0, silent=True, subsample=0.7),\n",
       "       fit_params=None, iid=True, n_jobs=4,\n",
       "       param_grid={'reg_lambda': [3, 4, 5]}, pre_dispatch='2*n_jobs',\n",
       "       refit=False, return_train_score='warn', scoring='neg_log_loss',\n",
       "       verbose=5)"
      ]
     },
     "execution_count": 19,
     "metadata": {},
     "output_type": "execute_result"
    }
   ],
   "source": [
    "params = {'learning_rate': 0.1,\n",
    "          'n_estimators': 636,   #第一轮参数调整得到的n_estimators最优值\n",
    "          'min_child_weight': 3,\n",
    "          'max_depth': 5,\n",
    "          'subsample': 0.7,\n",
    "          'colsample_bytree': 0.7,\n",
    "          #'tree_method':'hist',\n",
    "          #'max_bin':127,\n",
    "          'objective': 'multi:softprob',\n",
    "          'nthread': 4\n",
    "         }\n",
    "\n",
    "xgb_g = XGBClassifier(**params)\n",
    "\n",
    "grid_search = GridSearchCV(xgb_g, param_grid = tuned_params, scoring='neg_log_loss',n_jobs=4, cv=kfold,verbose=5, refit = False)\n",
    "grid_search.fit(X_train , y_train)"
   ]
  },
  {
   "cell_type": "code",
   "execution_count": 21,
   "metadata": {
    "scrolled": true
   },
   "outputs": [
    {
     "name": "stdout",
     "output_type": "stream",
     "text": [
      "Best: -0.479799 using {'reg_lambda': 4}\n"
     ]
    },
    {
     "data": {
      "image/png": "[encoded data removed]",
      "text/plain": [
       "<matplotlib.figure.Figure at 0x1a16500d50>"
      ]
     },
     "metadata": {},
     "output_type": "display_data"
    }
   ],
   "source": [
    "# summarize results\n",
    "print(\"Best: %f using %s\" % (grid_search.best_score_, grid_search.best_params_))\n",
    "test_means = grid_search.cv_results_[ 'mean_test_score' ]\n",
    "\n",
    "pd.DataFrame(grid_search.cv_results_).to_csv('reg_lambda2.csv')\n",
    "\n",
    "plt.plot(reg_lambda_s, -test_means)\n",
    "\n",
    "plt.legend()\n",
    "plt.xlabel( 'reg_lambda' )                                                                                                      \n",
    "plt.ylabel( 'Log Loss' )\n",
    "plt.savefig('reg_lambda.png' )"
   ]
  },
  {
   "cell_type": "code",
   "execution_count": 22,
   "metadata": {},
   "outputs": [
    {
     "data": {
      "text/plain": [
       "array([ 0.48014107,  0.4797992 ,  0.4804647 ])"
      ]
     },
     "execution_count": 22,
     "metadata": {},
     "output_type": "execute_result"
    }
   ],
   "source": [
    "-test_means"
   ]
  },
  {
   "cell_type": "markdown",
   "metadata": {},
   "source": [
    "reg_lambda在2（0.47987371）-5（0.4804647）之间，模型性能差异不大。考虑到另一个正则系数reg_alpha还没调，选择较小的数值2。"
   ]
  },
  {
   "cell_type": "markdown",
   "metadata": {},
   "source": [
    "## 第六步 正则系数reg_alpha\n",
    "reg_alpha:L1正则\n",
    "默认为0"
   ]
  },
  {
   "cell_type": "code",
   "execution_count": 23,
   "metadata": {
    "collapsed": true
   },
   "outputs": [],
   "source": [
    "reg_alpha_s = range(1,5,1)\n",
    "tuned_params = dict(reg_alpha =reg_alpha_s)"
   ]
  },
  {
   "cell_type": "code",
   "execution_count": 24,
   "metadata": {},
   "outputs": [
    {
     "name": "stdout",
     "output_type": "stream",
     "text": [
      "Fitting 3 folds for each of 4 candidates, totalling 12 fits\n",
      "[CV] reg_alpha=1 .....................................................\n",
      "[CV] reg_alpha=1 .....................................................\n",
      "[CV] reg_alpha=1 .....................................................\n",
      "[CV] reg_alpha=2 .....................................................\n",
      "[CV] ............... reg_alpha=1, score=-0.484617388024, total= 5.2min\n",
      "[CV] reg_alpha=2 .....................................................\n",
      "[CV] ............... reg_alpha=2, score=-0.475584230917, total= 5.3min\n",
      "[CV] reg_alpha=2 .....................................................\n",
      "[CV] ............... reg_alpha=1, score=-0.473940302809, total= 5.4min\n",
      "[CV] reg_alpha=3 .....................................................\n",
      "[CV] ............... reg_alpha=1, score=-0.480972249379, total= 5.4min\n",
      "[CV] reg_alpha=3 .....................................................\n",
      "[CV] ............... reg_alpha=2, score=-0.483329292331, total= 5.3min\n",
      "[CV] reg_alpha=3 .....................................................\n",
      "[CV] ............... reg_alpha=3, score=-0.483899700634, total= 5.3min\n",
      "[CV] reg_alpha=4 .....................................................\n",
      "[CV] ............... reg_alpha=3, score=-0.477851505354, total= 5.3min\n",
      "[CV] reg_alpha=4 .....................................................\n",
      "[CV] ............... reg_alpha=2, score=-0.486928632414, total= 5.5min\n",
      "[CV] reg_alpha=4 .....................................................\n"
     ]
    },
    {
     "name": "stderr",
     "output_type": "stream",
     "text": [
      "[Parallel(n_jobs=4)]: Done   8 out of  12 | elapsed: 12.2min remaining:  6.1min\n"
     ]
    },
    {
     "name": "stdout",
     "output_type": "stream",
     "text": [
      "[CV] ............... reg_alpha=4, score=-0.480538567507, total= 5.2min\n",
      "[CV] ............... reg_alpha=4, score=-0.492828313253, total= 5.2min\n",
      "[CV] ............... reg_alpha=3, score=-0.490455500464, total= 5.4min\n",
      "[CV] ............... reg_alpha=4, score=-0.487263497519, total= 5.5min\n"
     ]
    },
    {
     "name": "stderr",
     "output_type": "stream",
     "text": [
      "[Parallel(n_jobs=4)]: Done  12 out of  12 | elapsed: 26.1min finished\n"
     ]
    },
    {
     "data": {
      "text/plain": [
       "GridSearchCV(cv=StratifiedKFold(n_splits=3, random_state=3, shuffle=True),\n",
       "       error_score='raise',\n",
       "       estimator=XGBClassifier(base_score=0.5, colsample_bylevel=1, colsample_bytree=0.7,\n",
       "       gamma=0, learning_rate=0.1, max_delta_step=0, max_depth=5,\n",
       "       min_child_weight=3, missing=None, n_estimators=636, nthread=4,\n",
       "       objective='multi:softprob', reg_alpha=0, reg_lambda=2,\n",
       "       scale_pos_weight=1, seed=0, silent=True, subsample=0.7),\n",
       "       fit_params=None, iid=True, n_jobs=4,\n",
       "       param_grid={'reg_alpha': [1, 2, 3, 4]}, pre_dispatch='2*n_jobs',\n",
       "       refit=False, return_train_score='warn', scoring='neg_log_loss',\n",
       "       verbose=5)"
      ]
     },
     "execution_count": 24,
     "metadata": {},
     "output_type": "execute_result"
    }
   ],
   "source": [
    "params = {'learning_rate': 0.1,\n",
    "          'n_estimators': 636,   #第一轮参数调整得到的n_estimators最优值\n",
    "          'min_child_weight': 3,\n",
    "          'max_depth': 5,\n",
    "          'subsample': 0.7,\n",
    "          'colsample_bytree': 0.7,\n",
    "          'reg_lambda':2,\n",
    "          #'tree_method':'hist',\n",
    "          #'max_bin':127,\n",
    "          'objective': 'multi:softprob',\n",
    "          'nthread': 4\n",
    "         }\n",
    "\n",
    "xgb_g = XGBClassifier(**params)\n",
    "\n",
    "grid_search = GridSearchCV(xgb_g, param_grid = tuned_params, scoring='neg_log_loss',n_jobs=4, cv=kfold,verbose=5, refit = False)\n",
    "grid_search.fit(X_train , y_train)"
   ]
  },
  {
   "cell_type": "code",
   "execution_count": 25,
   "metadata": {},
   "outputs": [
    {
     "name": "stdout",
     "output_type": "stream",
     "text": [
      "Best: -0.479843 using {'reg_alpha': 1}\n"
     ]
    },
    {
     "data": {
      "image/png": "[encoded data removed]",
      "text/plain": [
       "<matplotlib.figure.Figure at 0x10c12bf10>"
      ]
     },
     "metadata": {},
     "output_type": "display_data"
    }
   ],
   "source": [
    "# summarize results\n",
    "print(\"Best: %f using %s\" % (grid_search.best_score_, grid_search.best_params_))\n",
    "test_means = grid_search.cv_results_[ 'mean_test_score' ]\n",
    "\n",
    "pd.DataFrame(grid_search.cv_results_).to_csv('reg_alpha.csv')\n",
    "\n",
    "plt.plot(reg_alpha_s, -test_means)\n",
    "\n",
    "plt.legend()\n",
    "plt.xlabel( 'reg_alpha' )                                                                                                      \n",
    "plt.ylabel( 'Log Loss' )\n",
    "plt.savefig('reg_alpha.png' )"
   ]
  },
  {
   "cell_type": "markdown",
   "metadata": {},
   "source": [
    "默认值0对应的模型性能为0.47987371，比参数值为1对应的性能（-0.479843）稍差。\n",
    "最佳参数值取1."
   ]
  },
  {
   "cell_type": "markdown",
   "metadata": {},
   "source": [
    "## 最后，用树的最佳参数，再次调整学习率和基学习器的数目"
   ]
  },
  {
   "cell_type": "code",
   "execution_count": 30,
   "metadata": {},
   "outputs": [
    {
     "name": "stdout",
     "output_type": "stream",
     "text": [
      "('best n_estimators:', 1378)\n"
     ]
    },
    {
     "ename": "KeyError",
     "evalue": "-1",
     "output_type": "error",
     "traceback": [
      "\u001b[0;31m---------------------------------------------------------------------------\u001b[0m",
      "\u001b[0;31mKeyError\u001b[0m                                  Traceback (most recent call last)",
      "\u001b[0;32m<ipython-input-30-4e816a92bc8f>\u001b[0m in \u001b[0;36m<module>\u001b[0;34m()\u001b[0m\n\u001b[1;32m     14\u001b[0m          }\n\u001b[1;32m     15\u001b[0m \u001b[0;34m\u001b[0m\u001b[0m\n\u001b[0;32m---> 16\u001b[0;31m \u001b[0mn_estimators_2\u001b[0m \u001b[0;34m=\u001b[0m \u001b[0mget_n_estimators\u001b[0m\u001b[0;34m(\u001b[0m\u001b[0mparams\u001b[0m \u001b[0;34m,\u001b[0m \u001b[0mX_train\u001b[0m \u001b[0;34m,\u001b[0m \u001b[0my_train\u001b[0m\u001b[0;34m)\u001b[0m\u001b[0;34m\u001b[0m\u001b[0m\n\u001b[0m",
      "\u001b[0;32m<ipython-input-27-77a696dde79d>\u001b[0m in \u001b[0;36mget_n_estimators\u001b[0;34m(params, X_train, y_train, early_stopping_rounds)\u001b[0m\n\u001b[1;32m     19\u001b[0m \u001b[0;34m\u001b[0m\u001b[0m\n\u001b[1;32m     20\u001b[0m     \u001b[0;32mprint\u001b[0m\u001b[0;34m(\u001b[0m\u001b[0;34m'best n_estimators:'\u001b[0m \u001b[0;34m,\u001b[0m \u001b[0mn_estimators\u001b[0m\u001b[0;34m)\u001b[0m\u001b[0;34m\u001b[0m\u001b[0m\n\u001b[0;32m---> 21\u001b[0;31m     \u001b[0;32mprint\u001b[0m\u001b[0;34m(\u001b[0m\u001b[0;34m'best cv score:'\u001b[0m \u001b[0;34m,\u001b[0m \u001b[0mcvresult\u001b[0m\u001b[0;34m[\u001b[0m\u001b[0;34m'test-mlogloss-mean'\u001b[0m\u001b[0;34m]\u001b[0m\u001b[0;34m[\u001b[0m\u001b[0;34m-\u001b[0m\u001b[0;36m1\u001b[0m\u001b[0;34m]\u001b[0m\u001b[0;34m)\u001b[0m\u001b[0;34m\u001b[0m\u001b[0m\n\u001b[0m\u001b[1;32m     22\u001b[0m \u001b[0;34m\u001b[0m\u001b[0m\n\u001b[1;32m     23\u001b[0m     \u001b[0;32mreturn\u001b[0m \u001b[0mn_estimators\u001b[0m\u001b[0;34m\u001b[0m\u001b[0m\n",
      "\u001b[0;32m/Users/qing/anaconda2/lib/python2.7/site-packages/pandas/core/series.pyc\u001b[0m in \u001b[0;36m__getitem__\u001b[0;34m(self, key)\u001b[0m\n\u001b[1;32m    599\u001b[0m         \u001b[0mkey\u001b[0m \u001b[0;34m=\u001b[0m \u001b[0mcom\u001b[0m\u001b[0;34m.\u001b[0m\u001b[0m_apply_if_callable\u001b[0m\u001b[0;34m(\u001b[0m\u001b[0mkey\u001b[0m\u001b[0;34m,\u001b[0m \u001b[0mself\u001b[0m\u001b[0;34m)\u001b[0m\u001b[0;34m\u001b[0m\u001b[0m\n\u001b[1;32m    600\u001b[0m         \u001b[0;32mtry\u001b[0m\u001b[0;34m:\u001b[0m\u001b[0;34m\u001b[0m\u001b[0m\n\u001b[0;32m--> 601\u001b[0;31m             \u001b[0mresult\u001b[0m \u001b[0;34m=\u001b[0m \u001b[0mself\u001b[0m\u001b[0;34m.\u001b[0m\u001b[0mindex\u001b[0m\u001b[0;34m.\u001b[0m\u001b[0mget_value\u001b[0m\u001b[0;34m(\u001b[0m\u001b[0mself\u001b[0m\u001b[0;34m,\u001b[0m \u001b[0mkey\u001b[0m\u001b[0;34m)\u001b[0m\u001b[0;34m\u001b[0m\u001b[0m\n\u001b[0m\u001b[1;32m    602\u001b[0m \u001b[0;34m\u001b[0m\u001b[0m\n\u001b[1;32m    603\u001b[0m             \u001b[0;32mif\u001b[0m \u001b[0;32mnot\u001b[0m \u001b[0mis_scalar\u001b[0m\u001b[0;34m(\u001b[0m\u001b[0mresult\u001b[0m\u001b[0;34m)\u001b[0m\u001b[0;34m:\u001b[0m\u001b[0;34m\u001b[0m\u001b[0m\n",
      "\u001b[0;32m/Users/qing/anaconda2/lib/python2.7/site-packages/pandas/core/indexes/base.pyc\u001b[0m in \u001b[0;36mget_value\u001b[0;34m(self, series, key)\u001b[0m\n\u001b[1;32m   2475\u001b[0m         \u001b[0;32mtry\u001b[0m\u001b[0;34m:\u001b[0m\u001b[0;34m\u001b[0m\u001b[0m\n\u001b[1;32m   2476\u001b[0m             return self._engine.get_value(s, k,\n\u001b[0;32m-> 2477\u001b[0;31m                                           tz=getattr(series.dtype, 'tz', None))\n\u001b[0m\u001b[1;32m   2478\u001b[0m         \u001b[0;32mexcept\u001b[0m \u001b[0mKeyError\u001b[0m \u001b[0;32mas\u001b[0m \u001b[0me1\u001b[0m\u001b[0;34m:\u001b[0m\u001b[0;34m\u001b[0m\u001b[0m\n\u001b[1;32m   2479\u001b[0m             \u001b[0;32mif\u001b[0m \u001b[0mlen\u001b[0m\u001b[0;34m(\u001b[0m\u001b[0mself\u001b[0m\u001b[0;34m)\u001b[0m \u001b[0;34m>\u001b[0m \u001b[0;36m0\u001b[0m \u001b[0;32mand\u001b[0m \u001b[0mself\u001b[0m\u001b[0;34m.\u001b[0m\u001b[0minferred_type\u001b[0m \u001b[0;32min\u001b[0m \u001b[0;34m[\u001b[0m\u001b[0;34m'integer'\u001b[0m\u001b[0;34m,\u001b[0m \u001b[0;34m'boolean'\u001b[0m\u001b[0;34m]\u001b[0m\u001b[0;34m:\u001b[0m\u001b[0;34m\u001b[0m\u001b[0m\n",
      "\u001b[0;32mpandas/_libs/index.pyx\u001b[0m in \u001b[0;36mpandas._libs.index.IndexEngine.get_value\u001b[0;34m()\u001b[0m\n",
      "\u001b[0;32mpandas/_libs/index.pyx\u001b[0m in \u001b[0;36mpandas._libs.index.IndexEngine.get_value\u001b[0;34m()\u001b[0m\n",
      "\u001b[0;32mpandas/_libs/index.pyx\u001b[0m in \u001b[0;36mpandas._libs.index.IndexEngine.get_loc\u001b[0;34m()\u001b[0m\n",
      "\u001b[0;32mpandas/_libs/hashtable_class_helper.pxi\u001b[0m in \u001b[0;36mpandas._libs.hashtable.Int64HashTable.get_item\u001b[0;34m()\u001b[0m\n",
      "\u001b[0;32mpandas/_libs/hashtable_class_helper.pxi\u001b[0m in \u001b[0;36mpandas._libs.hashtable.Int64HashTable.get_item\u001b[0;34m()\u001b[0m\n",
      "\u001b[0;31mKeyError\u001b[0m: -1"
     ]
    }
   ],
   "source": [
    "params = {'num_class':9,\n",
    "          'learning_rate': 0.05,\n",
    "          #'n_estimators': 636,   #第一轮参数调整得到的n_estimators最优值\n",
    "          'min_child_weight': 3,\n",
    "          'max_depth': 5,\n",
    "          'subsample': 0.7,\n",
    "          'colsample_bytree': 0.7,\n",
    "          'reg_lambda':2,\n",
    "          'reg_alpha':1,\n",
    "          #'tree_method':'hist',\n",
    "          #'max_bin':127,\n",
    "          'objective': 'multi:softprob',\n",
    "          'nthread': 4\n",
    "         }\n",
    "\n",
    "n_estimators_2 = get_n_estimators(params , X_train , y_train)"
   ]
  },
  {
   "cell_type": "markdown",
   "metadata": {},
   "source": [
    "学习率为0.01时学习时间太长，中止\n",
    "改成0.05，得到树的数目为1000+（LightGBM中学习率为0.01时，树的数目为1000+？）"
   ]
  },
  {
   "cell_type": "markdown",
   "metadata": {},
   "source": [
    "### 用所有训练数据，采用最佳参数重新训练模型\n",
    "由于样本数目增多，模型复杂度稍微扩大一点？\n",
    "max_depth增多1\n",
    "min_child_weight按样本比例,从3增加到4"
   ]
  },
  {
   "cell_type": "code",
   "execution_count": 32,
   "metadata": {},
   "outputs": [
    {
     "data": {
      "text/plain": [
       "XGBClassifier(base_score=0.5, colsample_bylevel=1, colsample_bytree=0.7,\n",
       "       gamma=0, learning_rate=0.05, max_delta_step=0, max_depth=6,\n",
       "       min_child_weight=4, missing=None, n_estimators=1378, nthread=4,\n",
       "       objective='multi:softprob', reg_alpha=1, reg_lambda=2,\n",
       "       scale_pos_weight=1, seed=0, silent=True, subsample=0.7)"
      ]
     },
     "execution_count": 32,
     "metadata": {},
     "output_type": "execute_result"
    }
   ],
   "source": [
    "params = {'learning_rate': 0.05,\n",
    "          'n_estimators': 1378, \n",
    "          'min_child_weight': 4,\n",
    "          'max_depth': 6,\n",
    "          'subsample': 0.7,\n",
    "          'colsample_bytree': 0.7,\n",
    "          'reg_lambda':2,\n",
    "          'reg_alpha':1,\n",
    "          #'tree_method':'hist',\n",
    "          #'max_bin':127,\n",
    "          'objective': 'multi:softprob',\n",
    "          'nthread': 4\n",
    "         }\n",
    "\n",
    "xgb_g = XGBClassifier(**params)\n",
    "xgb_g.fit(X_train, y_train)"
   ]
  },
  {
   "cell_type": "markdown",
   "metadata": {},
   "source": [
    "## 保存模型，用于后续测试"
   ]
  },
  {
   "cell_type": "code",
   "execution_count": 34,
   "metadata": {
    "collapsed": true
   },
   "outputs": [],
   "source": [
    "import cPickle\n",
    "\n",
    "cPickle.dump(xgb_g, open(\"Otto_XGBoost_org.pkl\", 'wb'))"
   ]
  },
  {
   "cell_type": "markdown",
   "metadata": {},
   "source": [
    "### 特征重要性"
   ]
  },
  {
   "cell_type": "code",
   "execution_count": 40,
   "metadata": {
    "collapsed": true
   },
   "outputs": [],
   "source": [
    "df = pd.DataFrame({\"columns\":list(feat_names), \"importance\":list(xgb_g.feature_importances_.T)})\n",
    "df = df.sort_values(by=['importance'],ascending=False)"
   ]
  },
  {
   "cell_type": "code",
   "execution_count": 41,
   "metadata": {},
   "outputs": [
    {
     "data": {
      "text/html": [
       "<div>\n",
       "<style>\n",
       "    .dataframe thead tr:only-child th {\n",
       "        text-align: right;\n",
       "    }\n",
       "\n",
       "    .dataframe thead th {\n",
       "        text-align: left;\n",
       "    }\n",
       "\n",
       "    .dataframe tbody tr th {\n",
       "        vertical-align: top;\n",
       "    }\n",
       "</style>\n",
       "<table border=\"1\" class=\"dataframe\">\n",
       "  <thead>\n",
       "    <tr style=\"text-align: right;\">\n",
       "      <th></th>\n",
       "      <th>columns</th>\n",
       "      <th>importance</th>\n",
       "    </tr>\n",
       "  </thead>\n",
       "  <tbody>\n",
       "    <tr>\n",
       "      <th>66</th>\n",
       "      <td>feat_67</td>\n",
       "      <td>0.039975</td>\n",
       "    </tr>\n",
       "    <tr>\n",
       "      <th>23</th>\n",
       "      <td>feat_24</td>\n",
       "      <td>0.037326</td>\n",
       "    </tr>\n",
       "    <tr>\n",
       "      <th>47</th>\n",
       "      <td>feat_48</td>\n",
       "      <td>0.032613</td>\n",
       "    </tr>\n",
       "    <tr>\n",
       "      <th>85</th>\n",
       "      <td>feat_86</td>\n",
       "      <td>0.031725</td>\n",
       "    </tr>\n",
       "    <tr>\n",
       "      <th>24</th>\n",
       "      <td>feat_25</td>\n",
       "      <td>0.031474</td>\n",
       "    </tr>\n",
       "    <tr>\n",
       "      <th>39</th>\n",
       "      <td>feat_40</td>\n",
       "      <td>0.028941</td>\n",
       "    </tr>\n",
       "    <tr>\n",
       "      <th>13</th>\n",
       "      <td>feat_14</td>\n",
       "      <td>0.027623</td>\n",
       "    </tr>\n",
       "    <tr>\n",
       "      <th>63</th>\n",
       "      <td>feat_64</td>\n",
       "      <td>0.026137</td>\n",
       "    </tr>\n",
       "    <tr>\n",
       "      <th>15</th>\n",
       "      <td>feat_16</td>\n",
       "      <td>0.025728</td>\n",
       "    </tr>\n",
       "    <tr>\n",
       "      <th>61</th>\n",
       "      <td>feat_62</td>\n",
       "      <td>0.023995</td>\n",
       "    </tr>\n",
       "    <tr>\n",
       "      <th>87</th>\n",
       "      <td>feat_88</td>\n",
       "      <td>0.023306</td>\n",
       "    </tr>\n",
       "    <tr>\n",
       "      <th>14</th>\n",
       "      <td>feat_15</td>\n",
       "      <td>0.022511</td>\n",
       "    </tr>\n",
       "    <tr>\n",
       "      <th>53</th>\n",
       "      <td>feat_54</td>\n",
       "      <td>0.022190</td>\n",
       "    </tr>\n",
       "    <tr>\n",
       "      <th>69</th>\n",
       "      <td>feat_70</td>\n",
       "      <td>0.021049</td>\n",
       "    </tr>\n",
       "    <tr>\n",
       "      <th>31</th>\n",
       "      <td>feat_32</td>\n",
       "      <td>0.020594</td>\n",
       "    </tr>\n",
       "    <tr>\n",
       "      <th>32</th>\n",
       "      <td>feat_33</td>\n",
       "      <td>0.018250</td>\n",
       "    </tr>\n",
       "    <tr>\n",
       "      <th>71</th>\n",
       "      <td>feat_72</td>\n",
       "      <td>0.017612</td>\n",
       "    </tr>\n",
       "    <tr>\n",
       "      <th>42</th>\n",
       "      <td>feat_43</td>\n",
       "      <td>0.017278</td>\n",
       "    </tr>\n",
       "    <tr>\n",
       "      <th>41</th>\n",
       "      <td>feat_42</td>\n",
       "      <td>0.017184</td>\n",
       "    </tr>\n",
       "    <tr>\n",
       "      <th>8</th>\n",
       "      <td>feat_9</td>\n",
       "      <td>0.017046</td>\n",
       "    </tr>\n",
       "    <tr>\n",
       "      <th>84</th>\n",
       "      <td>feat_85</td>\n",
       "      <td>0.016558</td>\n",
       "    </tr>\n",
       "    <tr>\n",
       "      <th>7</th>\n",
       "      <td>feat_8</td>\n",
       "      <td>0.016231</td>\n",
       "    </tr>\n",
       "    <tr>\n",
       "      <th>33</th>\n",
       "      <td>feat_34</td>\n",
       "      <td>0.015497</td>\n",
       "    </tr>\n",
       "    <tr>\n",
       "      <th>35</th>\n",
       "      <td>feat_36</td>\n",
       "      <td>0.014832</td>\n",
       "    </tr>\n",
       "    <tr>\n",
       "      <th>59</th>\n",
       "      <td>feat_60</td>\n",
       "      <td>0.014648</td>\n",
       "    </tr>\n",
       "    <tr>\n",
       "      <th>65</th>\n",
       "      <td>feat_66</td>\n",
       "      <td>0.014162</td>\n",
       "    </tr>\n",
       "    <tr>\n",
       "      <th>21</th>\n",
       "      <td>feat_22</td>\n",
       "      <td>0.013790</td>\n",
       "    </tr>\n",
       "    <tr>\n",
       "      <th>74</th>\n",
       "      <td>feat_75</td>\n",
       "      <td>0.013498</td>\n",
       "    </tr>\n",
       "    <tr>\n",
       "      <th>70</th>\n",
       "      <td>feat_71</td>\n",
       "      <td>0.011851</td>\n",
       "    </tr>\n",
       "    <tr>\n",
       "      <th>37</th>\n",
       "      <td>feat_38</td>\n",
       "      <td>0.011320</td>\n",
       "    </tr>\n",
       "    <tr>\n",
       "      <th>...</th>\n",
       "      <td>...</td>\n",
       "      <td>...</td>\n",
       "    </tr>\n",
       "    <tr>\n",
       "      <th>89</th>\n",
       "      <td>feat_90</td>\n",
       "      <td>0.005166</td>\n",
       "    </tr>\n",
       "    <tr>\n",
       "      <th>79</th>\n",
       "      <td>feat_80</td>\n",
       "      <td>0.004880</td>\n",
       "    </tr>\n",
       "    <tr>\n",
       "      <th>3</th>\n",
       "      <td>feat_4</td>\n",
       "      <td>0.004527</td>\n",
       "    </tr>\n",
       "    <tr>\n",
       "      <th>90</th>\n",
       "      <td>feat_91</td>\n",
       "      <td>0.004460</td>\n",
       "    </tr>\n",
       "    <tr>\n",
       "      <th>57</th>\n",
       "      <td>feat_58</td>\n",
       "      <td>0.004416</td>\n",
       "    </tr>\n",
       "    <tr>\n",
       "      <th>48</th>\n",
       "      <td>feat_49</td>\n",
       "      <td>0.003686</td>\n",
       "    </tr>\n",
       "    <tr>\n",
       "      <th>6</th>\n",
       "      <td>feat_7</td>\n",
       "      <td>0.003541</td>\n",
       "    </tr>\n",
       "    <tr>\n",
       "      <th>2</th>\n",
       "      <td>feat_3</td>\n",
       "      <td>0.003461</td>\n",
       "    </tr>\n",
       "    <tr>\n",
       "      <th>20</th>\n",
       "      <td>feat_21</td>\n",
       "      <td>0.003447</td>\n",
       "    </tr>\n",
       "    <tr>\n",
       "      <th>29</th>\n",
       "      <td>feat_30</td>\n",
       "      <td>0.003442</td>\n",
       "    </tr>\n",
       "    <tr>\n",
       "      <th>62</th>\n",
       "      <td>feat_63</td>\n",
       "      <td>0.003251</td>\n",
       "    </tr>\n",
       "    <tr>\n",
       "      <th>44</th>\n",
       "      <td>feat_45</td>\n",
       "      <td>0.003082</td>\n",
       "    </tr>\n",
       "    <tr>\n",
       "      <th>26</th>\n",
       "      <td>feat_27</td>\n",
       "      <td>0.003036</td>\n",
       "    </tr>\n",
       "    <tr>\n",
       "      <th>22</th>\n",
       "      <td>feat_23</td>\n",
       "      <td>0.002978</td>\n",
       "    </tr>\n",
       "    <tr>\n",
       "      <th>51</th>\n",
       "      <td>feat_52</td>\n",
       "      <td>0.002560</td>\n",
       "    </tr>\n",
       "    <tr>\n",
       "      <th>45</th>\n",
       "      <td>feat_46</td>\n",
       "      <td>0.002352</td>\n",
       "    </tr>\n",
       "    <tr>\n",
       "      <th>11</th>\n",
       "      <td>feat_12</td>\n",
       "      <td>0.002139</td>\n",
       "    </tr>\n",
       "    <tr>\n",
       "      <th>4</th>\n",
       "      <td>feat_5</td>\n",
       "      <td>0.002096</td>\n",
       "    </tr>\n",
       "    <tr>\n",
       "      <th>76</th>\n",
       "      <td>feat_77</td>\n",
       "      <td>0.002088</td>\n",
       "    </tr>\n",
       "    <tr>\n",
       "      <th>18</th>\n",
       "      <td>feat_19</td>\n",
       "      <td>0.002072</td>\n",
       "    </tr>\n",
       "    <tr>\n",
       "      <th>80</th>\n",
       "      <td>feat_81</td>\n",
       "      <td>0.001985</td>\n",
       "    </tr>\n",
       "    <tr>\n",
       "      <th>1</th>\n",
       "      <td>feat_2</td>\n",
       "      <td>0.001977</td>\n",
       "    </tr>\n",
       "    <tr>\n",
       "      <th>27</th>\n",
       "      <td>feat_28</td>\n",
       "      <td>0.001868</td>\n",
       "    </tr>\n",
       "    <tr>\n",
       "      <th>92</th>\n",
       "      <td>feat_93</td>\n",
       "      <td>0.001760</td>\n",
       "    </tr>\n",
       "    <tr>\n",
       "      <th>30</th>\n",
       "      <td>feat_31</td>\n",
       "      <td>0.001595</td>\n",
       "    </tr>\n",
       "    <tr>\n",
       "      <th>83</th>\n",
       "      <td>feat_84</td>\n",
       "      <td>0.000957</td>\n",
       "    </tr>\n",
       "    <tr>\n",
       "      <th>60</th>\n",
       "      <td>feat_61</td>\n",
       "      <td>0.000718</td>\n",
       "    </tr>\n",
       "    <tr>\n",
       "      <th>50</th>\n",
       "      <td>feat_51</td>\n",
       "      <td>0.000660</td>\n",
       "    </tr>\n",
       "    <tr>\n",
       "      <th>81</th>\n",
       "      <td>feat_82</td>\n",
       "      <td>0.000657</td>\n",
       "    </tr>\n",
       "    <tr>\n",
       "      <th>5</th>\n",
       "      <td>feat_6</td>\n",
       "      <td>0.000616</td>\n",
       "    </tr>\n",
       "  </tbody>\n",
       "</table>\n",
       "<p>93 rows × 2 columns</p>\n",
       "</div>"
      ],
      "text/plain": [
       "    columns  importance\n",
       "66  feat_67    0.039975\n",
       "23  feat_24    0.037326\n",
       "47  feat_48    0.032613\n",
       "85  feat_86    0.031725\n",
       "24  feat_25    0.031474\n",
       "39  feat_40    0.028941\n",
       "13  feat_14    0.027623\n",
       "63  feat_64    0.026137\n",
       "15  feat_16    0.025728\n",
       "61  feat_62    0.023995\n",
       "87  feat_88    0.023306\n",
       "14  feat_15    0.022511\n",
       "53  feat_54    0.022190\n",
       "69  feat_70    0.021049\n",
       "31  feat_32    0.020594\n",
       "32  feat_33    0.018250\n",
       "71  feat_72    0.017612\n",
       "42  feat_43    0.017278\n",
       "41  feat_42    0.017184\n",
       "8    feat_9    0.017046\n",
       "84  feat_85    0.016558\n",
       "7    feat_8    0.016231\n",
       "33  feat_34    0.015497\n",
       "35  feat_36    0.014832\n",
       "59  feat_60    0.014648\n",
       "65  feat_66    0.014162\n",
       "21  feat_22    0.013790\n",
       "74  feat_75    0.013498\n",
       "70  feat_71    0.011851\n",
       "37  feat_38    0.011320\n",
       "..      ...         ...\n",
       "89  feat_90    0.005166\n",
       "79  feat_80    0.004880\n",
       "3    feat_4    0.004527\n",
       "90  feat_91    0.004460\n",
       "57  feat_58    0.004416\n",
       "48  feat_49    0.003686\n",
       "6    feat_7    0.003541\n",
       "2    feat_3    0.003461\n",
       "20  feat_21    0.003447\n",
       "29  feat_30    0.003442\n",
       "62  feat_63    0.003251\n",
       "44  feat_45    0.003082\n",
       "26  feat_27    0.003036\n",
       "22  feat_23    0.002978\n",
       "51  feat_52    0.002560\n",
       "45  feat_46    0.002352\n",
       "11  feat_12    0.002139\n",
       "4    feat_5    0.002096\n",
       "76  feat_77    0.002088\n",
       "18  feat_19    0.002072\n",
       "80  feat_81    0.001985\n",
       "1    feat_2    0.001977\n",
       "27  feat_28    0.001868\n",
       "92  feat_93    0.001760\n",
       "30  feat_31    0.001595\n",
       "83  feat_84    0.000957\n",
       "60  feat_61    0.000718\n",
       "50  feat_51    0.000660\n",
       "81  feat_82    0.000657\n",
       "5    feat_6    0.000616\n",
       "\n",
       "[93 rows x 2 columns]"
      ]
     },
     "execution_count": 41,
     "metadata": {},
     "output_type": "execute_result"
    }
   ],
   "source": [
    "df"
   ]
  },
  {
   "cell_type": "code",
   "execution_count": 37,
   "metadata": {},
   "outputs": [
    {
     "data": {
      "image/png": "[encoded data removed]",
      "text/plain": [
       "<matplotlib.figure.Figure at 0x10a6c8350>"
      ]
     },
     "metadata": {},
     "output_type": "display_data"
    }
   ],
   "source": [
    "plt.bar(range(len(xgb_g.feature_importances_)), xgb_g.feature_importances_)\n",
    "plt.show()"
   ]
  },
  {
   "cell_type": "code",
   "execution_count": null,
   "metadata": {
    "collapsed": true
   },
   "outputs": [],
   "source": []
  }
 ],
 "metadata": {
  "kernelspec": {
   "display_name": "Python 2",
   "language": "python",
   "name": "python2"
  },
  "language_info": {
   "codemirror_mode": {
    "name": "ipython",
    "version": 2
   },
   "file_extension": ".py",
   "mimetype": "text/x-python",
   "name": "python",
   "nbconvert_exporter": "python",
   "pygments_lexer": "ipython2",
   "version": "2.7.3"
  }
 },
 "nbformat": 4,
 "nbformat_minor": 2
}
