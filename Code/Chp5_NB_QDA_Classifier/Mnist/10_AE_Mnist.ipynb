{
 "cells": [
  {
   "cell_type": "markdown",
   "metadata": {},
   "source": [
    "# 自编码器 —— Mnist数据集\n",
    "1. 基于DNN的自编码器\n",
    "2. 基于CNN的自编码器\n",
    "\n",
    "Mnist数据集：\n",
    "数据来源于Kaggle竞赛提供的数据：Digit Recognizer （https://www.kaggle.com/c/digit-recognizer/data）\n",
    "训练集包含42,000个样本，测试集包含28,000个样本。\n",
    "每个样本为28*28的灰度图像，像素值在[0,255]\n",
    "数据排列形式：\n",
    "000 001 002 003 ... 026 027\n",
    "028 029 030 031 ... 054 055\n",
    "056 057 058 059 ... 082 083\n",
    " |   |   |   |  ...  |   |\n",
    "728 729 730 731 ... 754 755\n",
    "756 757 758 759 ... 782 783 "
   ]
  },
  {
   "cell_type": "markdown",
   "metadata": {},
   "source": [
    "## 导入工具包"
   ]
  },
  {
   "cell_type": "code",
   "execution_count": 1,
   "metadata": {},
   "outputs": [
    {
     "name": "stderr",
     "output_type": "stream",
     "text": [
      "/Users/qing/anaconda2/lib/python2.7/site-packages/cryptography/hazmat/primitives/constant_time.py:26: CryptographyDeprecationWarning: Support for your Python version is deprecated. The next version of cryptography will remove support. Please upgrade to a 2.7.x release that supports hmac.compare_digest as soon as possible.\n",
      "  utils.DeprecatedIn23,\n"
     ]
    }
   ],
   "source": [
    "import torch\n",
    "import torchvision\n",
    "from torchvision import datasets, transforms\n",
    "from torch.autograd import Variable\n",
    "import torch.nn as nn\n",
    "\n",
    "import pandas as pd\n",
    "import numpy as np\n",
    "\n",
    "from matplotlib import cm\n",
    "import matplotlib.pyplot as plt\n",
    "%matplotlib inline"
   ]
  },
  {
   "cell_type": "markdown",
   "metadata": {},
   "source": [
    "## 定义超参数"
   ]
  },
  {
   "cell_type": "code",
   "execution_count": 2,
   "metadata": {
    "collapsed": true
   },
   "outputs": [],
   "source": [
    "#训练次数\n",
    "EPOCH = 100\n",
    "\n",
    "#每批次的样本数目\n",
    "BATCH_SIZE = 256\n",
    "\n",
    "#学习率\n",
    "LR = 0.001\n",
    "\n",
    "#可视化重构图像数目\n",
    "N_TEST_IMG = 5"
   ]
  },
  {
   "cell_type": "markdown",
   "metadata": {},
   "source": [
    "## PyTorch自带MINIST数据集\n",
    "## 1. 下载数据\n",
    "## 2.  装载数据"
   ]
  },
  {
   "cell_type": "code",
   "execution_count": 3,
   "metadata": {
    "collapsed": true,
    "scrolled": true
   },
   "outputs": [],
   "source": [
    "#root：数据集存放的路径，transform：导入数据集时需要进行何种变换操作，\n",
    "#train=True：导入的是训练集合，否则为测试集合。\n",
    "\n",
    "#Tensor格式转换\n",
    "#transform = transforms.Compose([transforms.ToTensor(),\n",
    "#                               transforms.Normalize(mean=[0.5],std=[0.5])])\n",
    "\n",
    "#train_data = datasets.MNIST(root = \"./data/\",\n",
    "#                            transform=transform,\n",
    "#                            train = True,\n",
    "#                            download = True)\n",
    "\n",
    "#print(train_data.train_data.size())     # (60000, 28, 28)\n",
    "\n",
    "#batch_size:每批装载64个图片，shuffle: 随机乱序\n",
    "#data_loader_train = torch.utils.data.DataLoader(dataset = train_data,\n",
    "#                                                batch_size = BATCH_SIZE,\n",
    "#                                                shuffle = True)"
   ]
  },
  {
   "cell_type": "markdown",
   "metadata": {},
   "source": [
    "## 读取数据\n",
    "这里我们用于Kaggle竞赛提供的数据：Digit Recognizer （https://www.kaggle.com/c/digit-recognizer/data）\n",
    "分别存在两个在csv文件"
   ]
  },
  {
   "cell_type": "code",
   "execution_count": 4,
   "metadata": {},
   "outputs": [
    {
     "name": "stdout",
     "output_type": "stream",
     "text": [
      "Number of training samples: 42000\n",
      "Number of training pixels: 784\n",
      "Number of classes: 10\n"
     ]
    }
   ],
   "source": [
    "#读取训练数据,训练集中有42000个样本\n",
    "train = pd.read_csv('./data/MNIST_train.csv')\n",
    "\n",
    "n_train = len(train)\n",
    "n_pixels = len(train.columns) - 1\n",
    "n_class = len(set(train['label']))\n",
    "\n",
    "print('Number of training samples: {0}'.format(n_train))\n",
    "print('Number of training pixels: {0}'.format(n_pixels))\n",
    "print('Number of classes: {0}'.format(n_class))"
   ]
  },
  {
   "cell_type": "code",
   "execution_count": 5,
   "metadata": {
    "collapsed": true
   },
   "outputs": [],
   "source": [
    "#分离特征和标签\n",
    "y_train = train.label.values\n",
    "X_train = train.drop(\"label\",axis=1).values\n",
    "\n",
    "#2D图像，像素值[0,255]  --> [0,1]  --> [-1, 1](神经网络的输入在-1到1之间更容易收敛)\n",
    "X_train = X_train/255.0\n",
    "X_train = (X_train)*2 - 1\n",
    "X_train = X_train.reshape(-1, 1, 28, 28)  #(samples, channels, height, width))\n",
    "\n",
    "\n",
    "# 训练数据的特征和标签：numpy\n",
    "tX_train = torch.from_numpy(X_train).type(torch.float)\n",
    "t_y_train = torch.from_numpy(y_train).type(torch.LongTensor) # data type is long\n",
    "\n",
    "# 训练数据的特征：Tensor\n",
    "train = torch.utils.data.TensorDataset(tX_train,t_y_train)\n",
    "#test = torch.utils.data.TensorDataset(featuresTest,targetsTest)\n",
    "\n",
    "# 数据装载器\n",
    "data_loader_train = torch.utils.data.DataLoader(train, batch_size = BATCH_SIZE, shuffle = True)\n",
    "#test_loader = torch.utils.data.DataLoader(test, batch_size = batch_size, shuffle = False)"
   ]
  },
  {
   "cell_type": "code",
   "execution_count": 6,
   "metadata": {},
   "outputs": [
    {
     "data": {
      "text/plain": [
       "<matplotlib.image.AxesImage at 0x11b32af90>"
      ]
     },
     "execution_count": 6,
     "metadata": {},
     "output_type": "execute_result"
    },
    {
     "data": {
      "image/png": "[encoded data removed]",
      "text/plain": [
       "<matplotlib.figure.Figure at 0x115573ed0>"
      ]
     },
     "metadata": {
      "needs_background": "light"
     },
     "output_type": "display_data"
    }
   ],
   "source": [
    "#显示第一批100个图像，每个数字占 （28+padding）*（28+padding）个像素\n",
    "images, labels = next(iter(data_loader_train))\n",
    "img = torchvision.utils.make_grid(images, nrow=40)\n",
    "\n",
    "img = img.numpy().transpose(1,2,0)\n",
    "img = img + 1\n",
    "img = img*0.5\n",
    "#plt.title(labels.numpy())\n",
    "plt.imshow(img)"
   ]
  },
  {
   "cell_type": "markdown",
   "metadata": {},
   "source": [
    "## 定义网络结构"
   ]
  },
  {
   "cell_type": "code",
   "execution_count": 7,
   "metadata": {
    "collapsed": true
   },
   "outputs": [],
   "source": [
    "class AutoEncoder(nn.Module):\n",
    "    def __init__(self):\n",
    "        super(AutoEncoder, self).__init__()\n",
    "\n",
    "        self.encoder = nn.Sequential(\n",
    "            nn.Linear(28*28, 128), #全连接层\n",
    "            nn.ReLU(True),         #激活层\n",
    "            \n",
    "            nn.Linear(128, 64),    #全连接层\n",
    "            nn.ReLU(True),         #激活层\n",
    "            \n",
    "            nn.Linear(64, 32),     #全连接层\n",
    "        )\n",
    "        \n",
    "        self.decoder = nn.Sequential(\n",
    "            nn.Linear(32, 64),\n",
    "            nn.ReLU(True),\n",
    "            \n",
    "            nn.Linear(64, 128),\n",
    "            nn.ReLU(True),\n",
    "            \n",
    "            nn.Linear(128, 28*28),\n",
    "            nn.Sigmoid(),       # 结果在[0, 1]\n",
    "        )\n",
    "\n",
    "    def forward(self, x):\n",
    "        encoded = self.encoder(x)\n",
    "        decoded = self.decoder(encoded)\n",
    "        return encoded, decoded"
   ]
  },
  {
   "cell_type": "markdown",
   "metadata": {},
   "source": [
    "## 模型训练"
   ]
  },
  {
   "cell_type": "code",
   "execution_count": 8,
   "metadata": {
    "collapsed": true
   },
   "outputs": [],
   "source": [
    "#生成网络实例\n",
    "autoencoder = AutoEncoder()\n"
   ]
  },
  {
   "cell_type": "code",
   "execution_count": 9,
   "metadata": {
    "collapsed": true
   },
   "outputs": [],
   "source": [
    "#定义损失函数\n",
    "loss_func = nn.MSELoss()\n",
    "\n",
    "#优化算法\n",
    "optimizer = torch.optim.Adam(autoencoder.parameters(), lr=LR, weight_decay=1e-5)\n",
    "\n",
    "\n",
    "#如果有已经训练好的模型，装载之前训练好的模型的参数\n",
    "#autoencoder.load_state_dict(torch.load('ae_DNN_parameter.pkl'))"
   ]
  },
  {
   "cell_type": "code",
   "execution_count": 10,
   "metadata": {},
   "outputs": [
    {
     "name": "stdout",
     "output_type": "stream",
     "text": [
      "('Epoch: ', 0, '| train loss: 0.9181')\n",
      "('Epoch: ', 1, '| train loss: 0.9246')\n",
      "('Epoch: ', 2, '| train loss: 0.9215')\n",
      "('Epoch: ', 3, '| train loss: 0.9174')\n",
      "('Epoch: ', 4, '| train loss: 0.9199')\n",
      "('Epoch: ', 5, '| train loss: 0.9241')\n",
      "('Epoch: ', 6, '| train loss: 0.9258')\n",
      "('Epoch: ', 7, '| train loss: 0.9275')\n",
      "('Epoch: ', 8, '| train loss: 0.9253')\n",
      "('Epoch: ', 9, '| train loss: 0.9109')\n",
      "('Epoch: ', 10, '| train loss: 0.9233')\n",
      "('Epoch: ', 11, '| train loss: 0.9210')\n",
      "('Epoch: ', 12, '| train loss: 0.9250')\n",
      "('Epoch: ', 13, '| train loss: 0.9308')\n",
      "('Epoch: ', 14, '| train loss: 0.9236')\n",
      "('Epoch: ', 15, '| train loss: 0.9290')\n",
      "('Epoch: ', 16, '| train loss: 0.9233')\n",
      "('Epoch: ', 17, '| train loss: 0.9070')\n",
      "('Epoch: ', 18, '| train loss: 0.9022')\n",
      "('Epoch: ', 19, '| train loss: 0.9220')\n",
      "('Epoch: ', 20, '| train loss: 0.9076')\n",
      "('Epoch: ', 21, '| train loss: 0.9047')\n",
      "('Epoch: ', 22, '| train loss: 0.8818')\n",
      "('Epoch: ', 23, '| train loss: 0.9005')\n",
      "('Epoch: ', 24, '| train loss: 0.8870')\n",
      "('Epoch: ', 25, '| train loss: 0.8712')\n",
      "('Epoch: ', 26, '| train loss: 0.8925')\n",
      "('Epoch: ', 27, '| train loss: 0.8985')\n",
      "('Epoch: ', 28, '| train loss: 0.8852')\n",
      "('Epoch: ', 29, '| train loss: 0.8646')\n",
      "('Epoch: ', 30, '| train loss: 0.8771')\n",
      "('Epoch: ', 31, '| train loss: 0.8860')\n",
      "('Epoch: ', 32, '| train loss: 0.8728')\n",
      "('Epoch: ', 33, '| train loss: 0.8857')\n",
      "('Epoch: ', 34, '| train loss: 0.8958')\n",
      "('Epoch: ', 35, '| train loss: 0.8649')\n",
      "('Epoch: ', 36, '| train loss: 0.8559')\n",
      "('Epoch: ', 37, '| train loss: 0.8810')\n",
      "('Epoch: ', 39, '| train loss: 0.8720')\n",
      "('Epoch: ', 40, '| train loss: 0.8618')\n",
      "('Epoch: ', 41, '| train loss: 0.8830')\n",
      "('Epoch: ', 42, '| train loss: 0.8476')\n",
      "('Epoch: ', 43, '| train loss: 0.8627')\n",
      "('Epoch: ', 44, '| train loss: 0.8527')\n",
      "('Epoch: ', 45, '| train loss: 0.8713')\n",
      "('Epoch: ', 46, '| train loss: 0.8721')\n",
      "('Epoch: ', 47, '| train loss: 0.8594')\n",
      "('Epoch: ', 48, '| train loss: 0.8644')\n",
      "('Epoch: ', 49, '| train loss: 0.8518')\n",
      "('Epoch: ', 50, '| train loss: 0.8681')\n",
      "('Epoch: ', 51, '| train loss: 0.8834')\n",
      "('Epoch: ', 52, '| train loss: 0.8629')\n",
      "('Epoch: ', 53, '| train loss: 0.8713')\n",
      "('Epoch: ', 54, '| train loss: 0.8618')\n",
      "('Epoch: ', 55, '| train loss: 0.8701')\n",
      "('Epoch: ', 56, '| train loss: 0.8576')\n",
      "('Epoch: ', 57, '| train loss: 0.8540')\n",
      "('Epoch: ', 58, '| train loss: 0.8799')\n",
      "('Epoch: ', 59, '| train loss: 0.8876')\n",
      "('Epoch: ', 60, '| train loss: 0.8751')\n",
      "('Epoch: ', 61, '| train loss: 0.8709')\n",
      "('Epoch: ', 62, '| train loss: 0.8716')\n",
      "('Epoch: ', 63, '| train loss: 0.8671')\n",
      "('Epoch: ', 64, '| train loss: 0.8790')\n",
      "('Epoch: ', 65, '| train loss: 0.8720')\n",
      "('Epoch: ', 66, '| train loss: 0.8729')\n",
      "('Epoch: ', 67, '| train loss: 0.8761')\n",
      "('Epoch: ', 68, '| train loss: 0.8680')\n",
      "('Epoch: ', 69, '| train loss: 0.8677')\n",
      "('Epoch: ', 70, '| train loss: 0.8649')\n",
      "('Epoch: ', 71, '| train loss: 0.8668')\n",
      "('Epoch: ', 72, '| train loss: 0.8739')\n",
      "('Epoch: ', 73, '| train loss: 0.8719')\n",
      "('Epoch: ', 74, '| train loss: 0.8662')\n",
      "('Epoch: ', 75, '| train loss: 0.8550')\n",
      "('Epoch: ', 76, '| train loss: 0.8541')\n",
      "('Epoch: ', 77, '| train loss: 0.8542')\n",
      "('Epoch: ', 78, '| train loss: 0.8614')\n",
      "('Epoch: ', 79, '| train loss: 0.8802')\n",
      "('Epoch: ', 80, '| train loss: 0.8666')\n",
      "('Epoch: ', 81, '| train loss: 0.8771')\n",
      "('Epoch: ', 82, '| train loss: 0.8626')\n",
      "('Epoch: ', 83, '| train loss: 0.8688')\n",
      "('Epoch: ', 84, '| train loss: 0.8588')\n",
      "('Epoch: ', 85, '| train loss: 0.8566')\n",
      "('Epoch: ', 86, '| train loss: 0.8657')\n",
      "('Epoch: ', 87, '| train loss: 0.8634')\n",
      "('Epoch: ', 88, '| train loss: 0.8538')\n",
      "('Epoch: ', 89, '| train loss: 0.8847')\n",
      "('Epoch: ', 90, '| train loss: 0.8596')\n",
      "('Epoch: ', 91, '| train loss: 0.8734')\n",
      "('Epoch: ', 92, '| train loss: 0.8627')\n",
      "('Epoch: ', 93, '| train loss: 0.8622')\n",
      "('Epoch: ', 94, '| train loss: 0.8288')\n",
      "('Epoch: ', 95, '| train loss: 0.8630')\n",
      "('Epoch: ', 96, '| train loss: 0.8574')\n",
      "('Epoch: ', 97, '| train loss: 0.8593')\n",
      "('Epoch: ', 98, '| train loss: 0.8660')\n",
      "('Epoch: ', 99, '| train loss: 0.8502')\n"
     ]
    },
    {
     "data": {
      "image/png": "[encoded data removed]",
      "text/plain": [
       "<matplotlib.figure.Figure at 0x11b329350>"
      ]
     },
     "metadata": {
      "needs_background": "light"
     },
     "output_type": "display_data"
    }
   ],
   "source": [
    "# 初始化可视化图像\n",
    "#f, a = plt.subplots(2, N_TEST_IMG, figsize=(5, 2))\n",
    "#plt.ion()   # continuously plot\n",
    "\n",
    "#可视化重构图像\n",
    "#view_data = tX_train[: N_TEST_IMG].view(-1, 28*28).type(torch.FloatTensor)\n",
    "#for i in range(N_TEST_IMG):\n",
    "    #a[0][i].imshow(np.reshape(view_data.data.numpy()[i], (28, 28)), cmap='gray')\n",
    "    #a[0][i].set_xticks(()); a[0][i].set_yticks(())\n",
    "\n",
    "for epoch in range(EPOCH):\n",
    "    for step, (x, b_label) in enumerate(data_loader_train):\n",
    "        b_x = x.view(-1, 28*28)   # batch x, shape (batch, 28*28)\n",
    "        b_y = b_x   # batch y, shape (batch, 28*28)\n",
    "\n",
    "        encoded, decoded = autoencoder(b_x)\n",
    "\n",
    "        loss = loss_func(decoded, b_y)      # mean square error\n",
    "        optimizer.zero_grad()               # clear gradients for this training step\n",
    "        loss.backward()                     # backpropagation, compute gradients\n",
    "        optimizer.step()                    # apply gradients\n",
    "\n",
    "        \n",
    "    print('Epoch: ', epoch, '| train loss: %.4f' % loss.data.numpy())\n"
   ]
  },
  {
   "cell_type": "code",
   "execution_count": 18,
   "metadata": {},
   "outputs": [
    {
     "data": {
      "image/png": "[encoded data removed]",
      "text/plain": [
       "<matplotlib.figure.Figure at 0x1183631d0>"
      ]
     },
     "metadata": {},
     "output_type": "display_data"
    }
   ],
   "source": [
    "f, a = plt.subplots(2, N_TEST_IMG, figsize=(5, 2))\n",
    "plt.ion()   # continuously plot\n",
    "\n",
    "#可视化重构图像\n",
    "view_data = tX_train[: N_TEST_IMG].view(-1, 28*28).type(torch.FloatTensor)\n",
    "for i in range(N_TEST_IMG):\n",
    "    a[0][i].imshow(np.reshape(view_data.data.numpy()[i], (28, 28)), cmap='gray')\n",
    "    a[0][i].set_xticks(()); a[0][i].set_yticks(())\n",
    "\n",
    "_, decoded_data = autoencoder(view_data)\n",
    "for i in range(N_TEST_IMG):\n",
    "    a[1][i].clear()\n",
    "    a[1][i].imshow(np.reshape(decoded_data.data.numpy()[i], (28, 28)), cmap='gray')\n",
    "    a[1][i].set_xticks(()); a[1][i].set_yticks(())\n",
    "plt.draw(); plt.pause(0.05)\n",
    "            \n",
    "plt.ioff()\n",
    "plt.show()"
   ]
  },
  {
   "cell_type": "markdown",
   "metadata": {},
   "source": [
    "## 保存模型参数"
   ]
  },
  {
   "cell_type": "code",
   "execution_count": null,
   "metadata": {
    "collapsed": true
   },
   "outputs": [],
   "source": [
    "torch.save(autoencoder.state_dict(), \"ae_DNN_parameter.pkl\")"
   ]
  },
  {
   "cell_type": "markdown",
   "metadata": {},
   "source": [
    "## 可视化压缩数据"
   ]
  },
  {
   "cell_type": "code",
   "execution_count": 19,
   "metadata": {
    "collapsed": true
   },
   "outputs": [],
   "source": [
    "# Scale and visualize the embedding vectors\n",
    "def plot_embedding(X, y, title=None):\n",
    "    x_min, x_max = np.min(X, 0), np.max(X, 0)\n",
    "    X = (X - x_min) / (x_max - x_min)\n",
    "\n",
    "    plt.figure()\n",
    "    ax = plt.subplot(111)\n",
    "    for i in range(X.shape[0]):\n",
    "        plt.text(X[i, 0], X[i, 1], str(y[i]),\n",
    "                 color=plt.cm.Set1(y[i] / 10.),\n",
    "                 fontdict={'weight': 'bold', 'size': 9})\n",
    "\n",
    "    plt.xticks([]), plt.yticks([])\n",
    "    \n",
    "    if title is not None:\n",
    "        plt.title(title)"
   ]
  },
  {
   "cell_type": "code",
   "execution_count": null,
   "metadata": {},
   "outputs": [
    {
     "data": {
      "image/png": "[encoded data removed]",
      "text/plain": [
       "<matplotlib.figure.Figure at 0x118417510>"
      ]
     },
     "metadata": {},
     "output_type": "display_data"
    }
   ],
   "source": [
    "#显示前200个数字\n",
    "view_data = (tX_train[:200]).view(-1, 28*28)\n",
    "\n",
    "#编码\n",
    "encoded_data, _ = autoencoder(view_data)\n",
    "\n",
    "\n",
    "#真实标签\n",
    "lables = t_y_train[:200].numpy()\n",
    "\n",
    "plot_embedding(encoded_data.data[:, 0:2].numpy(), lables, \"AutoEncoder_DNN\")"
   ]
  },
  {
   "cell_type": "markdown",
   "metadata": {},
   "source": [
    "## 卷积自编码器"
   ]
  },
  {
   "cell_type": "code",
   "execution_count": 7,
   "metadata": {
    "collapsed": true
   },
   "outputs": [],
   "source": [
    "###定义网络结构\n",
    "class ConvAutoencoder(nn.Module):\n",
    "    def __init__(self):\n",
    "        super(ConvAutoencoder, self).__init__()      \n",
    "        \n",
    "        ## encoder layers ##\n",
    "        self.encoder = nn.Sequential(\n",
    "            nn.Conv2d(1, 16, 3,  padding=1) , #卷积层，depth from 1 --> 16, 3x3 kernels, img_size: 28*28 -> 28*28\n",
    "            nn.ReLU(),  #激活层\n",
    "            nn.MaxPool2d(2, 2),   #池化层, -->16*14*14\n",
    "            \n",
    "            nn.Conv2d(16, 4, 3, padding=1),  #卷积层，depth from 16 --> 4, 3x3 kernels, img_size: 14*14 -> 14*14\n",
    "            nn.ReLU(),\n",
    "            nn.MaxPool2d(2, 2),   #池化层, -->4*7*7\n",
    "        )\n",
    "        \n",
    "        self.decoder = nn.Sequential(\n",
    "            nn.ConvTranspose2d(4, 16, 2, stride=2),  #转置卷积，a kernel of 2 and a stride of 2 will increase the spatial dims by 2\n",
    "            nn.ReLU(),\n",
    "            nn.ConvTranspose2d(16, 1, 2, stride=2),\n",
    "            nn.Sigmoid(),       # 结果在[0, 1]\n",
    "        )\n",
    "   \n",
    "\n",
    "    def forward(self, x):\n",
    "        encoded = self.encoder(x)\n",
    "        decoded = self.decoder(encoded)\n",
    "        return encoded, decoded"
   ]
  },
  {
   "cell_type": "code",
   "execution_count": 8,
   "metadata": {
    "scrolled": true
   },
   "outputs": [
    {
     "name": "stdout",
     "output_type": "stream",
     "text": [
      "ConvAutoencoder(\n",
      "  (encoder): Sequential(\n",
      "    (0): Conv2d(1, 16, kernel_size=(3, 3), stride=(1, 1), padding=(1, 1))\n",
      "    (1): ReLU()\n",
      "    (2): MaxPool2d(kernel_size=2, stride=2, padding=0, dilation=1, ceil_mode=False)\n",
      "    (3): Conv2d(16, 4, kernel_size=(3, 3), stride=(1, 1), padding=(1, 1))\n",
      "    (4): ReLU()\n",
      "    (5): MaxPool2d(kernel_size=2, stride=2, padding=0, dilation=1, ceil_mode=False)\n",
      "  )\n",
      "  (decoder): Sequential(\n",
      "    (0): ConvTranspose2d(4, 16, kernel_size=(2, 2), stride=(2, 2))\n",
      "    (1): ReLU()\n",
      "    (2): ConvTranspose2d(16, 1, kernel_size=(2, 2), stride=(2, 2))\n",
      "    (3): Sigmoid()\n",
      "  )\n",
      ")\n"
     ]
    }
   ],
   "source": [
    "##训练网络\n",
    "# initialize the NN\n",
    "autoencoder_cnn = ConvAutoencoder()\n",
    "print(autoencoder_cnn)\n",
    "\n",
    "#定义损失函数\n",
    "loss_func = nn.MSELoss()\n",
    "\n",
    "#优化算法\n",
    "optimizer = torch.optim.Adam(autoencoder_cnn.parameters(), lr=LR)\n",
    "\n",
    "\n",
    "#如果有已经训练好的模型，装载之前训练好的模型的参数\n",
    "#autoencoder_cnn.load_state_dict(torch.load('ae_CNN_parameter.pkl'))"
   ]
  },
  {
   "cell_type": "code",
   "execution_count": 17,
   "metadata": {
    "scrolled": true
   },
   "outputs": [
    {
     "name": "stdout",
     "output_type": "stream",
     "text": [
      "('Epoch: ', 0, '| train loss: 1.8895')\n",
      "('Epoch: ', 0, '| train loss: 0.9367')\n",
      "('Epoch: ', 1, '| train loss: 0.9262')\n",
      "('Epoch: ', 1, '| train loss: 0.9119')\n",
      "('Epoch: ', 2, '| train loss: 0.9138')\n",
      "('Epoch: ', 2, '| train loss: 0.9092')\n",
      "('Epoch: ', 3, '| train loss: 0.9078')\n",
      "('Epoch: ', 3, '| train loss: 0.9010')\n",
      "('Epoch: ', 4, '| train loss: 0.9043')\n",
      "('Epoch: ', 4, '| train loss: 0.8992')\n",
      "('Epoch: ', 5, '| train loss: 0.8974')\n",
      "('Epoch: ', 5, '| train loss: 0.8901')\n",
      "('Epoch: ', 6, '| train loss: 0.8895')\n",
      "('Epoch: ', 6, '| train loss: 0.8898')\n",
      "('Epoch: ', 7, '| train loss: 0.8896')\n",
      "('Epoch: ', 7, '| train loss: 0.8877')\n",
      "('Epoch: ', 8, '| train loss: 0.8820')\n",
      "('Epoch: ', 8, '| train loss: 0.8848')\n",
      "('Epoch: ', 9, '| train loss: 0.8873')\n",
      "('Epoch: ', 9, '| train loss: 0.8817')\n",
      "('Epoch: ', 10, '| train loss: 0.8801')\n",
      "('Epoch: ', 10, '| train loss: 0.8826')\n",
      "('Epoch: ', 11, '| train loss: 0.8879')\n",
      "('Epoch: ', 11, '| train loss: 0.8807')\n",
      "('Epoch: ', 12, '| train loss: 0.8839')\n",
      "('Epoch: ', 12, '| train loss: 0.8801')\n",
      "('Epoch: ', 13, '| train loss: 0.8834')\n",
      "('Epoch: ', 13, '| train loss: 0.8774')\n",
      "('Epoch: ', 14, '| train loss: 0.8812')\n",
      "('Epoch: ', 14, '| train loss: 0.8792')\n",
      "('Epoch: ', 15, '| train loss: 0.8791')\n",
      "('Epoch: ', 15, '| train loss: 0.8803')\n",
      "('Epoch: ', 16, '| train loss: 0.8797')\n",
      "('Epoch: ', 16, '| train loss: 0.8798')\n",
      "('Epoch: ', 17, '| train loss: 0.8792')\n",
      "('Epoch: ', 17, '| train loss: 0.8784')\n",
      "('Epoch: ', 18, '| train loss: 0.8785')\n",
      "('Epoch: ', 18, '| train loss: 0.8675')\n",
      "('Epoch: ', 19, '| train loss: 0.8656')\n",
      "('Epoch: ', 19, '| train loss: 0.8656')\n",
      "('Epoch: ', 20, '| train loss: 0.8615')\n",
      "('Epoch: ', 20, '| train loss: 0.8625')\n",
      "('Epoch: ', 21, '| train loss: 0.8622')\n",
      "('Epoch: ', 21, '| train loss: 0.8663')\n",
      "('Epoch: ', 22, '| train loss: 0.8606')\n",
      "('Epoch: ', 22, '| train loss: 0.8608')\n",
      "('Epoch: ', 23, '| train loss: 0.8640')\n",
      "('Epoch: ', 23, '| train loss: 0.8615')\n",
      "('Epoch: ', 24, '| train loss: 0.8660')\n",
      "('Epoch: ', 24, '| train loss: 0.8600')\n",
      "('Epoch: ', 25, '| train loss: 0.8613')\n",
      "('Epoch: ', 25, '| train loss: 0.8634')\n",
      "('Epoch: ', 26, '| train loss: 0.8623')\n",
      "('Epoch: ', 26, '| train loss: 0.8629')\n",
      "('Epoch: ', 27, '| train loss: 0.8635')\n",
      "('Epoch: ', 27, '| train loss: 0.8570')\n",
      "('Epoch: ', 28, '| train loss: 0.8654')\n",
      "('Epoch: ', 28, '| train loss: 0.8587')\n",
      "('Epoch: ', 29, '| train loss: 0.8654')\n",
      "('Epoch: ', 29, '| train loss: 0.8610')\n",
      "('Epoch: ', 30, '| train loss: 0.8595')\n",
      "('Epoch: ', 30, '| train loss: 0.8606')\n",
      "('Epoch: ', 31, '| train loss: 0.8615')\n",
      "('Epoch: ', 31, '| train loss: 0.8616')\n",
      "('Epoch: ', 32, '| train loss: 0.8619')\n",
      "('Epoch: ', 32, '| train loss: 0.8547')\n",
      "('Epoch: ', 33, '| train loss: 0.8592')\n",
      "('Epoch: ', 33, '| train loss: 0.8563')\n",
      "('Epoch: ', 34, '| train loss: 0.8578')\n",
      "('Epoch: ', 34, '| train loss: 0.8591')\n",
      "('Epoch: ', 35, '| train loss: 0.8585')\n",
      "('Epoch: ', 35, '| train loss: 0.8588')\n",
      "('Epoch: ', 36, '| train loss: 0.8539')\n",
      "('Epoch: ', 36, '| train loss: 0.8635')\n",
      "('Epoch: ', 37, '| train loss: 0.8605')\n",
      "('Epoch: ', 37, '| train loss: 0.8635')\n",
      "('Epoch: ', 38, '| train loss: 0.8612')\n",
      "('Epoch: ', 38, '| train loss: 0.8626')\n",
      "('Epoch: ', 39, '| train loss: 0.8564')\n",
      "('Epoch: ', 39, '| train loss: 0.8600')\n",
      "('Epoch: ', 40, '| train loss: 0.8636')\n",
      "('Epoch: ', 40, '| train loss: 0.8508')\n",
      "('Epoch: ', 41, '| train loss: 0.8570')\n",
      "('Epoch: ', 41, '| train loss: 0.8539')\n",
      "('Epoch: ', 42, '| train loss: 0.8648')\n",
      "('Epoch: ', 42, '| train loss: 0.8610')\n",
      "('Epoch: ', 43, '| train loss: 0.8572')\n",
      "('Epoch: ', 43, '| train loss: 0.8605')\n",
      "('Epoch: ', 44, '| train loss: 0.8654')\n",
      "('Epoch: ', 44, '| train loss: 0.8589')\n",
      "('Epoch: ', 45, '| train loss: 0.8554')\n",
      "('Epoch: ', 45, '| train loss: 0.8625')\n",
      "('Epoch: ', 46, '| train loss: 0.8540')\n",
      "('Epoch: ', 46, '| train loss: 0.8579')\n",
      "('Epoch: ', 47, '| train loss: 0.8610')\n",
      "('Epoch: ', 47, '| train loss: 0.8544')\n",
      "('Epoch: ', 48, '| train loss: 0.8574')\n",
      "('Epoch: ', 48, '| train loss: 0.8589')\n",
      "('Epoch: ', 49, '| train loss: 0.8581')\n",
      "('Epoch: ', 49, '| train loss: 0.8585')\n",
      "('Epoch: ', 50, '| train loss: 0.8594')\n",
      "('Epoch: ', 50, '| train loss: 0.8586')\n",
      "('Epoch: ', 51, '| train loss: 0.8583')\n",
      "('Epoch: ', 51, '| train loss: 0.8559')\n",
      "('Epoch: ', 52, '| train loss: 0.8573')\n",
      "('Epoch: ', 52, '| train loss: 0.8603')\n",
      "('Epoch: ', 53, '| train loss: 0.8588')\n",
      "('Epoch: ', 53, '| train loss: 0.8572')\n",
      "('Epoch: ', 54, '| train loss: 0.8557')\n",
      "('Epoch: ', 54, '| train loss: 0.8604')\n",
      "('Epoch: ', 55, '| train loss: 0.8627')\n",
      "('Epoch: ', 55, '| train loss: 0.8601')\n",
      "('Epoch: ', 56, '| train loss: 0.8586')\n",
      "('Epoch: ', 56, '| train loss: 0.8622')\n",
      "('Epoch: ', 57, '| train loss: 0.8566')\n",
      "('Epoch: ', 57, '| train loss: 0.8605')\n",
      "('Epoch: ', 58, '| train loss: 0.8560')\n",
      "('Epoch: ', 58, '| train loss: 0.8593')\n",
      "('Epoch: ', 59, '| train loss: 0.8617')\n",
      "('Epoch: ', 59, '| train loss: 0.8550')\n",
      "('Epoch: ', 60, '| train loss: 0.8574')\n",
      "('Epoch: ', 60, '| train loss: 0.8577')\n",
      "('Epoch: ', 61, '| train loss: 0.8580')\n",
      "('Epoch: ', 61, '| train loss: 0.8587')\n",
      "('Epoch: ', 62, '| train loss: 0.8576')\n",
      "('Epoch: ', 62, '| train loss: 0.8583')\n",
      "('Epoch: ', 63, '| train loss: 0.8563')\n",
      "('Epoch: ', 63, '| train loss: 0.8595')\n",
      "('Epoch: ', 64, '| train loss: 0.8578')\n",
      "('Epoch: ', 64, '| train loss: 0.8596')\n",
      "('Epoch: ', 65, '| train loss: 0.8554')\n",
      "('Epoch: ', 65, '| train loss: 0.8569')\n",
      "('Epoch: ', 66, '| train loss: 0.8602')\n",
      "('Epoch: ', 66, '| train loss: 0.8602')\n",
      "('Epoch: ', 67, '| train loss: 0.8548')\n",
      "('Epoch: ', 67, '| train loss: 0.8549')\n",
      "('Epoch: ', 68, '| train loss: 0.8561')\n",
      "('Epoch: ', 68, '| train loss: 0.8577')\n",
      "('Epoch: ', 69, '| train loss: 0.8569')\n",
      "('Epoch: ', 69, '| train loss: 0.8527')\n",
      "('Epoch: ', 70, '| train loss: 0.8620')\n",
      "('Epoch: ', 70, '| train loss: 0.8563')\n",
      "('Epoch: ', 71, '| train loss: 0.8518')\n",
      "('Epoch: ', 71, '| train loss: 0.8553')\n",
      "('Epoch: ', 72, '| train loss: 0.8558')\n",
      "('Epoch: ', 72, '| train loss: 0.8551')\n",
      "('Epoch: ', 73, '| train loss: 0.8574')\n",
      "('Epoch: ', 73, '| train loss: 0.8579')\n",
      "('Epoch: ', 74, '| train loss: 0.8570')\n",
      "('Epoch: ', 74, '| train loss: 0.8585')\n",
      "('Epoch: ', 75, '| train loss: 0.8633')\n",
      "('Epoch: ', 75, '| train loss: 0.8569')\n",
      "('Epoch: ', 76, '| train loss: 0.8551')\n",
      "('Epoch: ', 76, '| train loss: 0.8517')\n",
      "('Epoch: ', 77, '| train loss: 0.8504')\n",
      "('Epoch: ', 77, '| train loss: 0.8539')\n",
      "('Epoch: ', 78, '| train loss: 0.8522')\n",
      "('Epoch: ', 78, '| train loss: 0.8585')\n",
      "('Epoch: ', 79, '| train loss: 0.8601')\n",
      "('Epoch: ', 79, '| train loss: 0.8564')\n",
      "('Epoch: ', 80, '| train loss: 0.8534')\n",
      "('Epoch: ', 80, '| train loss: 0.8561')\n",
      "('Epoch: ', 81, '| train loss: 0.8519')\n",
      "('Epoch: ', 81, '| train loss: 0.8564')\n",
      "('Epoch: ', 82, '| train loss: 0.8578')\n",
      "('Epoch: ', 82, '| train loss: 0.8569')\n",
      "('Epoch: ', 83, '| train loss: 0.8591')\n",
      "('Epoch: ', 83, '| train loss: 0.8538')\n",
      "('Epoch: ', 84, '| train loss: 0.8533')\n",
      "('Epoch: ', 84, '| train loss: 0.8571')\n",
      "('Epoch: ', 85, '| train loss: 0.8558')\n",
      "('Epoch: ', 85, '| train loss: 0.8571')\n",
      "('Epoch: ', 86, '| train loss: 0.8541')\n",
      "('Epoch: ', 86, '| train loss: 0.8512')\n",
      "('Epoch: ', 87, '| train loss: 0.8563')\n",
      "('Epoch: ', 87, '| train loss: 0.8562')\n",
      "('Epoch: ', 88, '| train loss: 0.8574')\n",
      "('Epoch: ', 88, '| train loss: 0.8599')\n",
      "('Epoch: ', 89, '| train loss: 0.8552')\n",
      "('Epoch: ', 89, '| train loss: 0.8583')\n",
      "('Epoch: ', 90, '| train loss: 0.8595')\n",
      "('Epoch: ', 90, '| train loss: 0.8575')\n",
      "('Epoch: ', 91, '| train loss: 0.8520')\n",
      "('Epoch: ', 91, '| train loss: 0.8554')\n",
      "('Epoch: ', 92, '| train loss: 0.8606')\n",
      "('Epoch: ', 92, '| train loss: 0.8585')\n",
      "('Epoch: ', 93, '| train loss: 0.8476')\n",
      "('Epoch: ', 93, '| train loss: 0.8512')\n",
      "('Epoch: ', 94, '| train loss: 0.8578')\n",
      "('Epoch: ', 94, '| train loss: 0.8572')\n",
      "('Epoch: ', 95, '| train loss: 0.8509')\n",
      "('Epoch: ', 95, '| train loss: 0.8545')\n",
      "('Epoch: ', 96, '| train loss: 0.8579')\n",
      "('Epoch: ', 96, '| train loss: 0.8519')\n",
      "('Epoch: ', 97, '| train loss: 0.8591')\n",
      "('Epoch: ', 97, '| train loss: 0.8555')\n",
      "('Epoch: ', 98, '| train loss: 0.8518')\n",
      "('Epoch: ', 98, '| train loss: 0.8524')\n",
      "('Epoch: ', 99, '| train loss: 0.8538')\n",
      "('Epoch: ', 99, '| train loss: 0.8570')\n"
     ]
    }
   ],
   "source": [
    "for epoch in range(EPOCH):\n",
    "    for step, (b_x, b_label) in enumerate(data_loader_train):\n",
    "        #b_x = x.view(-1, 28*28)   # batch x, shape (batch, 28*28)\n",
    "        b_y = b_x   # batch y\n",
    "   \n",
    "        encoded, decoded = autoencoder_cnn(b_x)\n",
    "        \n",
    "        loss = loss_func(decoded, b_y)      # mean square error\n",
    "        optimizer.zero_grad()               # clear gradients for this training step\n",
    "        loss.backward()                     # backpropagation, compute gradients\n",
    "        optimizer.step()                    # apply gradients\n",
    "\n",
    "        if step % 100 == 0:\n",
    "            print('Epoch: ', epoch, '| train loss: %.4f' % loss.data.numpy())\n",
    "            \n",
    "            #可视化重构结果#\n",
    "            #_, decoded_data = autoencoder_cnn(view_data)\n",
    "            #for i in range(N_TEST_IMG):\n",
    "            #    a[1][i].clear()\n",
    "            #    a[1][i].imshow(np.reshape(decoded_data.data.numpy()[i], (28, 28)), cmap='gray')\n",
    "            #    a[1][i].set_xticks(()); a[1][i].set_yticks(())\n",
    "            #plt.draw(); plt.pause(0.05)\n",
    "            \n",
    "#plt.ioff()\n",
    "#plt.show()"
   ]
  },
  {
   "cell_type": "code",
   "execution_count": 18,
   "metadata": {},
   "outputs": [
    {
     "data": {
      "image/png": "[encoded data removed]",
      "text/plain": [
       "<matplotlib.figure.Figure at 0x11abb8950>"
      ]
     },
     "metadata": {},
     "output_type": "display_data"
    }
   ],
   "source": [
    "f, a = plt.subplots(2, N_TEST_IMG, figsize=(5, 2))\n",
    "plt.ion()   # continuously plot\n",
    "\n",
    "#可视化重构图像\n",
    "view_data = tX_train[: N_TEST_IMG].type(torch.FloatTensor)\n",
    "for i in range(N_TEST_IMG):\n",
    "    a[0][i].imshow(np.reshape(view_data.data.numpy()[i], (28, 28)), cmap='gray')\n",
    "    a[0][i].set_xticks(()); a[0][i].set_yticks(())\n",
    "\n",
    "_, decoded_data = autoencoder_cnn(view_data)\n",
    "for i in range(N_TEST_IMG):\n",
    "    a[1][i].clear()\n",
    "    a[1][i].imshow(np.reshape(decoded_data.data.numpy()[i], (28, 28)), cmap='gray')\n",
    "    a[1][i].set_xticks(()); a[1][i].set_yticks(())\n",
    "plt.draw(); plt.pause(0.05)\n",
    "            \n",
    "plt.ioff()\n",
    "plt.show()"
   ]
  },
  {
   "cell_type": "code",
   "execution_count": null,
   "metadata": {
    "collapsed": true
   },
   "outputs": [],
   "source": []
  }
 ],
 "metadata": {
  "kernelspec": {
   "display_name": "Python (pytorch)",
   "language": "python",
   "name": "pytorch"
  },
  "language_info": {
   "codemirror_mode": {
    "name": "ipython",
    "version": 2
   },
   "file_extension": ".py",
   "mimetype": "text/x-python",
   "name": "python",
   "nbconvert_exporter": "python",
   "pygments_lexer": "ipython2",
   "version": "2.7.3"
  }
 },
 "nbformat": 4,
 "nbformat_minor": 2
}
