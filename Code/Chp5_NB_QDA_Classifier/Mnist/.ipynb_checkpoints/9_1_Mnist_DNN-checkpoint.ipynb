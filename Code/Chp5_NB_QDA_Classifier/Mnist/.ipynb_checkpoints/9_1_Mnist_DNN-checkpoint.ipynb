{
 "cells": [
  {
   "cell_type": "markdown",
   "metadata": {},
   "source": [
    "## 用全连接神经网络在MNIST数据集上进行手写数字识别\n",
    "数据集：https://www.kaggle.com/c/digit-recognizer/data\n",
    "训练集42000张，\n",
    "测试集 28000张，\n",
    "每幅图像：28*28 黑白图，每个像素值为0到和255之间数值"
   ]
  },
  {
   "cell_type": "markdown",
   "metadata": {},
   "source": [
    "## 导入工具包"
   ]
  },
  {
   "cell_type": "code",
   "execution_count": 1,
   "metadata": {
    "collapsed": true
   },
   "outputs": [],
   "source": [
    "import numpy as np \n",
    "import pandas as pd # 数据处理\n",
    "import matplotlib.pyplot as plt # 画图\n",
    "from torch.utils.data import DataLoader\n",
    "from sklearn.model_selection import train_test_split\n",
    "\n",
    "# Import Torch \n",
    "import torch\n",
    "import torch.nn as nn\n",
    "\n",
    "from torch import nn, optim"
   ]
  },
  {
   "cell_type": "markdown",
   "metadata": {},
   "source": [
    "## 读入数据"
   ]
  },
  {
   "cell_type": "code",
   "execution_count": 2,
   "metadata": {},
   "outputs": [
    {
     "data": {
      "text/html": [
       "<div>\n",
       "<style>\n",
       "    .dataframe thead tr:only-child th {\n",
       "        text-align: right;\n",
       "    }\n",
       "\n",
       "    .dataframe thead th {\n",
       "        text-align: left;\n",
       "    }\n",
       "\n",
       "    .dataframe tbody tr th {\n",
       "        vertical-align: top;\n",
       "    }\n",
       "</style>\n",
       "<table border=\"1\" class=\"dataframe\">\n",
       "  <thead>\n",
       "    <tr style=\"text-align: right;\">\n",
       "      <th></th>\n",
       "      <th>label</th>\n",
       "      <th>pixel0</th>\n",
       "      <th>pixel1</th>\n",
       "      <th>pixel2</th>\n",
       "      <th>pixel3</th>\n",
       "      <th>pixel4</th>\n",
       "      <th>pixel5</th>\n",
       "      <th>pixel6</th>\n",
       "      <th>pixel7</th>\n",
       "      <th>pixel8</th>\n",
       "      <th>...</th>\n",
       "      <th>pixel774</th>\n",
       "      <th>pixel775</th>\n",
       "      <th>pixel776</th>\n",
       "      <th>pixel777</th>\n",
       "      <th>pixel778</th>\n",
       "      <th>pixel779</th>\n",
       "      <th>pixel780</th>\n",
       "      <th>pixel781</th>\n",
       "      <th>pixel782</th>\n",
       "      <th>pixel783</th>\n",
       "    </tr>\n",
       "  </thead>\n",
       "  <tbody>\n",
       "    <tr>\n",
       "      <th>0</th>\n",
       "      <td>1</td>\n",
       "      <td>0</td>\n",
       "      <td>0</td>\n",
       "      <td>0</td>\n",
       "      <td>0</td>\n",
       "      <td>0</td>\n",
       "      <td>0</td>\n",
       "      <td>0</td>\n",
       "      <td>0</td>\n",
       "      <td>0</td>\n",
       "      <td>...</td>\n",
       "      <td>0</td>\n",
       "      <td>0</td>\n",
       "      <td>0</td>\n",
       "      <td>0</td>\n",
       "      <td>0</td>\n",
       "      <td>0</td>\n",
       "      <td>0</td>\n",
       "      <td>0</td>\n",
       "      <td>0</td>\n",
       "      <td>0</td>\n",
       "    </tr>\n",
       "    <tr>\n",
       "      <th>1</th>\n",
       "      <td>0</td>\n",
       "      <td>0</td>\n",
       "      <td>0</td>\n",
       "      <td>0</td>\n",
       "      <td>0</td>\n",
       "      <td>0</td>\n",
       "      <td>0</td>\n",
       "      <td>0</td>\n",
       "      <td>0</td>\n",
       "      <td>0</td>\n",
       "      <td>...</td>\n",
       "      <td>0</td>\n",
       "      <td>0</td>\n",
       "      <td>0</td>\n",
       "      <td>0</td>\n",
       "      <td>0</td>\n",
       "      <td>0</td>\n",
       "      <td>0</td>\n",
       "      <td>0</td>\n",
       "      <td>0</td>\n",
       "      <td>0</td>\n",
       "    </tr>\n",
       "    <tr>\n",
       "      <th>2</th>\n",
       "      <td>1</td>\n",
       "      <td>0</td>\n",
       "      <td>0</td>\n",
       "      <td>0</td>\n",
       "      <td>0</td>\n",
       "      <td>0</td>\n",
       "      <td>0</td>\n",
       "      <td>0</td>\n",
       "      <td>0</td>\n",
       "      <td>0</td>\n",
       "      <td>...</td>\n",
       "      <td>0</td>\n",
       "      <td>0</td>\n",
       "      <td>0</td>\n",
       "      <td>0</td>\n",
       "      <td>0</td>\n",
       "      <td>0</td>\n",
       "      <td>0</td>\n",
       "      <td>0</td>\n",
       "      <td>0</td>\n",
       "      <td>0</td>\n",
       "    </tr>\n",
       "    <tr>\n",
       "      <th>3</th>\n",
       "      <td>4</td>\n",
       "      <td>0</td>\n",
       "      <td>0</td>\n",
       "      <td>0</td>\n",
       "      <td>0</td>\n",
       "      <td>0</td>\n",
       "      <td>0</td>\n",
       "      <td>0</td>\n",
       "      <td>0</td>\n",
       "      <td>0</td>\n",
       "      <td>...</td>\n",
       "      <td>0</td>\n",
       "      <td>0</td>\n",
       "      <td>0</td>\n",
       "      <td>0</td>\n",
       "      <td>0</td>\n",
       "      <td>0</td>\n",
       "      <td>0</td>\n",
       "      <td>0</td>\n",
       "      <td>0</td>\n",
       "      <td>0</td>\n",
       "    </tr>\n",
       "    <tr>\n",
       "      <th>4</th>\n",
       "      <td>0</td>\n",
       "      <td>0</td>\n",
       "      <td>0</td>\n",
       "      <td>0</td>\n",
       "      <td>0</td>\n",
       "      <td>0</td>\n",
       "      <td>0</td>\n",
       "      <td>0</td>\n",
       "      <td>0</td>\n",
       "      <td>0</td>\n",
       "      <td>...</td>\n",
       "      <td>0</td>\n",
       "      <td>0</td>\n",
       "      <td>0</td>\n",
       "      <td>0</td>\n",
       "      <td>0</td>\n",
       "      <td>0</td>\n",
       "      <td>0</td>\n",
       "      <td>0</td>\n",
       "      <td>0</td>\n",
       "      <td>0</td>\n",
       "    </tr>\n",
       "  </tbody>\n",
       "</table>\n",
       "<p>5 rows × 785 columns</p>\n",
       "</div>"
      ],
      "text/plain": [
       "   label  pixel0  pixel1  pixel2  pixel3  pixel4  pixel5  pixel6  pixel7  \\\n",
       "0      1       0       0       0       0       0       0       0       0   \n",
       "1      0       0       0       0       0       0       0       0       0   \n",
       "2      1       0       0       0       0       0       0       0       0   \n",
       "3      4       0       0       0       0       0       0       0       0   \n",
       "4      0       0       0       0       0       0       0       0       0   \n",
       "\n",
       "   pixel8    ...     pixel774  pixel775  pixel776  pixel777  pixel778  \\\n",
       "0       0    ...            0         0         0         0         0   \n",
       "1       0    ...            0         0         0         0         0   \n",
       "2       0    ...            0         0         0         0         0   \n",
       "3       0    ...            0         0         0         0         0   \n",
       "4       0    ...            0         0         0         0         0   \n",
       "\n",
       "   pixel779  pixel780  pixel781  pixel782  pixel783  \n",
       "0         0         0         0         0         0  \n",
       "1         0         0         0         0         0  \n",
       "2         0         0         0         0         0  \n",
       "3         0         0         0         0         0  \n",
       "4         0         0         0         0         0  \n",
       "\n",
       "[5 rows x 785 columns]"
      ]
     },
     "execution_count": 2,
     "metadata": {},
     "output_type": "execute_result"
    }
   ],
   "source": [
    "train = pd.read_csv(\"./data/MNIST_train.csv\")\n",
    "test = pd.read_csv(\"./data/MNIST_test.csv\")\n",
    "train.head()"
   ]
  },
  {
   "cell_type": "markdown",
   "metadata": {},
   "source": [
    "## 数据预处理"
   ]
  },
  {
   "cell_type": "code",
   "execution_count": 3,
   "metadata": {
    "collapsed": true
   },
   "outputs": [],
   "source": [
    "y = train.label.values\n",
    "X = train.drop(\"label\",axis=1).values\n",
    "\n",
    "#2D图像，像素值[0,255]  --> [0,1]  --> [-1, 1](神经网络的输入在-1到1之间更容易收敛)\n",
    "X = X/255.0\n",
    "X = (X)*2 - 1\n",
    "#X = X.reshape(-1, 1, 28, 28)  #(samples, channels, height, width))"
   ]
  },
  {
   "cell_type": "code",
   "execution_count": 4,
   "metadata": {
    "collapsed": true
   },
   "outputs": [],
   "source": [
    "#验证集：20%\n",
    "X_train, X_test, y_train, y_test = train_test_split(X, y, random_state=33, test_size=0.2)"
   ]
  },
  {
   "cell_type": "markdown",
   "metadata": {},
   "source": [
    "### 转换成Tensor"
   ]
  },
  {
   "cell_type": "code",
   "execution_count": 5,
   "metadata": {
    "collapsed": true
   },
   "outputs": [],
   "source": [
    "#train set\n",
    "X_train_tensor = torch.from_numpy(X_train).type(torch.float)\n",
    "y_train_tensor = torch.from_numpy(y_train).type(torch.LongTensor) # data type is long\n",
    "\n",
    "#test set\n",
    "X_test_tensor = torch.from_numpy(X_test).type(torch.float)\n",
    "y_test_tensor = torch.from_numpy(y_test).type(torch.LongTensor) # data type is long"
   ]
  },
  {
   "cell_type": "markdown",
   "metadata": {},
   "source": [
    "### 装载数据"
   ]
  },
  {
   "cell_type": "code",
   "execution_count": 6,
   "metadata": {
    "collapsed": true
   },
   "outputs": [],
   "source": [
    "# Set batch size\n",
    "batch_size = 32\n",
    "\n",
    "# Pytorch train and test sets\n",
    "train = torch.utils.data.TensorDataset(X_train_tensor,y_train_tensor)\n",
    "test = torch.utils.data.TensorDataset(X_test_tensor,y_test_tensor)\n",
    "\n",
    "# data loader\n",
    "train_loader = torch.utils.data.DataLoader(train, batch_size = batch_size, shuffle = True)\n",
    "test_loader = torch.utils.data.DataLoader(test, batch_size = batch_size, shuffle = True)"
   ]
  },
  {
   "cell_type": "markdown",
   "metadata": {},
   "source": [
    "## 定义网络结构\n"
   ]
  },
  {
   "cell_type": "code",
   "execution_count": 7,
   "metadata": {
    "collapsed": true
   },
   "outputs": [],
   "source": [
    "class fc_net(torch.nn.Module):\n",
    "    def __init__(self):\n",
    "        super(fc_net,self).__init__()\n",
    "        self.fc1 = nn.Sequential(nn.Linear(784,512),nn.ReLU())\n",
    "        self.fc2 = nn.Sequential(nn.Linear(512,256),nn.ReLU())\n",
    "        self.fc3 = nn.Sequential(nn.Linear(256,128),nn.ReLU())\n",
    "        self.fc4 = nn.Sequential(nn.Linear(128,64),nn.ReLU())\n",
    "        self.fc5 = nn.Linear(64,10)\n",
    "        \n",
    "    def forward(self,x):\n",
    "        x = self.fc1(x)\n",
    "        x = self.fc2(x)\n",
    "        x = self.fc3(x)\n",
    "        x = self.fc4(x)\n",
    "        x = self.fc5(x)\n",
    "        return x"
   ]
  },
  {
   "cell_type": "markdown",
   "metadata": {},
   "source": [
    "## 模型训练"
   ]
  },
  {
   "cell_type": "code",
   "execution_count": 8,
   "metadata": {},
   "outputs": [
    {
     "name": "stderr",
     "output_type": "stream",
     "text": [
      "/Users/qing/anaconda2/lib/python2.7/site-packages/torch/nn/functional.py:52: UserWarning: size_average and reduce args will be deprecated, please use reduction='sum' instead.\n",
      "  warnings.warn(warning.format(ret))\n"
     ]
    },
    {
     "name": "stdout",
     "output_type": "stream",
     "text": [
      "('Epoch: 1/50.. ', 'Training Loss: 1.086.. ', 'Training Accuracy: 62.414 %', 'Test Loss: 0.430.. ', 'Test Accuracy: 85.190 %')\n",
      "('Epoch: 2/50.. ', 'Training Loss: 0.295.. ', 'Training Accuracy: 90.890 %', 'Test Loss: 0.212.. ', 'Test Accuracy: 93.417 %')\n",
      "('Epoch: 3/50.. ', 'Training Loss: 0.192.. ', 'Training Accuracy: 94.152 %', 'Test Loss: 0.168.. ', 'Test Accuracy: 94.738 %')\n",
      "('Epoch: 4/50.. ', 'Training Loss: 0.142.. ', 'Training Accuracy: 95.631 %', 'Test Loss: 0.136.. ', 'Test Accuracy: 95.750 %')\n",
      "('Epoch: 5/50.. ', 'Training Loss: 0.115.. ', 'Training Accuracy: 96.443 %', 'Test Loss: 0.119.. ', 'Test Accuracy: 96.214 %')\n",
      "('Epoch: 6/50.. ', 'Training Loss: 0.095.. ', 'Training Accuracy: 96.949 %', 'Test Loss: 0.193.. ', 'Test Accuracy: 93.310 %')\n",
      "('Epoch: 7/50.. ', 'Training Loss: 0.080.. ', 'Training Accuracy: 97.458 %', 'Test Loss: 0.118.. ', 'Test Accuracy: 96.524 %')\n",
      "('Epoch: 8/50.. ', 'Training Loss: 0.069.. ', 'Training Accuracy: 97.810 %', 'Test Loss: 0.100.. ', 'Test Accuracy: 97.000 %')\n",
      "('Epoch: 9/50.. ', 'Training Loss: 0.058.. ', 'Training Accuracy: 98.119 %', 'Test Loss: 0.096.. ', 'Test Accuracy: 97.071 %')\n",
      "('Epoch: 10/50.. ', 'Training Loss: 0.050.. ', 'Training Accuracy: 98.351 %', 'Test Loss: 0.157.. ', 'Test Accuracy: 95.119 %')\n",
      "('Epoch: 11/50.. ', 'Training Loss: 0.044.. ', 'Training Accuracy: 98.592 %', 'Test Loss: 0.090.. ', 'Test Accuracy: 97.452 %')\n",
      "('Epoch: 12/50.. ', 'Training Loss: 0.036.. ', 'Training Accuracy: 98.839 %', 'Test Loss: 0.097.. ', 'Test Accuracy: 97.143 %')\n",
      "('Epoch: 13/50.. ', 'Training Loss: 0.031.. ', 'Training Accuracy: 98.938 %', 'Test Loss: 0.105.. ', 'Test Accuracy: 97.321 %')\n",
      "('Epoch: 14/50.. ', 'Training Loss: 0.027.. ', 'Training Accuracy: 99.098 %', 'Test Loss: 0.127.. ', 'Test Accuracy: 96.619 %')\n",
      "('Epoch: 15/50.. ', 'Training Loss: 0.026.. ', 'Training Accuracy: 99.110 %', 'Test Loss: 0.092.. ', 'Test Accuracy: 97.810 %')\n",
      "('Epoch: 16/50.. ', 'Training Loss: 0.023.. ', 'Training Accuracy: 99.238 %', 'Test Loss: 0.100.. ', 'Test Accuracy: 97.357 %')\n",
      "('Epoch: 17/50.. ', 'Training Loss: 0.021.. ', 'Training Accuracy: 99.324 %', 'Test Loss: 0.121.. ', 'Test Accuracy: 96.869 %')\n",
      "('Epoch: 18/50.. ', 'Training Loss: 0.012.. ', 'Training Accuracy: 99.643 %', 'Test Loss: 0.096.. ', 'Test Accuracy: 97.702 %')\n",
      "('Epoch: 19/50.. ', 'Training Loss: 0.012.. ', 'Training Accuracy: 99.610 %', 'Test Loss: 0.105.. ', 'Test Accuracy: 97.476 %')\n",
      "('Epoch: 20/50.. ', 'Training Loss: 0.016.. ', 'Training Accuracy: 99.432 %', 'Test Loss: 0.094.. ', 'Test Accuracy: 97.857 %')\n",
      "('Epoch: 21/50.. ', 'Training Loss: 0.009.. ', 'Training Accuracy: 99.702 %', 'Test Loss: 0.094.. ', 'Test Accuracy: 97.964 %')\n",
      "('Epoch: 22/50.. ', 'Training Loss: 0.010.. ', 'Training Accuracy: 99.664 %', 'Test Loss: 0.119.. ', 'Test Accuracy: 97.155 %')\n",
      "('Epoch: 23/50.. ', 'Training Loss: 0.008.. ', 'Training Accuracy: 99.741 %', 'Test Loss: 0.099.. ', 'Test Accuracy: 97.940 %')\n",
      "('Epoch: 24/50.. ', 'Training Loss: 0.004.. ', 'Training Accuracy: 99.872 %', 'Test Loss: 0.097.. ', 'Test Accuracy: 98.060 %')\n",
      "('Epoch: 25/50.. ', 'Training Loss: 0.001.. ', 'Training Accuracy: 99.988 %', 'Test Loss: 0.097.. ', 'Test Accuracy: 97.988 %')\n",
      "('Epoch: 26/50.. ', 'Training Loss: 0.001.. ', 'Training Accuracy: 99.985 %', 'Test Loss: 0.100.. ', 'Test Accuracy: 98.119 %')\n",
      "('Epoch: 27/50.. ', 'Training Loss: 0.001.. ', 'Training Accuracy: 99.991 %', 'Test Loss: 0.101.. ', 'Test Accuracy: 98.143 %')\n",
      "('Epoch: 28/50.. ', 'Training Loss: 0.000.. ', 'Training Accuracy: 99.997 %', 'Test Loss: 0.103.. ', 'Test Accuracy: 98.190 %')\n",
      "('Epoch: 29/50.. ', 'Training Loss: 0.000.. ', 'Training Accuracy: 99.997 %', 'Test Loss: 0.104.. ', 'Test Accuracy: 98.179 %')\n",
      "('Epoch: 30/50.. ', 'Training Loss: 0.000.. ', 'Training Accuracy: 100.000 %', 'Test Loss: 0.106.. ', 'Test Accuracy: 98.131 %')\n",
      "('Epoch: 31/50.. ', 'Training Loss: 0.000.. ', 'Training Accuracy: 100.000 %', 'Test Loss: 0.107.. ', 'Test Accuracy: 98.143 %')\n",
      "('Epoch: 32/50.. ', 'Training Loss: 0.000.. ', 'Training Accuracy: 100.000 %', 'Test Loss: 0.108.. ', 'Test Accuracy: 98.155 %')\n",
      "('Epoch: 33/50.. ', 'Training Loss: 0.000.. ', 'Training Accuracy: 100.000 %', 'Test Loss: 0.109.. ', 'Test Accuracy: 98.202 %')\n",
      "('Epoch: 34/50.. ', 'Training Loss: 0.000.. ', 'Training Accuracy: 100.000 %', 'Test Loss: 0.110.. ', 'Test Accuracy: 98.190 %')\n",
      "('Epoch: 35/50.. ', 'Training Loss: 0.000.. ', 'Training Accuracy: 100.000 %', 'Test Loss: 0.111.. ', 'Test Accuracy: 98.226 %')\n",
      "('Epoch: 36/50.. ', 'Training Loss: 0.000.. ', 'Training Accuracy: 100.000 %', 'Test Loss: 0.111.. ', 'Test Accuracy: 98.190 %')\n",
      "('Epoch: 37/50.. ', 'Training Loss: 0.000.. ', 'Training Accuracy: 100.000 %', 'Test Loss: 0.112.. ', 'Test Accuracy: 98.214 %')\n",
      "('Epoch: 38/50.. ', 'Training Loss: 0.000.. ', 'Training Accuracy: 100.000 %', 'Test Loss: 0.112.. ', 'Test Accuracy: 98.190 %')\n",
      "('Epoch: 39/50.. ', 'Training Loss: 0.000.. ', 'Training Accuracy: 100.000 %', 'Test Loss: 0.113.. ', 'Test Accuracy: 98.214 %')\n",
      "('Epoch: 40/50.. ', 'Training Loss: 0.000.. ', 'Training Accuracy: 100.000 %', 'Test Loss: 0.114.. ', 'Test Accuracy: 98.214 %')\n",
      "('Epoch: 41/50.. ', 'Training Loss: 0.000.. ', 'Training Accuracy: 100.000 %', 'Test Loss: 0.114.. ', 'Test Accuracy: 98.202 %')\n",
      "('Epoch: 42/50.. ', 'Training Loss: 0.000.. ', 'Training Accuracy: 100.000 %', 'Test Loss: 0.115.. ', 'Test Accuracy: 98.202 %')\n",
      "('Epoch: 43/50.. ', 'Training Loss: 0.000.. ', 'Training Accuracy: 100.000 %', 'Test Loss: 0.115.. ', 'Test Accuracy: 98.226 %')\n",
      "('Epoch: 44/50.. ', 'Training Loss: 0.000.. ', 'Training Accuracy: 100.000 %', 'Test Loss: 0.116.. ', 'Test Accuracy: 98.190 %')\n",
      "('Epoch: 45/50.. ', 'Training Loss: 0.000.. ', 'Training Accuracy: 100.000 %', 'Test Loss: 0.116.. ', 'Test Accuracy: 98.238 %')\n",
      "('Epoch: 46/50.. ', 'Training Loss: 0.000.. ', 'Training Accuracy: 100.000 %', 'Test Loss: 0.116.. ', 'Test Accuracy: 98.214 %')\n",
      "('Epoch: 47/50.. ', 'Training Loss: 0.000.. ', 'Training Accuracy: 100.000 %', 'Test Loss: 0.117.. ', 'Test Accuracy: 98.226 %')\n",
      "('Epoch: 48/50.. ', 'Training Loss: 0.000.. ', 'Training Accuracy: 100.000 %', 'Test Loss: 0.118.. ', 'Test Accuracy: 98.238 %')\n",
      "('Epoch: 49/50.. ', 'Training Loss: 0.000.. ', 'Training Accuracy: 100.000 %', 'Test Loss: 0.118.. ', 'Test Accuracy: 98.238 %')\n",
      "('Epoch: 50/50.. ', 'Training Loss: 0.000.. ', 'Training Accuracy: 100.000 %', 'Test Loss: 0.118.. ', 'Test Accuracy: 98.226 %')\n"
     ]
    },
    {
     "name": "stderr",
     "output_type": "stream",
     "text": [
      "/Users/qing/anaconda2/lib/python2.7/site-packages/torch/serialization.py:241: UserWarning: Couldn't retrieve source code for container of type fc_net. It won't be checked for correctness upon loading.\n",
      "  \"type \" + obj.__name__ + \". It won't be checked \"\n"
     ]
    }
   ],
   "source": [
    "#生成模型实例\n",
    "model = fc_net()\n",
    "\n",
    "#损失函数\n",
    "criterion  = nn.CrossEntropyLoss(size_average=False)\n",
    "\n",
    "# 学习率超参\n",
    "#learning_rate = 0.0015\n",
    "learning_rate = 0.001\n",
    "# 优化器\n",
    "#optimizer = optim.Adam(model.parameters(), lr=learning_rate)\n",
    "optimizer = optim.SGD(model.parameters(), lr = learning_rate)\n",
    "\n",
    "epochs = 50\n",
    "train_losses, test_losses = [], []\n",
    "n_train_samples = len(X_train_tensor)\n",
    "n_test_samples=len(X_test_tensor)\n",
    "for epoch in range(epochs):\n",
    "    running_loss, running_acc = 0., 0.\n",
    "    for (img, label) in train_loader:\n",
    "        \n",
    "        optimizer.zero_grad()\n",
    "        output = model(img)\n",
    "        loss = criterion(output, label)\n",
    "        \n",
    "        loss.backward()\n",
    "        optimizer.step()\n",
    "        \n",
    "        running_loss += loss.item()\n",
    "        _, predict = torch.max(output, 1)\n",
    "        correct_num = (predict == label).sum()\n",
    "        running_acc += correct_num.item()\n",
    "        \n",
    "    running_loss /= n_train_samples\n",
    "    running_acc /= n_train_samples\n",
    "    \n",
    "    #验证误差\n",
    "    # Turn off gradients for validation\n",
    "    with torch.no_grad():\n",
    "        test_loss, test_acc = 0., 0.\n",
    "        for images, labels in test_loader:\n",
    "            output = model(images)\n",
    "            loss = criterion(output, labels)\n",
    "\n",
    "            test_loss += loss.item()\n",
    "            _, predict = torch.max(output, 1)\n",
    "            correct_num = (predict == labels).sum()\n",
    "            test_acc += correct_num.item()\n",
    "    \n",
    "    test_loss /=n_test_samples\n",
    "    test_acc /=n_test_samples\n",
    "    \n",
    "    train_losses.append(running_loss)\n",
    "    test_losses.append(test_loss)\n",
    "                \n",
    "    print(\"Epoch: {}/{}.. \".format(epoch+1, epochs),\n",
    "          \"Training Loss: {:.3f}.. \".format(train_losses[-1]),\n",
    "          \"Training Accuracy: {:.3f} %\".format(100*running_acc),\n",
    "          \"Test Loss: {:.3f}.. \".format(test_losses[-1]),\n",
    "          \"Test Accuracy: {:.3f} %\".format(100*test_acc))\n",
    "    \n",
    "# 保存模型\n",
    "torch.save(model, 'fc.pth.tar')"
   ]
  },
  {
   "cell_type": "code",
   "execution_count": 9,
   "metadata": {},
   "outputs": [
    {
     "name": "stdout",
     "output_type": "stream",
     "text": [
      "Test Accuracy of the model on the 10000 test images: 98 %\n"
     ]
    }
   ],
   "source": [
    "# Test the model\n",
    "model.eval()  # eval mode (batchnorm uses moving mean/variance instead of mini-batch mean/variance)\n",
    "with torch.no_grad():\n",
    "    correct = 0\n",
    "    total = 0\n",
    "    for images, labels in test_loader:\n",
    "        outputs = model(images)\n",
    "        _, predicted = torch.max(outputs.data, 1)\n",
    "        total += labels.size(0)\n",
    "        correct += (predicted == labels).sum().item()\n",
    "\n",
    "    print('Test Accuracy of the model on the 10000 test images: {} %'.format(100 * correct / total))\n",
    "\n",
    "# Save the model checkpoint\n",
    "torch.save(model.state_dict(), 'model.ckpt')"
   ]
  },
  {
   "cell_type": "markdown",
   "metadata": {},
   "source": [
    "## 显示训练误差和验证误差"
   ]
  },
  {
   "cell_type": "code",
   "execution_count": 10,
   "metadata": {},
   "outputs": [
    {
     "data": {
      "text/plain": [
       "<matplotlib.legend.Legend at 0x1a19cd64d0>"
      ]
     },
     "execution_count": 10,
     "metadata": {},
     "output_type": "execute_result"
    },
    {
     "data": {
      "image/png": "[encoded data removed]",
      "text/plain": [
       "<matplotlib.figure.Figure at 0x1a15e92d90>"
      ]
     },
     "metadata": {
      "needs_background": "light"
     },
     "output_type": "display_data"
    }
   ],
   "source": [
    "plt.plot(train_losses, label='Training loss')\n",
    "plt.plot(test_losses, label='Validation loss')\n",
    "\n",
    "plt.xlabel(\"epochs\")\n",
    "plt.ylabel(\"loss\")\n",
    "\n",
    "plt.legend(frameon=False)"
   ]
  },
  {
   "cell_type": "code",
   "execution_count": null,
   "metadata": {
    "collapsed": true
   },
   "outputs": [],
   "source": []
  }
 ],
 "metadata": {
  "kernelspec": {
   "display_name": "Python (pytorch)",
   "language": "python",
   "name": "pytorch"
  },
  "language_info": {
   "codemirror_mode": {
    "name": "ipython",
    "version": 2
   },
   "file_extension": ".py",
   "mimetype": "text/x-python",
   "name": "python",
   "nbconvert_exporter": "python",
   "pygments_lexer": "ipython2",
   "version": "2.7.3"
  }
 },
 "nbformat": 4,
 "nbformat_minor": 1
}
