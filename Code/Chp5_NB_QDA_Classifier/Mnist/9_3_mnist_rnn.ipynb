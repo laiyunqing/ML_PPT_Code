{
 "cells": [
  {
   "cell_type": "code",
   "execution_count": 1,
   "metadata": {
    "collapsed": true
   },
   "outputs": [],
   "source": [
    "# 运行环境\n",
    "# Python3.7\n",
    "# PyTorch 0.2，安装参考https://pytorch.org/get-started/locally/"
   ]
  },
  {
   "cell_type": "code",
   "execution_count": 2,
   "metadata": {
    "collapsed": true
   },
   "outputs": [],
   "source": [
    "# MNIST数据集准备\n",
    "import torch\n",
    "import torchvision\n",
    "from torch.utils.data import DataLoader\n",
    "from torchvision.datasets import MNIST\n",
    "from torchvision import transforms\n",
    "from torch import nn\n",
    "# batch_size超参，根据硬件配置相应大小\n",
    "batch_size = 32\n",
    "\n",
    "trans_img = transforms.Compose([\n",
    "    transforms.ToTensor(),\n",
    "    transforms.Normalize((0.1307,), (0.3081,))\n",
    "    ])\n",
    "\n",
    "# MNIST数据集每张图片是灰度图片，大小为28x28\n",
    "trainset = MNIST('data', train=True, download=True, transform=trans_img)\n",
    "testset = MNIST('data', train=False, download=True, transform=trans_img)\n",
    "train_loader = DataLoader(trainset, batch_size=batch_size, \n",
    "                          shuffle=True, num_workers=1)\n",
    "test_loader = DataLoader(testset, batch_size=batch_size, \n",
    "                          shuffle=True, num_workers=1)# 运行环境\n",
    "# Python2.7\n",
    "# PyTorch 0.2，安装参考https://pytorch.org/get-started/locally/# 运行环境\n",
    "# Python2.7\n",
    "# PyTorch 0.2，安装参考https://pytorch.org/get-started/locally/"
   ]
  },
  {
   "cell_type": "code",
   "execution_count": 3,
   "metadata": {},
   "outputs": [
    {
     "data": {
      "text/plain": [
       "<Figure size 640x480 with 32 Axes>"
      ]
     },
     "metadata": {},
     "output_type": "display_data"
    },
    {
     "data": {
      "text/plain": [
       "<Figure size 640x480 with 32 Axes>"
      ]
     },
     "metadata": {},
     "output_type": "display_data"
    },
    {
     "data": {
      "text/plain": [
       "<Figure size 640x480 with 32 Axes>"
      ]
     },
     "metadata": {},
     "output_type": "display_data"
    },
    {
     "data": {
      "text/plain": [
       "<Figure size 640x480 with 32 Axes>"
      ]
     },
     "metadata": {},
     "output_type": "display_data"
    },
    {
     "data": {
      "text/plain": [
       "<Figure size 640x480 with 32 Axes>"
      ]
     },
     "metadata": {},
     "output_type": "display_data"
    },
    {
     "data": {
      "text/plain": [
       "<Figure size 640x480 with 32 Axes>"
      ]
     },
     "metadata": {},
     "output_type": "display_data"
    },
    {
     "data": {
      "text/plain": [
       "<Figure size 640x480 with 32 Axes>"
      ]
     },
     "metadata": {},
     "output_type": "display_data"
    },
    {
     "data": {
      "text/plain": [
       "<Figure size 640x480 with 32 Axes>"
      ]
     },
     "metadata": {},
     "output_type": "display_data"
    },
    {
     "data": {
      "text/plain": [
       "<Figure size 640x480 with 32 Axes>"
      ]
     },
     "metadata": {},
     "output_type": "display_data"
    },
    {
     "data": {
      "text/plain": [
       "<Figure size 640x480 with 32 Axes>"
      ]
     },
     "metadata": {},
     "output_type": "display_data"
    }
   ],
   "source": [
    "import matplotlib.pyplot as plt\n",
    "\n",
    "plt.ion()\n",
    "cnt = 0\n",
    "for (img_batch, label) in train_loader:\n",
    "    cnt += 1\n",
    "    if cnt > 10:\n",
    "        break\n",
    "    fig, ax = plt.subplots(\n",
    "        nrows=4,\n",
    "        ncols=8,\n",
    "        sharex=True,\n",
    "        sharey=True, )\n",
    "    ax = ax.flatten()\n",
    "    for i in range(32):\n",
    "        img = img_batch[i].numpy().reshape(28, 28)\n",
    "        ax[i].imshow(img, cmap='Greys', interpolation='nearest')\n",
    "\n",
    "    ax[0].set_xticks([])\n",
    "    ax[0].set_yticks([])\n",
    "    plt.show()\n",
    "    plt.close()\n",
    "plt.ioff()"
   ]
  },
  {
   "cell_type": "code",
   "execution_count": 4,
   "metadata": {
    "collapsed": true
   },
   "outputs": [],
   "source": [
    "# Recurrent Network 模型构建\n",
    "class Rnn(nn.Module):\n",
    "    def __init__(self, in_dim, hidden_dim, n_layer, n_class):\n",
    "        super(Rnn, self).__init__()\n",
    "        self.n_layer = n_layer\n",
    "        self.hidden_dim = hidden_dim\n",
    "        self.lstm = nn.LSTM(in_dim, hidden_dim, n_layer, batch_first=True)\n",
    "        self.classifier = nn.Linear(hidden_dim, n_class)\n",
    "\n",
    "    def forward(self, x):\n",
    "        out, _ = self.lstm(x)\n",
    "        out = out[:, -1, :]\n",
    "        out = self.classifier(out)\n",
    "        return out"
   ]
  },
  {
   "cell_type": "code",
   "execution_count": 6,
   "metadata": {},
   "outputs": [
    {
     "name": "stdout",
     "output_type": "stream",
     "text": [
      "Epoch: 1/10..  Training Loss: 0.280..  Training Accuracy: 90.830 % Test Loss: 0.082..  Test Accuracy: 97.560 %\n",
      "[1/10] Loss: 0.27972, Acc: 90.83\n",
      "Epoch: 2/10..  Training Loss: 0.078..  Training Accuracy: 97.695 % Test Loss: 0.060..  Test Accuracy: 98.240 %\n",
      "[2/10] Loss: 0.07829, Acc: 97.69\n",
      "Epoch: 3/10..  Training Loss: 0.056..  Training Accuracy: 98.362 % Test Loss: 0.054..  Test Accuracy: 98.500 %\n",
      "[3/10] Loss: 0.05616, Acc: 98.36\n",
      "Epoch: 4/10..  Training Loss: 0.044..  Training Accuracy: 98.683 % Test Loss: 0.046..  Test Accuracy: 98.660 %\n",
      "[4/10] Loss: 0.04381, Acc: 98.68\n",
      "Epoch: 5/10..  Training Loss: 0.035..  Training Accuracy: 98.910 % Test Loss: 0.052..  Test Accuracy: 98.490 %\n",
      "[5/10] Loss: 0.03468, Acc: 98.91\n",
      "Epoch: 6/10..  Training Loss: 0.032..  Training Accuracy: 99.028 % Test Loss: 0.045..  Test Accuracy: 98.600 %\n",
      "[6/10] Loss: 0.03169, Acc: 99.03\n",
      "Epoch: 7/10..  Training Loss: 0.026..  Training Accuracy: 99.188 % Test Loss: 0.045..  Test Accuracy: 98.690 %\n",
      "[7/10] Loss: 0.02555, Acc: 99.19\n",
      "Epoch: 8/10..  Training Loss: 0.024..  Training Accuracy: 99.245 % Test Loss: 0.046..  Test Accuracy: 98.810 %\n",
      "[8/10] Loss: 0.02356, Acc: 99.25\n",
      "Epoch: 9/10..  Training Loss: 0.020..  Training Accuracy: 99.403 % Test Loss: 0.042..  Test Accuracy: 98.820 %\n",
      "[9/10] Loss: 0.01998, Acc: 99.40\n",
      "Epoch: 10/10..  Training Loss: 0.019..  Training Accuracy: 99.412 % Test Loss: 0.042..  Test Accuracy: 98.770 %\n",
      "[10/10] Loss: 0.01875, Acc: 99.41\n"
     ]
    }
   ],
   "source": [
    "from torch import optim\n",
    "from torch.autograd import Variable\n",
    "import warnings\n",
    "warnings.filterwarnings(\"ignore\",category=UserWarning)\n",
    "# Recurrent Network 模型训练代码\n",
    "model = Rnn(28, 128, 2, 10).cuda()  # 图片大小是28x28，输入维度为28，隐藏单元维度为128，LSTM层数为2，类别数为10\n",
    "learning_rate = 0.001\n",
    "criterion = nn.CrossEntropyLoss(size_average=False)\n",
    "optimizer = optim.Adam(model.parameters(), lr=learning_rate)\n",
    "\n",
    "epochs = 10\n",
    "train_losses=[]\n",
    "test_losses=[]\n",
    "for epoch in range(epochs):\n",
    "    running_loss, running_acc = 0., 0.\n",
    "    for (img, label) in train_loader:\n",
    "        img = Variable(img.squeeze(1)).cuda()\n",
    "        label = Variable(label).cuda()\n",
    "        \n",
    "        optimizer.zero_grad()\n",
    "        out = model(img)\n",
    "        loss = criterion(out, label)\n",
    "        loss.backward()\n",
    "        optimizer.step()\n",
    "        \n",
    "        running_loss += loss.item()\n",
    "        _, predict = torch.max(out, 1)\n",
    "        correct_num = (predict == label).sum()\n",
    "        running_acc += correct_num.item() \n",
    "\n",
    "    running_loss /= len(trainset)\n",
    "    running_acc /= len(trainset)\n",
    "    \n",
    "    with torch.no_grad():\n",
    "        test_loss, test_acc = 0., 0.\n",
    "        for images, labels in test_loader:\n",
    "            images = Variable(images.squeeze(1)).cuda()\n",
    "            labels = Variable(labels).cuda()\n",
    "            output = model(images)\n",
    "            loss = criterion(output, labels)\n",
    "\n",
    "            test_loss += loss.item()\n",
    "            _, predict = torch.max(output, 1)\n",
    "            correct_num = (predict == labels).sum()\n",
    "            test_acc += correct_num.item()\n",
    "    \n",
    "    test_loss /=len(testset)\n",
    "    test_acc /=len(testset)\n",
    "    \n",
    "    train_losses.append(running_loss)\n",
    "    test_losses.append(test_loss)\n",
    "    print(\"Epoch: {}/{}.. \".format(epoch+1, epochs),\n",
    "          \"Training Loss: {:.3f}.. \".format(train_losses[-1]),\n",
    "          \"Training Accuracy: {:.3f} %\".format(100*running_acc),\n",
    "          \"Test Loss: {:.3f}.. \".format(test_losses[-1]),\n",
    "          \"Test Accuracy: {:.3f} %\".format(100*test_acc))\n",
    "# 保存模型\n",
    "torch.save(model, 'rnn.pth.tar')"
   ]
  },
  {
   "cell_type": "code",
   "execution_count": 7,
   "metadata": {},
   "outputs": [
    {
     "data": {
      "text/plain": [
       "<matplotlib.legend.Legend at 0x7fcca5f86208>"
      ]
     },
     "execution_count": 7,
     "metadata": {},
     "output_type": "execute_result"
    },
    {
     "data": {
      "image/png": "[encoded data removed]",
      "text/plain": [
       "<Figure size 432x288 with 1 Axes>"
      ]
     },
     "metadata": {
      "needs_background": "light"
     },
     "output_type": "display_data"
    }
   ],
   "source": [
    "plt.plot(train_losses, label='Training loss')\n",
    "plt.plot(test_losses,label='Validation loss')\n",
    "plt.xlabel(\"epochs\")\n",
    "plt.ylabel(\"loss\")\n",
    "plt.legend(frameon=False)"
   ]
  },
  {
   "cell_type": "code",
   "execution_count": 9,
   "metadata": {},
   "outputs": [
    {
     "name": "stdout",
     "output_type": "stream",
     "text": [
      "testing rnn model\n",
      "rnn model, Test: Loss: 0.04239, Acc: 98.77\n"
     ]
    }
   ],
   "source": [
    "model = torch.load('rnn.pth.tar')\n",
    "print('testing rnn model')\n",
    "testloss, testacc = 0., 0.\n",
    "for (img, label) in test_loader:\n",
    "    img = img.squeeze(1)\n",
    "    img = Variable(img).cuda()\n",
    "    label = Variable(label).cuda()    \n",
    "    out = model(img)\n",
    "    loss = criterion(out, label)\n",
    "    testloss += loss.item()\n",
    "    _, predict = torch.max(out, 1)\n",
    "    correct_num = (predict == label).sum()\n",
    "    testacc += correct_num.item() \n",
    "        \n",
    "testloss /= len(testset)\n",
    "testacc /= len(testset)\n",
    "print('rnn model, Test: Loss: %.5f, Acc: %.2f' %\n",
    "      (testloss, 100 * testacc))"
   ]
  },
  {
   "cell_type": "code",
   "execution_count": null,
   "metadata": {
    "collapsed": true
   },
   "outputs": [],
   "source": []
  }
 ],
 "metadata": {
  "kernelspec": {
   "display_name": "Python (pytorch)",
   "language": "python",
   "name": "pytorch"
  },
  "language_info": {
   "codemirror_mode": {
    "name": "ipython",
    "version": 2
   },
   "file_extension": ".py",
   "mimetype": "text/x-python",
   "name": "python",
   "nbconvert_exporter": "python",
   "pygments_lexer": "ipython2",
   "version": "2.7.3"
  }
 },
 "nbformat": 4,
 "nbformat_minor": 2
}
