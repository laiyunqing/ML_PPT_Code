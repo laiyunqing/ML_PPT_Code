{
 "cells": [
  {
   "cell_type": "markdown",
   "metadata": {},
   "source": [
    "## 优化算法比较"
   ]
  },
  {
   "cell_type": "code",
   "execution_count": null,
   "metadata": {
    "collapsed": true
   },
   "outputs": [],
   "source": [
    "## Adam\n",
    "first_moment = 0\n",
    "second_moment = 0\n",
    "\n",
    "while True:\n",
    "    dx = compute_gradient(x)\n",
    "    first_moment = rho_1 * first_moment + (1 - rho_1)*dx\n",
    "    second_moment = rho_2 * second_moment + (1 - rho_2)*dx*dx\n",
    "    x -= learning_rate first_moment /np.sqrt(second_moment + 1e-7)"
   ]
  }
 ],
 "metadata": {
  "kernelspec": {
   "display_name": "Python 2",
   "language": "python",
   "name": "python2"
  },
  "language_info": {
   "codemirror_mode": {
    "name": "ipython",
    "version": 2
   },
   "file_extension": ".py",
   "mimetype": "text/x-python",
   "name": "python",
   "nbconvert_exporter": "python",
   "pygments_lexer": "ipython2",
   "version": "2.7.3"
  }
 },
 "nbformat": 4,
 "nbformat_minor": 2
}
