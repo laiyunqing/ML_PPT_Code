{
 "cells": [
  {
   "cell_type": "markdown",
   "metadata": {},
   "source": [
    "# 广告投入与产品销量预测\n",
    "\n",
    "该数据集来自Advertising.csv是来自\n",
    "http://faculty.marshall.usc.edu/gareth-james/ISL/Advertising.csv\n",
    "\n",
    "数据集包含200个样本，每个样本有3个输入属性：\n",
    "1. 电视广告投入\n",
    "2. 收音机广告投入\n",
    "3. 报纸广告\n",
    "以及一个输出/响应：\n",
    "4. 产品销量"
   ]
  },
  {
   "cell_type": "markdown",
   "metadata": {},
   "source": [
    "## 1. 导入必要的工具包"
   ]
  },
  {
   "cell_type": "code",
   "execution_count": 1,
   "metadata": {
    "collapsed": true
   },
   "outputs": [],
   "source": [
    "#数据处理\n",
    "import numpy as np \n",
    "import pandas as pd \n",
    "\n",
    "#数据可视化\n",
    "import matplotlib as mpl\n",
    "import matplotlib.pyplot as plt\n",
    "import seaborn as sns\n",
    "\n",
    "%matplotlib inline\n",
    "\n",
    "#显示中文\n",
    "plt.rcParams['font.sans-serif'] = ['Arial Unicode MS']"
   ]
  },
  {
   "cell_type": "markdown",
   "metadata": {},
   "source": [
    "## 2. 读取数据"
   ]
  },
  {
   "cell_type": "code",
   "execution_count": 187,
   "metadata": {
    "scrolled": false
   },
   "outputs": [
    {
     "data": {
      "text/html": [
       "<div>\n",
       "<style>\n",
       "    .dataframe thead tr:only-child th {\n",
       "        text-align: right;\n",
       "    }\n",
       "\n",
       "    .dataframe thead th {\n",
       "        text-align: left;\n",
       "    }\n",
       "\n",
       "    .dataframe tbody tr th {\n",
       "        vertical-align: top;\n",
       "    }\n",
       "</style>\n",
       "<table border=\"1\" class=\"dataframe\">\n",
       "  <thead>\n",
       "    <tr style=\"text-align: right;\">\n",
       "      <th></th>\n",
       "      <th>Unnamed: 0</th>\n",
       "      <th>TV</th>\n",
       "      <th>radio</th>\n",
       "      <th>newspaper</th>\n",
       "      <th>sales</th>\n",
       "    </tr>\n",
       "  </thead>\n",
       "  <tbody>\n",
       "    <tr>\n",
       "      <th>0</th>\n",
       "      <td>1</td>\n",
       "      <td>230.1</td>\n",
       "      <td>37.8</td>\n",
       "      <td>69.2</td>\n",
       "      <td>22.1</td>\n",
       "    </tr>\n",
       "    <tr>\n",
       "      <th>1</th>\n",
       "      <td>2</td>\n",
       "      <td>44.5</td>\n",
       "      <td>39.3</td>\n",
       "      <td>45.1</td>\n",
       "      <td>10.4</td>\n",
       "    </tr>\n",
       "    <tr>\n",
       "      <th>2</th>\n",
       "      <td>3</td>\n",
       "      <td>17.2</td>\n",
       "      <td>45.9</td>\n",
       "      <td>69.3</td>\n",
       "      <td>9.3</td>\n",
       "    </tr>\n",
       "    <tr>\n",
       "      <th>3</th>\n",
       "      <td>4</td>\n",
       "      <td>151.5</td>\n",
       "      <td>41.3</td>\n",
       "      <td>58.5</td>\n",
       "      <td>18.5</td>\n",
       "    </tr>\n",
       "    <tr>\n",
       "      <th>4</th>\n",
       "      <td>5</td>\n",
       "      <td>180.8</td>\n",
       "      <td>10.8</td>\n",
       "      <td>58.4</td>\n",
       "      <td>12.9</td>\n",
       "    </tr>\n",
       "  </tbody>\n",
       "</table>\n",
       "</div>"
      ],
      "text/plain": [
       "   Unnamed: 0     TV  radio  newspaper  sales\n",
       "0           1  230.1   37.8       69.2   22.1\n",
       "1           2   44.5   39.3       45.1   10.4\n",
       "2           3   17.2   45.9       69.3    9.3\n",
       "3           4  151.5   41.3       58.5   18.5\n",
       "4           5  180.8   10.8       58.4   12.9"
      ]
     },
     "execution_count": 187,
     "metadata": {},
     "output_type": "execute_result"
    }
   ],
   "source": [
    "#读取数据\n",
    "dpath = \"../data/\"\n",
    "df = pd.read_csv(dpath + \"Advertising.csv\")\n",
    "\n",
    "#通过观察前5行，了解数据每列（特征）的概况\n",
    "df.head()"
   ]
  },
  {
   "cell_type": "code",
   "execution_count": 188,
   "metadata": {},
   "outputs": [],
   "source": [
    "#去掉索引列\n",
    "df.drop(['Unnamed: 0'], axis = 1, inplace = True)"
   ]
  },
  {
   "cell_type": "markdown",
   "metadata": {},
   "source": [
    "## 数据探索分析"
   ]
  },
  {
   "cell_type": "code",
   "execution_count": 189,
   "metadata": {
    "scrolled": true
   },
   "outputs": [
    {
     "name": "stdout",
     "output_type": "stream",
     "text": [
      "<class 'pandas.core.frame.DataFrame'>\n",
      "RangeIndex: 200 entries, 0 to 199\n",
      "Data columns (total 4 columns):\n",
      "TV           200 non-null float64\n",
      "radio        200 non-null float64\n",
      "newspaper    200 non-null float64\n",
      "sales        200 non-null float64\n",
      "dtypes: float64(4)\n",
      "memory usage: 6.3 KB\n"
     ]
    }
   ],
   "source": [
    "# 数据总体信息\n",
    "df.info()"
   ]
  },
  {
   "cell_type": "code",
   "execution_count": 190,
   "metadata": {
    "scrolled": false
   },
   "outputs": [
    {
     "data": {
      "text/html": [
       "<div>\n",
       "<style>\n",
       "    .dataframe thead tr:only-child th {\n",
       "        text-align: right;\n",
       "    }\n",
       "\n",
       "    .dataframe thead th {\n",
       "        text-align: left;\n",
       "    }\n",
       "\n",
       "    .dataframe tbody tr th {\n",
       "        vertical-align: top;\n",
       "    }\n",
       "</style>\n",
       "<table border=\"1\" class=\"dataframe\">\n",
       "  <thead>\n",
       "    <tr style=\"text-align: right;\">\n",
       "      <th></th>\n",
       "      <th>TV</th>\n",
       "      <th>radio</th>\n",
       "      <th>newspaper</th>\n",
       "      <th>sales</th>\n",
       "    </tr>\n",
       "  </thead>\n",
       "  <tbody>\n",
       "    <tr>\n",
       "      <th>count</th>\n",
       "      <td>200.000000</td>\n",
       "      <td>200.000000</td>\n",
       "      <td>200.000000</td>\n",
       "      <td>200.000000</td>\n",
       "    </tr>\n",
       "    <tr>\n",
       "      <th>mean</th>\n",
       "      <td>147.042500</td>\n",
       "      <td>23.264000</td>\n",
       "      <td>30.554000</td>\n",
       "      <td>14.022500</td>\n",
       "    </tr>\n",
       "    <tr>\n",
       "      <th>std</th>\n",
       "      <td>85.854236</td>\n",
       "      <td>14.846809</td>\n",
       "      <td>21.778621</td>\n",
       "      <td>5.217457</td>\n",
       "    </tr>\n",
       "    <tr>\n",
       "      <th>min</th>\n",
       "      <td>0.700000</td>\n",
       "      <td>0.000000</td>\n",
       "      <td>0.300000</td>\n",
       "      <td>1.600000</td>\n",
       "    </tr>\n",
       "    <tr>\n",
       "      <th>25%</th>\n",
       "      <td>74.375000</td>\n",
       "      <td>9.975000</td>\n",
       "      <td>12.750000</td>\n",
       "      <td>10.375000</td>\n",
       "    </tr>\n",
       "    <tr>\n",
       "      <th>50%</th>\n",
       "      <td>149.750000</td>\n",
       "      <td>22.900000</td>\n",
       "      <td>25.750000</td>\n",
       "      <td>12.900000</td>\n",
       "    </tr>\n",
       "    <tr>\n",
       "      <th>75%</th>\n",
       "      <td>218.825000</td>\n",
       "      <td>36.525000</td>\n",
       "      <td>45.100000</td>\n",
       "      <td>17.400000</td>\n",
       "    </tr>\n",
       "    <tr>\n",
       "      <th>max</th>\n",
       "      <td>296.400000</td>\n",
       "      <td>49.600000</td>\n",
       "      <td>114.000000</td>\n",
       "      <td>27.000000</td>\n",
       "    </tr>\n",
       "  </tbody>\n",
       "</table>\n",
       "</div>"
      ],
      "text/plain": [
       "               TV       radio   newspaper       sales\n",
       "count  200.000000  200.000000  200.000000  200.000000\n",
       "mean   147.042500   23.264000   30.554000   14.022500\n",
       "std     85.854236   14.846809   21.778621    5.217457\n",
       "min      0.700000    0.000000    0.300000    1.600000\n",
       "25%     74.375000    9.975000   12.750000   10.375000\n",
       "50%    149.750000   22.900000   25.750000   12.900000\n",
       "75%    218.825000   36.525000   45.100000   17.400000\n",
       "max    296.400000   49.600000  114.000000   27.000000"
      ]
     },
     "execution_count": 190,
     "metadata": {},
     "output_type": "execute_result"
    }
   ],
   "source": [
    "# 对数值型特征，得到每个特征的描述统计量，查看特征的大致分布\n",
    "df.describe()"
   ]
  },
  {
   "cell_type": "code",
   "execution_count": 191,
   "metadata": {
    "scrolled": true
   },
   "outputs": [
    {
     "data": {
      "text/plain": [
       "Text(0,0.5,u'sales')"
      ]
     },
     "execution_count": 191,
     "metadata": {},
     "output_type": "execute_result"
    },
    {
     "data": {
      "image/png": "[encoded data removed]",
      "text/plain": [
       "<matplotlib.figure.Figure at 0x1a17452610>"
      ]
     },
     "metadata": {
      "needs_background": "light"
     },
     "output_type": "display_data"
    }
   ],
   "source": [
    "#散点图查看单个特征与目标之间的关系\n",
    "plt.scatter(df['TV'], df['sales'])\n",
    "plt.xlabel('TV')\n",
    "plt.ylabel('sales')"
   ]
  },
  {
   "cell_type": "markdown",
   "metadata": {},
   "source": [
    "TV和sales关联密切，但似乎不完全是线性关系(log？)"
   ]
  },
  {
   "cell_type": "code",
   "execution_count": 192,
   "metadata": {},
   "outputs": [
    {
     "data": {
      "text/plain": [
       "Text(0,0.5,u'sales')"
      ]
     },
     "execution_count": 192,
     "metadata": {},
     "output_type": "execute_result"
    },
    {
     "data": {
      "image/png": "[encoded data removed]",
      "text/plain": [
       "<matplotlib.figure.Figure at 0x106833790>"
      ]
     },
     "metadata": {
      "needs_background": "light"
     },
     "output_type": "display_data"
    }
   ],
   "source": [
    "plt.scatter(df['radio'], df['sales'])\n",
    "plt.xlabel('radio')\n",
    "plt.ylabel('sales')"
   ]
  },
  {
   "cell_type": "markdown",
   "metadata": {},
   "source": [
    "radio和sales有关系，但似乎也不是线性关系"
   ]
  },
  {
   "cell_type": "code",
   "execution_count": 193,
   "metadata": {
    "scrolled": true
   },
   "outputs": [
    {
     "data": {
      "text/plain": [
       "Text(0,0.5,u'sales')"
      ]
     },
     "execution_count": 193,
     "metadata": {},
     "output_type": "execute_result"
    },
    {
     "data": {
      "image/png": "[encoded data removed]",
      "text/plain": [
       "<matplotlib.figure.Figure at 0x1a1b20e410>"
      ]
     },
     "metadata": {
      "needs_background": "light"
     },
     "output_type": "display_data"
    }
   ],
   "source": [
    "plt.scatter(df['newspaper'], df['sales'])\n",
    "plt.xlabel('newspaper')\n",
    "plt.ylabel('sales')"
   ]
  },
  {
   "cell_type": "markdown",
   "metadata": {},
   "source": [
    "newspaper和sales的关系不明显"
   ]
  },
  {
   "cell_type": "code",
   "execution_count": 9,
   "metadata": {
    "scrolled": true
   },
   "outputs": [
    {
     "data": {
      "image/png": "[encoded data removed]",
      "text/plain": [
       "<matplotlib.figure.Figure at 0x10cd70650>"
      ]
     },
     "metadata": {
      "needs_background": "light"
     },
     "output_type": "display_data"
    }
   ],
   "source": [
    "#相关系数查看特征是否存在共线性\n",
    "# 得到相关系数的绝对值，通常认为相关系数的绝对值大于0.5的特征为强相关\n",
    "data_corr = df.corr()\n",
    "data_corr = data_corr.abs()\n",
    "sns.heatmap(data_corr,annot=True)\n",
    "plt.show()"
   ]
  },
  {
   "cell_type": "markdown",
   "metadata": {
    "collapsed": true
   },
   "source": [
    "## 3. 数据准备"
   ]
  },
  {
   "cell_type": "code",
   "execution_count": 194,
   "metadata": {
    "collapsed": true
   },
   "outputs": [],
   "source": [
    "# 从原始数据中分离输入特征x和输出y\n",
    "y = df['sales']\n",
    "X = df.drop('sales', axis = 1)\n",
    "\n",
    "#特征名称，用于后续显示权重系数对应的特征\n",
    "feat_names = X.columns"
   ]
  },
  {
   "cell_type": "code",
   "execution_count": 195,
   "metadata": {
    "collapsed": true
   },
   "outputs": [],
   "source": [
    "# 数据标准化\n",
    "from sklearn.preprocessing import StandardScaler\n",
    "\n",
    "# 分别初始化对特征和目标值的标准化器\n",
    "ss_X = StandardScaler()\n",
    "\n",
    "# 对训练数据，先调用fit方法训练模型，得到模型参数；然后对训练数据和测试数据进行transform\n",
    "X = ss_X.fit_transform(X)"
   ]
  },
  {
   "cell_type": "code",
   "execution_count": 196,
   "metadata": {
    "scrolled": true
   },
   "outputs": [
    {
     "data": {
      "text/plain": [
       "(160, 3)"
      ]
     },
     "execution_count": 196,
     "metadata": {},
     "output_type": "execute_result"
    }
   ],
   "source": [
    "#将数据分割训练数据与测试数据\n",
    "from sklearn.model_selection import train_test_split\n",
    "\n",
    "# 随机采样20%的数据构建测试样本，其余作为训练样本\n",
    "X_train, X_test, y_train, y_test = train_test_split(X, y, random_state=33, test_size=0.2)\n",
    "X_train.shape"
   ]
  },
  {
   "cell_type": "markdown",
   "metadata": {},
   "source": [
    "## 4. 最小二乘线性回归"
   ]
  },
  {
   "cell_type": "code",
   "execution_count": 112,
   "metadata": {},
   "outputs": [
    {
     "data": {
      "text/html": [
       "<div>\n",
       "<style>\n",
       "    .dataframe thead tr:only-child th {\n",
       "        text-align: right;\n",
       "    }\n",
       "\n",
       "    .dataframe thead th {\n",
       "        text-align: left;\n",
       "    }\n",
       "\n",
       "    .dataframe tbody tr th {\n",
       "        vertical-align: top;\n",
       "    }\n",
       "</style>\n",
       "<table border=\"1\" class=\"dataframe\">\n",
       "  <thead>\n",
       "    <tr style=\"text-align: right;\">\n",
       "      <th></th>\n",
       "      <th>coef</th>\n",
       "      <th>columns</th>\n",
       "    </tr>\n",
       "  </thead>\n",
       "  <tbody>\n",
       "    <tr>\n",
       "      <th>0</th>\n",
       "      <td>3.983944</td>\n",
       "      <td>TV</td>\n",
       "    </tr>\n",
       "    <tr>\n",
       "      <th>1</th>\n",
       "      <td>2.860230</td>\n",
       "      <td>radio</td>\n",
       "    </tr>\n",
       "    <tr>\n",
       "      <th>2</th>\n",
       "      <td>0.038194</td>\n",
       "      <td>newspaper</td>\n",
       "    </tr>\n",
       "    <tr>\n",
       "      <th>3</th>\n",
       "      <td>13.969091</td>\n",
       "      <td>intercept</td>\n",
       "    </tr>\n",
       "  </tbody>\n",
       "</table>\n",
       "</div>"
      ],
      "text/plain": [
       "        coef    columns\n",
       "0   3.983944         TV\n",
       "1   2.860230      radio\n",
       "2   0.038194  newspaper\n",
       "3  13.969091  intercept"
      ]
     },
     "execution_count": 112,
     "metadata": {},
     "output_type": "execute_result"
    }
   ],
   "source": [
    "# 线性回归\n",
    "from sklearn.linear_model import LinearRegression\n",
    "\n",
    "# 1.使用默认配置初始化学习器实例\n",
    "lr = LinearRegression()\n",
    "\n",
    "# 2.用训练数据训练模型参数\n",
    "lr.fit(X_train, y_train)\n",
    "\n",
    "# 3. 用训练好的模型对测试集进行预测\n",
    "y_test_pred_lr = lr.predict(X_test)\n",
    "y_train_pred_lr = lr.predict(X_train)\n",
    "\n",
    "\n",
    "# 看看各特征的权重系数，系数的绝对值大小可视为该特征的重要性\n",
    "fs = pd.DataFrame({\"columns\":list(feat_names), \"coef\":list((lr.coef_.T))})\n",
    "#fs.sort_values(by=['coef'],ascending=False)\n",
    "fs = fs.append([{'columns':'intercept','coef':lr.intercept_}], ignore_index=True)\n",
    "fs"
   ]
  },
  {
   "cell_type": "code",
   "execution_count": 113,
   "metadata": {
    "scrolled": true
   },
   "outputs": [
    {
     "name": "stdout",
     "output_type": "stream",
     "text": [
      "The r2 score of LinearRegression on test is 0.893729\n",
      "The r2 score of LinearRegression on train is 0.896285\n"
     ]
    }
   ],
   "source": [
    "# 使用r2_score评价模型在测试集和训练集上的性能，并输出评估结果\n",
    "from sklearn.metrics import r2_score  #评价回归预测模型的性能\n",
    "#测试集\n",
    "print(\"The r2 score of LinearRegression on test is %f\" %(r2_score(y_test, y_test_pred_lr)))\n",
    "\n",
    "#训练集\n",
    "print(\"The r2 score of LinearRegression on train is %f\" %(r2_score(y_train, y_train_pred_lr)))"
   ]
  },
  {
   "cell_type": "markdown",
   "metadata": {},
   "source": [
    "## 残差分布"
   ]
  },
  {
   "cell_type": "code",
   "execution_count": 114,
   "metadata": {
    "scrolled": false
   },
   "outputs": [
    {
     "data": {
      "text/plain": [
       "Text(0.5,1,u'\\u6b8b\\u5dee\\u76f4\\u65b9\\u56fe')"
      ]
     },
     "execution_count": 114,
     "metadata": {},
     "output_type": "execute_result"
    },
    {
     "data": {
      "image/png": "[encoded data removed]",
      "text/plain": [
       "<matplotlib.figure.Figure at 0x1a18165950>"
      ]
     },
     "metadata": {
      "needs_background": "light"
     },
     "output_type": "display_data"
    }
   ],
   "source": [
    "#在训练集上观察预测残差的分布，看是否符合模型假设：噪声为0均值的高斯噪声\n",
    "figsize = 11,9\n",
    "res = y_train - y_train_pred_lr\n",
    "sns.distplot(res, bins=40, kde = False)\n",
    "plt.xlabel(u'残差')\n",
    "plt.title(u'残差直方图') "
   ]
  },
  {
   "cell_type": "markdown",
   "metadata": {},
   "source": [
    "看起来残差的分布并不符合0均值的正态分布"
   ]
  },
  {
   "cell_type": "code",
   "execution_count": 115,
   "metadata": {
    "scrolled": false
   },
   "outputs": [
    {
     "data": {
      "text/plain": [
       "Text(0,0.5,u'\\u6b8b\\u5dee')"
      ]
     },
     "execution_count": 115,
     "metadata": {},
     "output_type": "execute_result"
    },
    {
     "data": {
      "image/png": "[encoded data removed]",
      "text/plain": [
       "<matplotlib.figure.Figure at 0x1a18109250>"
      ]
     },
     "metadata": {
      "needs_background": "light"
     },
     "output_type": "display_data"
    }
   ],
   "source": [
    "figsize = 11,9\n",
    "plt.scatter(y_train_pred_lr, res)\n",
    "plt.xlabel(u'预测值')\n",
    "plt.ylabel(u'残差')"
   ]
  },
  {
   "cell_type": "markdown",
   "metadata": {},
   "source": [
    "从预测值和残差的散点图来看，预测值和残差不是没有关系。看起来预测值较小和较大时，预测残差的绝对值很大。也就是说，模型还没有完全建模y与x之间的关系，还有一部分关系在残差中。"
   ]
  },
  {
   "cell_type": "code",
   "execution_count": 116,
   "metadata": {
    "scrolled": true
   },
   "outputs": [
    {
     "data": {
      "text/plain": [
       "Text(0,0.5,u'\\u9884\\u6d4b\\u503c')"
      ]
     },
     "execution_count": 116,
     "metadata": {},
     "output_type": "execute_result"
    },
    {
     "data": {
      "image/png": "[encoded data removed]",
      "text/plain": [
       "<matplotlib.figure.Figure at 0x1a1807f510>"
      ]
     },
     "metadata": {
      "needs_background": "light"
     },
     "output_type": "display_data"
    }
   ],
   "source": [
    "plt.scatter(y_train, y_train_pred_lr, res)\n",
    "plt.xlabel(u'真实值')\n",
    "plt.ylabel(u'预测值')"
   ]
  },
  {
   "cell_type": "markdown",
   "metadata": {},
   "source": [
    "## 5. 岭回归"
   ]
  },
  {
   "cell_type": "code",
   "execution_count": 129,
   "metadata": {},
   "outputs": [
    {
     "data": {
      "text/html": [
       "<div>\n",
       "<style>\n",
       "    .dataframe thead tr:only-child th {\n",
       "        text-align: right;\n",
       "    }\n",
       "\n",
       "    .dataframe thead th {\n",
       "        text-align: left;\n",
       "    }\n",
       "\n",
       "    .dataframe tbody tr th {\n",
       "        vertical-align: top;\n",
       "    }\n",
       "</style>\n",
       "<table border=\"1\" class=\"dataframe\">\n",
       "  <thead>\n",
       "    <tr style=\"text-align: right;\">\n",
       "      <th></th>\n",
       "      <th>coef</th>\n",
       "      <th>columns</th>\n",
       "    </tr>\n",
       "  </thead>\n",
       "  <tbody>\n",
       "    <tr>\n",
       "      <th>0</th>\n",
       "      <td>3.981524</td>\n",
       "      <td>TV</td>\n",
       "    </tr>\n",
       "    <tr>\n",
       "      <th>1</th>\n",
       "      <td>2.858304</td>\n",
       "      <td>radio</td>\n",
       "    </tr>\n",
       "    <tr>\n",
       "      <th>2</th>\n",
       "      <td>0.038925</td>\n",
       "      <td>newspaper</td>\n",
       "    </tr>\n",
       "    <tr>\n",
       "      <th>3</th>\n",
       "      <td>13.969282</td>\n",
       "      <td>intercept</td>\n",
       "    </tr>\n",
       "  </tbody>\n",
       "</table>\n",
       "</div>"
      ],
      "text/plain": [
       "        coef    columns\n",
       "0   3.981524         TV\n",
       "1   2.858304      radio\n",
       "2   0.038925  newspaper\n",
       "3  13.969282  intercept"
      ]
     },
     "execution_count": 129,
     "metadata": {},
     "output_type": "execute_result"
    }
   ],
   "source": [
    "from sklearn.linear_model import  RidgeCV\n",
    "\n",
    "#1. 设置超参数（正则参数）范围\n",
    "alphas = [ 0.01, 0.1, 1, 10,100]\n",
    "\n",
    "#2. 生成一个RidgeCV实例\n",
    "ridge = RidgeCV(alphas=alphas, store_cv_values=True)  \n",
    "\n",
    "#3. 模型训练\n",
    "ridge.fit(X_train, y_train)    \n",
    "\n",
    "#4. 预测\n",
    "y_test_pred_ridge = ridge.predict(X_test)\n",
    "y_train_pred_ridge = ridge.predict(X_train)\n",
    "\n",
    "# 看看各特征的权重系数，系数的绝对值大小可视为该特征的重要性\n",
    "fs = pd.DataFrame({\"columns\":list(feat_names), \"coef\":list((ridge.coef_.T))})\n",
    "#fs.sort_values(by=['coef'],ascending=False)\n",
    "fs = fs.append([{'columns':'intercept','coef':ridge.intercept_}], ignore_index=True)\n",
    "fs"
   ]
  },
  {
   "cell_type": "code",
   "execution_count": 130,
   "metadata": {
    "scrolled": true
   },
   "outputs": [
    {
     "name": "stdout",
     "output_type": "stream",
     "text": [
      "The r2 score of Ridge on test is 0.893865\n",
      "The r2 score of Ridge on train is 0.896285\n"
     ]
    }
   ],
   "source": [
    "#测试集\n",
    "print(\"The r2 score of Ridge on test is %f\" %(r2_score(y_test, y_test_pred_ridge)))\n",
    "\n",
    "#训练集\n",
    "print(\"The r2 score of Ridge on train is %f\" %(r2_score(y_train, y_train_pred_ridge)))"
   ]
  },
  {
   "cell_type": "markdown",
   "metadata": {},
   "source": [
    "## 6. Lasso回归"
   ]
  },
  {
   "cell_type": "code",
   "execution_count": 131,
   "metadata": {},
   "outputs": [
    {
     "name": "stdout",
     "output_type": "stream",
     "text": [
      "The r2 score of lasso on test is 0.899197\n",
      "The r2 score of lasso on train is 0.895925\n"
     ]
    }
   ],
   "source": [
    "from sklearn.linear_model import LassoCV\n",
    "\n",
    "#1. 设置超参数搜索范围\n",
    "#Lasso可以自动确定最大的alpha，所以另一种设置alpha的方式是设置最小的alpha值（eps） 和 超参数的数目（n_alphas），\n",
    "#然后LassoCV对最小值和最大值之间在log域上均匀取值n_alphas个\n",
    "# np.logspace(np.log10(alpha_max * eps), np.log10(alpha_max),num=n_alphas)[::-1]\n",
    "\n",
    "#2 生成LassoCV实例（默认超参数搜索范围）\n",
    "lasso = LassoCV()  \n",
    "\n",
    "#3. 训练（内含CV）\n",
    "lasso.fit(X_train, y_train)  \n",
    "\n",
    "#4. 测试\n",
    "y_test_pred_lasso = lasso.predict(X_test)\n",
    "y_train_pred_lasso = lasso.predict(X_train)\n",
    "\n",
    "\n",
    "# 评估，使用r2_score评价模型在测试集和训练集上的性能\n",
    "print(\"The r2 score of lasso on test is %f\" %(r2_score(y_test, y_test_pred_lasso)))\n",
    "print(\"The r2 score of lasso on train is %f\" %(r2_score(y_train, y_train_pred_lasso)))"
   ]
  },
  {
   "cell_type": "code",
   "execution_count": 135,
   "metadata": {
    "scrolled": true
   },
   "outputs": [
    {
     "data": {
      "text/html": [
       "<div>\n",
       "<style>\n",
       "    .dataframe thead tr:only-child th {\n",
       "        text-align: right;\n",
       "    }\n",
       "\n",
       "    .dataframe thead th {\n",
       "        text-align: left;\n",
       "    }\n",
       "\n",
       "    .dataframe tbody tr th {\n",
       "        vertical-align: top;\n",
       "    }\n",
       "</style>\n",
       "<table border=\"1\" class=\"dataframe\">\n",
       "  <thead>\n",
       "    <tr style=\"text-align: right;\">\n",
       "      <th></th>\n",
       "      <th>coef_lasso</th>\n",
       "      <th>coef_lr</th>\n",
       "      <th>coef_ridge</th>\n",
       "      <th>columns</th>\n",
       "    </tr>\n",
       "  </thead>\n",
       "  <tbody>\n",
       "    <tr>\n",
       "      <th>0</th>\n",
       "      <td>3.921642</td>\n",
       "      <td>3.983944</td>\n",
       "      <td>3.981524</td>\n",
       "      <td>TV</td>\n",
       "    </tr>\n",
       "    <tr>\n",
       "      <th>1</th>\n",
       "      <td>2.806374</td>\n",
       "      <td>2.860230</td>\n",
       "      <td>2.858304</td>\n",
       "      <td>radio</td>\n",
       "    </tr>\n",
       "    <tr>\n",
       "      <th>2</th>\n",
       "      <td>0.000000</td>\n",
       "      <td>0.038194</td>\n",
       "      <td>0.038925</td>\n",
       "      <td>newspaper</td>\n",
       "    </tr>\n",
       "    <tr>\n",
       "      <th>3</th>\n",
       "      <td>13.972528</td>\n",
       "      <td>13.969091</td>\n",
       "      <td>13.969282</td>\n",
       "      <td>intercept</td>\n",
       "    </tr>\n",
       "  </tbody>\n",
       "</table>\n",
       "</div>"
      ],
      "text/plain": [
       "   coef_lasso    coef_lr  coef_ridge    columns\n",
       "0    3.921642   3.983944    3.981524         TV\n",
       "1    2.806374   2.860230    2.858304      radio\n",
       "2    0.000000   0.038194    0.038925  newspaper\n",
       "3   13.972528  13.969091   13.969282  intercept"
      ]
     },
     "execution_count": 135,
     "metadata": {},
     "output_type": "execute_result"
    }
   ],
   "source": [
    "# 看看各特征的权重系数，系数的绝对值大小可视为该特征的重要性\n",
    "fs = pd.DataFrame({\"columns\":list(feat_names), \"coef_lr\":list((lr.coef_.T)), \"coef_ridge\":list((ridge.coef_.T)), \"coef_lasso\":list((lasso.coef_.T))})\n",
    "#fs.sort_values(by=['coef_lr'],ascending=False)\n",
    "fs = fs.append([{'columns':'intercept','coef_lr':lr.intercept_, 'coef_ridge':ridge.intercept_, 'coef_lasso':lasso.intercept_}], ignore_index=True)\n",
    "fs"
   ]
  },
  {
   "cell_type": "markdown",
   "metadata": {},
   "source": [
    "## 默认超参数的Huber损失回归\n",
    "注意默认超参数alpha=0.0001，而不非OLS中没有正则"
   ]
  },
  {
   "cell_type": "code",
   "execution_count": 136,
   "metadata": {
    "scrolled": false
   },
   "outputs": [
    {
     "data": {
      "text/html": [
       "<div>\n",
       "<style>\n",
       "    .dataframe thead tr:only-child th {\n",
       "        text-align: right;\n",
       "    }\n",
       "\n",
       "    .dataframe thead th {\n",
       "        text-align: left;\n",
       "    }\n",
       "\n",
       "    .dataframe tbody tr th {\n",
       "        vertical-align: top;\n",
       "    }\n",
       "</style>\n",
       "<table border=\"1\" class=\"dataframe\">\n",
       "  <thead>\n",
       "    <tr style=\"text-align: right;\">\n",
       "      <th></th>\n",
       "      <th>coef</th>\n",
       "      <th>columns</th>\n",
       "    </tr>\n",
       "  </thead>\n",
       "  <tbody>\n",
       "    <tr>\n",
       "      <th>0</th>\n",
       "      <td>3.840762</td>\n",
       "      <td>TV</td>\n",
       "    </tr>\n",
       "    <tr>\n",
       "      <th>1</th>\n",
       "      <td>2.931079</td>\n",
       "      <td>radio</td>\n",
       "    </tr>\n",
       "    <tr>\n",
       "      <th>2</th>\n",
       "      <td>-0.023874</td>\n",
       "      <td>newspaper</td>\n",
       "    </tr>\n",
       "    <tr>\n",
       "      <th>3</th>\n",
       "      <td>14.237015</td>\n",
       "      <td>intercept</td>\n",
       "    </tr>\n",
       "  </tbody>\n",
       "</table>\n",
       "</div>"
      ],
      "text/plain": [
       "        coef    columns\n",
       "0   3.840762         TV\n",
       "1   2.931079      radio\n",
       "2  -0.023874  newspaper\n",
       "3  14.237015  intercept"
      ]
     },
     "execution_count": 136,
     "metadata": {},
     "output_type": "execute_result"
    }
   ],
   "source": [
    "# Huber回归\n",
    "from sklearn.linear_model import HuberRegressor\n",
    "\n",
    "# 1.使用默认配置初始化学习器实例\n",
    "hr = HuberRegressor()\n",
    "\n",
    "# 2.用训练数据训练模型参数\n",
    "hr.fit(X_train, y_train)\n",
    "\n",
    "# 3. 用训练好的模型对测试集进行预测\n",
    "y_test_pred_hr = hr.predict(X_test)\n",
    "y_train_pred_hr = hr.predict(X_train)\n",
    "\n",
    "\n",
    "# 看看各特征的权重系数，系数的绝对值大小可视为该特征的重要性\n",
    "fs = pd.DataFrame({\"columns\":list(feat_names), \"coef\":list((hr.coef_.T))})\n",
    "#fs.sort_values(by=['coef'],ascending=False)\n",
    "fs = fs.append([{'columns':'intercept','coef':hr.intercept_}], ignore_index=True)\n",
    "fs"
   ]
  },
  {
   "cell_type": "code",
   "execution_count": 137,
   "metadata": {},
   "outputs": [
    {
     "data": {
      "text/plain": [
       "Text(0.5,1,u'\\u6b8b\\u5dee\\u76f4\\u65b9\\u56fe')"
      ]
     },
     "execution_count": 137,
     "metadata": {},
     "output_type": "execute_result"
    },
    {
     "data": {
      "image/png": "[encoded data removed]",
      "text/plain": [
       "<matplotlib.figure.Figure at 0x1a189a5cd0>"
      ]
     },
     "metadata": {
      "needs_background": "light"
     },
     "output_type": "display_data"
    }
   ],
   "source": [
    "#在训练集上观察预测残差的分布，看是否符合模型假设：噪声为0均值的高斯噪声\n",
    "figsize = 11,9\n",
    "res = y_train - y_train_pred_hr\n",
    "sns.distplot(res, bins=40, kde = False)\n",
    "plt.xlabel(u'残差')\n",
    "plt.title(u'残差直方图') "
   ]
  },
  {
   "cell_type": "code",
   "execution_count": 138,
   "metadata": {
    "scrolled": true
   },
   "outputs": [
    {
     "data": {
      "text/plain": [
       "Text(0,0.5,u'\\u6b8b\\u5dee')"
      ]
     },
     "execution_count": 138,
     "metadata": {},
     "output_type": "execute_result"
    },
    {
     "data": {
      "image/png": "[encoded data removed]",
      "text/plain": [
       "<matplotlib.figure.Figure at 0x1a1a8c92d0>"
      ]
     },
     "metadata": {
      "needs_background": "light"
     },
     "output_type": "display_data"
    }
   ],
   "source": [
    "figsize = 11,9\n",
    "\n",
    "res = y_train - y_train_pred_hr\n",
    "plt.scatter(y_train_pred_hr, res)\n",
    "plt.xlabel(u'预测值')\n",
    "plt.ylabel(u'残差')"
   ]
  },
  {
   "cell_type": "markdown",
   "metadata": {},
   "source": [
    "## 梯度下降"
   ]
  },
  {
   "cell_type": "code",
   "execution_count": 40,
   "metadata": {
    "collapsed": true
   },
   "outputs": [],
   "source": [
    "# 目标函数\n",
    "def obj_ols(X, y, w):\n",
    "    N = X.shape[0]  # 样本数目\n",
    "    y_pred = np.dot(X, w)\n",
    "    res = y - y_pred\n",
    "    return np.sum(res ** 2)/N # 目标函数"
   ]
  },
  {
   "cell_type": "code",
   "execution_count": 198,
   "metadata": {
    "collapsed": true
   },
   "outputs": [],
   "source": [
    "# 目标函数的一阶导数\n",
    "def grad_OLS(X, y, w):\n",
    "    N = X.shape[0]  # 样本数目\n",
    "    X_transpose = np.transpose(X)\n",
    "    y_pred = np.dot(X, w)\n",
    "    res = y_pred - y \n",
    "    \n",
    "    #2(Xw-y)*X^T\n",
    "    grad =  2*np.dot(X_transpose , res)/N \n",
    "    return grad"
   ]
  },
  {
   "cell_type": "code",
   "execution_count": 263,
   "metadata": {},
   "outputs": [],
   "source": [
    "# 梯度下降法\n",
    "# 给定起始点与目标函数的一阶导函数，求在epochs次迭代中x的更新值\n",
    "def bgd_ols(X, y, w_start, df, max_epochs=10000, lr=0.1, epsilon = 0.0001):\n",
    "    \"\"\"\n",
    "    :param X, y: 训练数据\n",
    "    :param w_start: x的起始点\n",
    "    :param df: 目标函数的一阶导函数\n",
    "    :param max_epochs: 最大迭代次数\n",
    "    :param lr: 学习率\n",
    "    :return: 每次迭代后的位置（包括起始点），和对应目标函数值\n",
    "    \"\"\"\n",
    "    #初始化\n",
    "    ws = []      # 参数\n",
    "    Js = []      # 目标函数\n",
    "    D = X_train_new.shape[1]  # 特征维度\n",
    "    \n",
    "    w = w_start\n",
    "    row = []\n",
    "    for j in range(D):\n",
    "        row.append(w[j])\n",
    "    ws.append(row)\n",
    "    \n",
    "    J = obj_ols(X, y,w)\n",
    "    Js.append(J)\n",
    "    \n",
    "    for iter in range(1, max_epochs+1):\n",
    "        dw = df(X, y, w) #计算梯度\n",
    "        \n",
    "        w += - dw * lr   #根据梯度，更新参数\n",
    "        \n",
    "        row = []\n",
    "        for j in range(D):\n",
    "            row.append(w[j])\n",
    "        ws.append(row)\n",
    "        \n",
    "        #判断目标函数是否收敛\n",
    "        J = obj_ols(X, y,w)\n",
    "        Js.append(J)\n",
    "        #print(\"iter %s | J: %.3f\" % (iter, J))\n",
    "        #print( w)\n",
    "        #print( dw)\n",
    "       \n",
    "        #判断是否收敛\n",
    "        if (abs(Js[iter-1]-J)/Js[iter-1] < epsilon or abs(Js[iter-1]-J)/Js[iter-1]< epsilon or Js[iter] <epsilon): \n",
    "            break\n",
    "            \n",
    "    return ws, Js"
   ]
  },
  {
   "cell_type": "code",
   "execution_count": 266,
   "metadata": {},
   "outputs": [],
   "source": [
    "# mini-batch梯度下降法\n",
    "# 给定起始点与目标函数的一阶导函数，求在epochs次迭代中x的更新值\n",
    "def mbgd_ols(X, y, w_start, df, max_epochs=10, lr=0.1, epsilon = 0.000001, batch_size = 16):\n",
    "    \"\"\"\n",
    "    :param X, y: 训练数据\n",
    "    :param w_start: x的起始点\n",
    "    :param df: 目标函数的一阶导函数\n",
    "    :param max_epochs: 最大迭代次数\n",
    "    :param lr: 学习率\n",
    "    :param batch_size: 批大小\n",
    "    :return: 每次迭代后的位置（包括起始点），和对应目标函数值\n",
    "    \"\"\"\n",
    "    #初始化\n",
    "    ws = []      # 参数\n",
    "    Js = []      # 目标函数\n",
    "    \n",
    "    D = X_train_new.shape[1]  # 特征维度\n",
    "    N = X_train_new.shape[0]  # 样本数目\n",
    "    n_batches = int(N/batch_size)\n",
    "    \n",
    "    D = X_train_new.shape[1]  # 特征维度\n",
    "    w = w_start\n",
    "    row = []\n",
    "    for j in range(D):\n",
    "        row.append(w[j])\n",
    "    ws.append(row)\n",
    "    \n",
    "    J = obj_ols(X, y,w)\n",
    "    Js.append(J)\n",
    "    \n",
    "    for iter in range(1, max_epochs+1):\n",
    "        J =0.0\n",
    "        \n",
    "        #数据重新洗牌\n",
    "        indices = np.random.permutation(N)\n",
    "        X = X[indices]\n",
    "        y = y[indices]\n",
    "        \n",
    "        for i in range(0,m,batch_size):\n",
    "            #本批次的样本    \n",
    "            X_i = X[i: i+batch_size]\n",
    "            y_i = y[i: i+batch_size]\n",
    "        \n",
    "            dw = df(X_i, y_i, w) #计算梯度\n",
    "            w += - dw * lr   #根据梯度，更新参数\n",
    "        \n",
    "            row = []\n",
    "            for j in range(D):\n",
    "                row.append(w[j])\n",
    "            ws.append(row)\n",
    "            \n",
    "            J += obj_ols(X, y,w)\n",
    "        \n",
    "        #判断目标函数是否收敛\n",
    "        Js.append(J)\n",
    "        #print(\"iter %s | J: %.3f\" % (iter, J))\n",
    "        #print( w)\n",
    "        #print( dw)\n",
    "       \n",
    "        #判断是否收敛\n",
    "        if (abs(Js[iter-1]-J)/Js[iter-1] < epsilon or Js[iter] <epsilon): \n",
    "            break\n",
    "            \n",
    "    return ws, Js"
   ]
  },
  {
   "cell_type": "code",
   "execution_count": 264,
   "metadata": {
    "scrolled": false
   },
   "outputs": [
    {
     "name": "stdout",
     "output_type": "stream",
     "text": [
      "[3.9829613555257053, 2.8651599111849038, 0.03471289299387434, 13.95811336914721]\n"
     ]
    },
    {
     "data": {
      "image/png": "[encoded data removed]",
      "text/plain": [
       "<matplotlib.figure.Figure at 0x106d0cf90>"
      ]
     },
     "metadata": {
      "needs_background": "light"
     },
     "output_type": "display_data"
    }
   ],
   "source": [
    "#X增加常数列1，用于表示截距\n",
    "intercept = np.ones(X_train.shape[0])\n",
    "X_train_new = np.c_[X_train,intercept]\n",
    "\n",
    "#初始化\n",
    "D = X_train_new.shape[1]  # 特征维度\n",
    "w_start = np.zeros(D)  #参数初始化\n",
    "\n",
    "#梯度下降\n",
    "ws, Js = bgd_ols(X_train_new, y_train, w_start, grad_OLS, lr = 0.2)\n",
    "\n",
    "n_iter = len(ws)\n",
    "plt.plot(range(n_iter), Js, \"b-\")\n",
    "plt.xlabel(u'迭代次数')\n",
    "plt.ylabel(u'目标函数值')\n",
    "plt.title(u'学习率：0.2')\n",
    "\n",
    "print(ws[n_iter-1])"
   ]
  },
  {
   "cell_type": "markdown",
   "metadata": {},
   "source": [
    "### 只取两个特征，同时去掉截距项\n",
    "方便可视化"
   ]
  },
  {
   "cell_type": "code",
   "execution_count": 267,
   "metadata": {},
   "outputs": [],
   "source": [
    "X_train_2d = np.delete(X_train, -1, axis=1)\n",
    "y_train_mean = y_train.mean()\n",
    "y_train_2d = y_train - y_train_mean"
   ]
  },
  {
   "cell_type": "code",
   "execution_count": 268,
   "metadata": {},
   "outputs": [
    {
     "name": "stdout",
     "output_type": "stream",
     "text": [
      "[3.98201653 2.85552578]\n"
     ]
    }
   ],
   "source": [
    "# 1.使用默认配置初始化学习器实例，看看最佳参数位置\n",
    "from sklearn.linear_model import LinearRegression\n",
    "lr_2d = LinearRegression(fit_intercept = False)\n",
    "#lr_2d = LinearRegression()\n",
    "\n",
    "# 2.用训练数据训练模型参数\n",
    "lr_2d.fit(X_train_2d, y_train_2d)\n",
    "\n",
    "print lr_2d.coef_\n",
    "#print lr_2d.intercept_"
   ]
  },
  {
   "cell_type": "code",
   "execution_count": 274,
   "metadata": {
    "scrolled": true
   },
   "outputs": [
    {
     "ename": "IndexError",
     "evalue": "index 2 is out of bounds for axis 0 with size 2",
     "output_type": "error",
     "traceback": [
      "\u001b[0;31m---------------------------------------------------------------------------\u001b[0m",
      "\u001b[0;31mIndexError\u001b[0m                                Traceback (most recent call last)",
      "\u001b[0;32m<ipython-input-274-bb3037956387>\u001b[0m in \u001b[0;36m<module>\u001b[0;34m()\u001b[0m\n\u001b[1;32m     22\u001b[0m \u001b[0mw_start\u001b[0m \u001b[0;34m=\u001b[0m \u001b[0mnp\u001b[0m\u001b[0;34m.\u001b[0m\u001b[0mzeros\u001b[0m\u001b[0;34m(\u001b[0m\u001b[0md2\u001b[0m\u001b[0;34m)\u001b[0m  \u001b[0;31m#参数初始化\u001b[0m\u001b[0;34m\u001b[0m\u001b[0m\n\u001b[1;32m     23\u001b[0m \u001b[0;34m\u001b[0m\u001b[0m\n\u001b[0;32m---> 24\u001b[0;31m \u001b[0mws_bgd\u001b[0m\u001b[0;34m,\u001b[0m \u001b[0mJs_bgd\u001b[0m \u001b[0;34m=\u001b[0m \u001b[0mbgd_ols\u001b[0m\u001b[0;34m(\u001b[0m\u001b[0mX_train_2d\u001b[0m\u001b[0;34m,\u001b[0m \u001b[0my_train_2d\u001b[0m\u001b[0;34m,\u001b[0m \u001b[0mw_start\u001b[0m\u001b[0;34m,\u001b[0m \u001b[0mgrad_OLS\u001b[0m\u001b[0;34m,\u001b[0m \u001b[0mlr\u001b[0m \u001b[0;34m=\u001b[0m  \u001b[0;36m0.1\u001b[0m\u001b[0;34m)\u001b[0m\u001b[0;34m\u001b[0m\u001b[0m\n\u001b[0m\u001b[1;32m     25\u001b[0m \u001b[0;31m#print(ws)\u001b[0m\u001b[0;34m\u001b[0m\u001b[0;34m\u001b[0m\u001b[0m\n\u001b[1;32m     26\u001b[0m \u001b[0;34m\u001b[0m\u001b[0m\n",
      "\u001b[0;32m<ipython-input-263-09aa90f51159>\u001b[0m in \u001b[0;36mbgd_ols\u001b[0;34m(X, y, w_start, df, max_epochs, lr, epsilon)\u001b[0m\n\u001b[1;32m     18\u001b[0m     \u001b[0mrow\u001b[0m \u001b[0;34m=\u001b[0m \u001b[0;34m[\u001b[0m\u001b[0;34m]\u001b[0m\u001b[0;34m\u001b[0m\u001b[0m\n\u001b[1;32m     19\u001b[0m     \u001b[0;32mfor\u001b[0m \u001b[0mj\u001b[0m \u001b[0;32min\u001b[0m \u001b[0mrange\u001b[0m\u001b[0;34m(\u001b[0m\u001b[0mD\u001b[0m\u001b[0;34m)\u001b[0m\u001b[0;34m:\u001b[0m\u001b[0;34m\u001b[0m\u001b[0m\n\u001b[0;32m---> 20\u001b[0;31m         \u001b[0mrow\u001b[0m\u001b[0;34m.\u001b[0m\u001b[0mappend\u001b[0m\u001b[0;34m(\u001b[0m\u001b[0mw\u001b[0m\u001b[0;34m[\u001b[0m\u001b[0mj\u001b[0m\u001b[0;34m]\u001b[0m\u001b[0;34m)\u001b[0m\u001b[0;34m\u001b[0m\u001b[0m\n\u001b[0m\u001b[1;32m     21\u001b[0m     \u001b[0mws\u001b[0m\u001b[0;34m.\u001b[0m\u001b[0mappend\u001b[0m\u001b[0;34m(\u001b[0m\u001b[0mrow\u001b[0m\u001b[0;34m)\u001b[0m\u001b[0;34m\u001b[0m\u001b[0m\n\u001b[1;32m     22\u001b[0m \u001b[0;34m\u001b[0m\u001b[0m\n",
      "\u001b[0;31mIndexError\u001b[0m: index 2 is out of bounds for axis 0 with size 2"
     ]
    },
    {
     "data": {
      "image/png": "[encoded data removed]",
      "text/plain": [
       "<matplotlib.figure.Figure at 0x1a1778ee90>"
      ]
     },
     "metadata": {
      "needs_background": "light"
     },
     "output_type": "display_data"
    }
   ],
   "source": [
    "n = 256\n",
    "w1 = np.linspace(0, 5, n)\n",
    "w2 = np.linspace(0, 5, n)\n",
    "Js_grid = np.zeros((256, 256))\n",
    "w_2d = np.zeros(2)\n",
    " \n",
    "# 把w1,w2数据生成mesh网格状的数据，因为等高线的显示是在网格的基础上添加上高度值\n",
    "W1, W2 = np.meshgrid(w1, w2)\n",
    "\n",
    "for i in range(0,n):\n",
    "    w_2d[0] = w1[i]\n",
    "    for j in range(0,n):\n",
    "        w_2d[1] = w2[j]\n",
    "        Js_grid[i,j] = obj_ols(X_train_2d, y_train_2d, w_2d)\n",
    "    \n",
    "# 等高线\n",
    "plt.contour(W1, W2, Js_grid, 30)\n",
    "\n",
    "#梯度下降轨迹\n",
    "#初始化\n",
    "d2 = X_train_2d.shape[1]  # 特征维度\n",
    "w_start = np.zeros(d2)  #参数初始化\n",
    "\n",
    "ws_bgd, Js_bgd = bgd_ols(X_train_2d, y_train_2d, w_start, grad_OLS, lr =  0.1)\n",
    "#print(ws)\n",
    "\n",
    "ws_np_bgd = np.mat(ws_bgd)\n",
    "plt.plot(ws_np_bgd[:,1], ws_np_bgd[:,0],  color='r',markerfacecolor='blue',marker='o')  \n",
    "\n",
    "plt.xlabel(u'w1')\n",
    "plt.ylabel(u'w2')\n",
    "# 显示图表\n",
    "plt.show()"
   ]
  },
  {
   "cell_type": "markdown",
   "metadata": {},
   "source": [
    "## 2D特征不做缩放"
   ]
  },
  {
   "cell_type": "code",
   "execution_count": 142,
   "metadata": {},
   "outputs": [],
   "source": [
    "# 从原始数据中分离输入特征x和输出y\n",
    "df = pd.read_csv(dpath + \"Advertising.csv\")\n",
    "\n",
    "y = df['sales']\n",
    "X = df.drop(['sales', 'Unnamed: 0', 'newspaper'], axis = 1)\n",
    "\n",
    "#将数据分割训练数据与测试数据\n",
    "# 随机采样20%的数据构建测试样本，其余作为训练样本\n",
    "X_train, X_test, y_train, y_test = train_test_split(X, y, random_state=33, test_size=0.2)\n",
    "\n",
    "#数据中心化，截距=0\n",
    "X_train_mean = X_train.mean()\n",
    "X_train = X_train - X_train_mean\n",
    "\n",
    "y_train_mean = y_train.mean()\n",
    "y_train = y_train - y_train_mean"
   ]
  },
  {
   "cell_type": "code",
   "execution_count": 145,
   "metadata": {},
   "outputs": [
    {
     "name": "stdout",
     "output_type": "stream",
     "text": [
      "[0.04654474 0.19392176]\n"
     ]
    }
   ],
   "source": [
    "from sklearn.linear_model import LinearRegression\n",
    "lr_2d = LinearRegression(fit_intercept = False)\n",
    "#lr_2d = LinearRegression()\n",
    "\n",
    "# 2.用训练数据训练模型参数\n",
    "lr_2d.fit(X_train, y_train)\n",
    "\n",
    "print lr_2d.coef_"
   ]
  },
  {
   "cell_type": "code",
   "execution_count": 181,
   "metadata": {
    "scrolled": false
   },
   "outputs": [
    {
     "name": "stdout",
     "output_type": "stream",
     "text": [
      "[0.046549696718557895, 0.1929642124971279]\n"
     ]
    },
    {
     "data": {
      "image/png": "[encoded data removed]",
      "text/plain": [
       "<matplotlib.figure.Figure at 0x106de5ed0>"
      ]
     },
     "metadata": {
      "needs_background": "light"
     },
     "output_type": "display_data"
    }
   ],
   "source": [
    "#初始化\n",
    "D = X_train.shape[1]  # 特征维度\n",
    "w_start = np.zeros(D)  #参数初始化\n",
    "\n",
    "ws, Js = bgd_ols(X_train, y_train, w_start, grad_OLS, lr = 0.0000001)\n",
    "\n",
    "n_iter = len(ws)\n",
    "plt.plot(range(n_iter), Js, \"b-\")\n",
    "plt.xlabel(u'迭代次数')\n",
    "plt.ylabel(u'目标函数值')\n",
    "#plt.title(u'学习率：0.0000001')\n",
    "\n",
    "print(ws[n_iter-1])"
   ]
  },
  {
   "cell_type": "code",
   "execution_count": 182,
   "metadata": {},
   "outputs": [
    {
     "data": {
      "text/plain": [
       "750"
      ]
     },
     "execution_count": 182,
     "metadata": {},
     "output_type": "execute_result"
    }
   ],
   "source": [
    "n_iter"
   ]
  },
  {
   "cell_type": "code",
   "execution_count": null,
   "metadata": {
    "collapsed": true
   },
   "outputs": [],
   "source": [
    "n = 256\n",
    "w1 = np.linspace(0, 3, n)\n",
    "w2 = np.linspace(0, 3, n)\n",
    "Js_grid = np.zeros((256, 256))\n",
    "w_2d = np.zeros(2)\n",
    " \n",
    "# 把w1,w2数据生成mesh网格状的数据，因为等高线的显示是在网格的基础上添加上高度值\n",
    "W1, W2 = np.meshgrid(w1, w2)\n",
    "\n",
    "for i in range(0,n):\n",
    "    w_2d[0] = w1[i]\n",
    "    for j in range(0,n):\n",
    "        w_2d[1] = w2[j]\n",
    "        Js_grid[i,j] = obj_ols(X_train, y_train, w_2d)\n",
    "    \n",
    "# 等高线\n",
    "plt.contour(W1, W2, Js_grid, 30)"
   ]
  },
  {
   "cell_type": "code",
   "execution_count": 186,
   "metadata": {},
   "outputs": [
    {
     "data": {
      "image/png": "[encoded data removed]",
      "text/plain": [
       "<matplotlib.figure.Figure at 0x1a179d3790>"
      ]
     },
     "metadata": {
      "needs_background": "light"
     },
     "output_type": "display_data"
    }
   ],
   "source": [
    "n = 256\n",
    "w1 = np.linspace(0, 0.25, n)\n",
    "w2 = np.linspace(0, 0.25, n)\n",
    "Js_grid = np.zeros((256, 256))\n",
    "w_2d = np.zeros(2)\n",
    " \n",
    "# 把w1,w2数据生成mesh网格状的数据，因为等高线的显示是在网格的基础上添加上高度值\n",
    "W1, W2 = np.meshgrid(w1, w2)\n",
    "\n",
    "for i in range(0,n):\n",
    "    w_2d[0] = w1[i]\n",
    "    for j in range(0,n):\n",
    "        w_2d[1] = w2[j]\n",
    "        Js_grid[i,j] = obj_ols(X_train, y_train, w_2d)\n",
    "    \n",
    "# 等高线\n",
    "plt.contour(W1, W2, Js_grid, 30)\n",
    "\n",
    "#梯度下降轨迹\n",
    "D = X_train.shape[1]  # 特征维度\n",
    "N = X_train.shape[0]  # 样本数目\n",
    "\n",
    "w_start = np.zeros(D)  #参数初始化\n",
    "\n",
    "ws, Js = bgd_ols(X_train, y_train, w_start, grad_OLS, lr =  0.0000001)\n",
    "#print(ws)\n",
    "\n",
    "ws_np = np.mat(ws)\n",
    "#plt.plot(ws_np[:,0], ws_np[:,1], c='r')\n",
    "plt.plot(ws_np[:,1], ws_np[:,0],  color='r',markerfacecolor='blue',marker='o')  \n",
    "#plt.scatter(ws_np[:,0], ws_np[:,1], c='r' )\n",
    "\n",
    "plt.xlabel(u'w1')\n",
    "plt.ylabel(u'w2')\n",
    "# 显示图表\n",
    "plt.show()"
   ]
  },
  {
   "cell_type": "markdown",
   "metadata": {
    "collapsed": true
   },
   "source": [
    "## 1D线性回归\n",
    "以电视广告费用与销量之间的关系为例"
   ]
  },
  {
   "cell_type": "code",
   "execution_count": 119,
   "metadata": {
    "collapsed": true
   },
   "outputs": [],
   "source": [
    "#读取数据\n",
    "dpath = \"../data/\"\n",
    "df = pd.read_csv(dpath + \"Advertising.csv\")\n",
    "\n",
    "y = df['sales']\n",
    "X = df['TV']\n",
    "X = X.values.reshape(-1, 1)"
   ]
  },
  {
   "cell_type": "code",
   "execution_count": 120,
   "metadata": {
    "collapsed": true
   },
   "outputs": [],
   "source": [
    "#将数据分割训练数据与测试数据\n",
    "from sklearn.model_selection import train_test_split\n",
    "\n",
    "# 随机采样20%的数据构建测试样本，其余作为训练样本\n",
    "X_train, X_test, y_train, y_test = train_test_split(X, y, random_state=33, test_size=0.2)"
   ]
  },
  {
   "cell_type": "code",
   "execution_count": 121,
   "metadata": {
    "collapsed": true
   },
   "outputs": [],
   "source": [
    "#将数据分割训练数据与测试数据\n",
    "from sklearn.model_selection import train_test_split\n",
    "\n",
    "# 随机采样20%的数据构建测试样本，其余作为训练样本\n",
    "X_train, X_test, y_train, y_test = train_test_split(X, y, random_state=33, test_size=0.2)"
   ]
  },
  {
   "cell_type": "code",
   "execution_count": 129,
   "metadata": {
    "collapsed": true
   },
   "outputs": [],
   "source": [
    "#X_train.set_index(drop=True,inplace=True) \n",
    "#X_test.set_index(drop=True,inplace=True) \n",
    "y_train.reset_index(drop=True,inplace=True) \n",
    "y_test.reset_index(drop=True,inplace=True) "
   ]
  },
  {
   "cell_type": "code",
   "execution_count": 147,
   "metadata": {},
   "outputs": [
    {
     "name": "stdout",
     "output_type": "stream",
     "text": [
      "The trained model is: y =[0.04751819]x + 7.16442132302\n"
     ]
    },
    {
     "data": {
      "image/png": "[encoded data removed]",
      "text/plain": [
       "<matplotlib.figure.Figure at 0x10d934e10>"
      ]
     },
     "metadata": {
      "needs_background": "light"
     },
     "output_type": "display_data"
    }
   ],
   "source": [
    "from sklearn.linear_model import LinearRegression\n",
    "\n",
    "# 使用默认配置初始化\n",
    "lr = LinearRegression()\n",
    "\n",
    "# 训练模型参数\n",
    "lr.fit(X_train, y_train)\n",
    "print (\"The trained model is: y ={}x + {}\".format(lr.coef_, lr.intercept_))\n",
    "\n",
    "# 模型可视化\n",
    "#显示训练数据散点图\n",
    "plt.scatter(X_train, y_train, label = 'Train Samples')\n",
    "\n",
    "\n",
    "#显示预测结果\n",
    "y_train_pred = lr.predict(X_train)\n",
    "#plt.scatter(X_train, y_train_pred, label = 'LR Prediction')\n",
    "plt.plot(X_train, y_train_pred,'g-',label = 'LR Prediction')\n",
    "\n",
    "\n",
    "# 预测残差\n",
    "k = lr.coef_\n",
    "b = lr.intercept_\n",
    "#plt.plot([X_train[0],X_train[0]],[y_train[0], y_train_pred[0]], 'r--')\n",
    "for idx in range(0,20): \n",
    "    m = X_train[idx][0]\n",
    "    n = y_train[idx]\n",
    "\n",
    "    \n",
    "    x_0 = (m + k*n -k*b)/(k*k+1.0)\n",
    "    #y_0 = (k*k*n + k*m +b)/(k*k+1.0)\n",
    "    y_0 = k*x_0 + b\n",
    "    plt.plot([X_train[idx][0],X_train[idx][0]],[y_train[idx], y_train_pred[idx]], 'r--')\n",
    "    plt.plot([m, x_0],[n, y_0], 'm:')\n",
    "    \n",
    "plt.xlabel('TV')\n",
    "plt.ylabel('Sales')\n",
    "plt.legend()\n",
    "plt.tight_layout()"
   ]
  },
  {
   "cell_type": "code",
   "execution_count": 101,
   "metadata": {},
   "outputs": [
    {
     "data": {
      "text/plain": [
       "15.3"
      ]
     },
     "execution_count": 101,
     "metadata": {},
     "output_type": "execute_result"
    }
   ],
   "source": [
    "y_train[8]"
   ]
  },
  {
   "cell_type": "code",
   "execution_count": null,
   "metadata": {
    "collapsed": true
   },
   "outputs": [],
   "source": []
  },
  {
   "cell_type": "code",
   "execution_count": 98,
   "metadata": {
    "collapsed": true
   },
   "outputs": [],
   "source": [
    "y_test.reset_index(drop=True,inplace=True)\n",
    "y_train.reset_index(drop=True,inplace=True)"
   ]
  },
  {
   "cell_type": "code",
   "execution_count": 100,
   "metadata": {},
   "outputs": [
    {
     "data": {
      "text/plain": [
       "0      11.3\n",
       "1      23.8\n",
       "2      23.2\n",
       "3      15.9\n",
       "4       8.5\n",
       "5      20.7\n",
       "6      25.4\n",
       "7       6.9\n",
       "8      15.3\n",
       "9      20.7\n",
       "10     12.6\n",
       "11     27.0\n",
       "12     19.6\n",
       "13      8.8\n",
       "14     12.2\n",
       "15      9.7\n",
       "16     22.3\n",
       "17     10.3\n",
       "18     10.1\n",
       "19      5.6\n",
       "20     19.6\n",
       "21     10.3\n",
       "22     22.2\n",
       "23     16.9\n",
       "24     18.9\n",
       "25      9.7\n",
       "26      1.6\n",
       "27     10.6\n",
       "28     11.8\n",
       "29     25.5\n",
       "       ... \n",
       "130    13.6\n",
       "131    17.2\n",
       "132    15.5\n",
       "133    25.4\n",
       "134    12.9\n",
       "135    21.7\n",
       "136    12.5\n",
       "137    17.3\n",
       "138     7.2\n",
       "139    10.5\n",
       "140    11.8\n",
       "141    16.1\n",
       "142    20.7\n",
       "143    10.9\n",
       "144    11.6\n",
       "145     7.6\n",
       "146    11.9\n",
       "147    14.2\n",
       "148    17.4\n",
       "149    12.8\n",
       "150    14.9\n",
       "151     8.4\n",
       "152    20.1\n",
       "153    24.2\n",
       "154    14.8\n",
       "155    13.2\n",
       "156    13.2\n",
       "157     9.5\n",
       "158    11.6\n",
       "159    18.0\n",
       "Name: sales, Length: 160, dtype: float64"
      ]
     },
     "execution_count": 100,
     "metadata": {},
     "output_type": "execute_result"
    }
   ],
   "source": [
    "y_train"
   ]
  }
 ],
 "metadata": {
  "kernelspec": {
   "display_name": "Python (pytorch)",
   "language": "python",
   "name": "pytorch"
  },
  "language_info": {
   "codemirror_mode": {
    "name": "ipython",
    "version": 2
   },
   "file_extension": ".py",
   "mimetype": "text/x-python",
   "name": "python",
   "nbconvert_exporter": "python",
   "pygments_lexer": "ipython2",
   "version": "2.7.3"
  }
 },
 "nbformat": 4,
 "nbformat_minor": 2
}
