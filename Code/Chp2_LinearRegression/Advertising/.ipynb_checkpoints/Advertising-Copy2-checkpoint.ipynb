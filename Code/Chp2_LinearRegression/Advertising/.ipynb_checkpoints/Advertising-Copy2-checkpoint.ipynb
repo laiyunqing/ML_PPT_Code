{
 "cells": [
  {
   "cell_type": "markdown",
   "metadata": {},
   "source": [
    "# 广告投入与产品销量预测\n",
    "\n",
    "该数据集来自Advertising.csv是来自\n",
    "http://faculty.marshall.usc.edu/gareth-james/ISL/Advertising.csv\n",
    "\n",
    "数据集包含200个样本，每个样本有3个输入属性：\n",
    "1. 电视广告投入\n",
    "2. 收音机广告投入\n",
    "3. 报纸广告\n",
    "以及一个输出/响应：\n",
    "4. 产品销量"
   ]
  },
  {
   "cell_type": "markdown",
   "metadata": {},
   "source": [
    "## 1. 导入必要的工具包"
   ]
  },
  {
   "cell_type": "code",
   "execution_count": 2,
   "metadata": {
    "collapsed": true
   },
   "outputs": [],
   "source": [
    "#数据处理\n",
    "import numpy as np \n",
    "import pandas as pd \n",
    "\n",
    "#数据可视化\n",
    "import matplotlib.pyplot as plt\n",
    "%matplotlib inline\n",
    "\n",
    "#显示中文\n",
    "plt.rcParams['font.sans-serif'] = ['Arial Unicode MS']"
   ]
  },
  {
   "cell_type": "markdown",
   "metadata": {},
   "source": [
    "## 2. 读取数据"
   ]
  },
  {
   "cell_type": "code",
   "execution_count": 3,
   "metadata": {
    "scrolled": false
   },
   "outputs": [
    {
     "data": {
      "text/html": [
       "<div>\n",
       "<style>\n",
       "    .dataframe thead tr:only-child th {\n",
       "        text-align: right;\n",
       "    }\n",
       "\n",
       "    .dataframe thead th {\n",
       "        text-align: left;\n",
       "    }\n",
       "\n",
       "    .dataframe tbody tr th {\n",
       "        vertical-align: top;\n",
       "    }\n",
       "</style>\n",
       "<table border=\"1\" class=\"dataframe\">\n",
       "  <thead>\n",
       "    <tr style=\"text-align: right;\">\n",
       "      <th></th>\n",
       "      <th>Unnamed: 0</th>\n",
       "      <th>TV</th>\n",
       "      <th>radio</th>\n",
       "      <th>newspaper</th>\n",
       "      <th>sales</th>\n",
       "    </tr>\n",
       "  </thead>\n",
       "  <tbody>\n",
       "    <tr>\n",
       "      <th>0</th>\n",
       "      <td>1</td>\n",
       "      <td>230.1</td>\n",
       "      <td>37.8</td>\n",
       "      <td>69.2</td>\n",
       "      <td>22.1</td>\n",
       "    </tr>\n",
       "    <tr>\n",
       "      <th>1</th>\n",
       "      <td>2</td>\n",
       "      <td>44.5</td>\n",
       "      <td>39.3</td>\n",
       "      <td>45.1</td>\n",
       "      <td>10.4</td>\n",
       "    </tr>\n",
       "    <tr>\n",
       "      <th>2</th>\n",
       "      <td>3</td>\n",
       "      <td>17.2</td>\n",
       "      <td>45.9</td>\n",
       "      <td>69.3</td>\n",
       "      <td>9.3</td>\n",
       "    </tr>\n",
       "    <tr>\n",
       "      <th>3</th>\n",
       "      <td>4</td>\n",
       "      <td>151.5</td>\n",
       "      <td>41.3</td>\n",
       "      <td>58.5</td>\n",
       "      <td>18.5</td>\n",
       "    </tr>\n",
       "    <tr>\n",
       "      <th>4</th>\n",
       "      <td>5</td>\n",
       "      <td>180.8</td>\n",
       "      <td>10.8</td>\n",
       "      <td>58.4</td>\n",
       "      <td>12.9</td>\n",
       "    </tr>\n",
       "  </tbody>\n",
       "</table>\n",
       "</div>"
      ],
      "text/plain": [
       "   Unnamed: 0     TV  radio  newspaper  sales\n",
       "0           1  230.1   37.8       69.2   22.1\n",
       "1           2   44.5   39.3       45.1   10.4\n",
       "2           3   17.2   45.9       69.3    9.3\n",
       "3           4  151.5   41.3       58.5   18.5\n",
       "4           5  180.8   10.8       58.4   12.9"
      ]
     },
     "execution_count": 3,
     "metadata": {},
     "output_type": "execute_result"
    }
   ],
   "source": [
    "#读取数据\n",
    "dpath = \"../data/\"\n",
    "df = pd.read_csv(dpath + \"Advertising.csv\")\n",
    "\n",
    "#通过观察前5行，了解数据每列（特征）的概况\n",
    "df.head()"
   ]
  },
  {
   "cell_type": "code",
   "execution_count": 4,
   "metadata": {
    "collapsed": true
   },
   "outputs": [],
   "source": [
    "#去掉索引列，与预测模型无关\n",
    "df.drop(['Unnamed: 0'], axis = 1, inplace = True)"
   ]
  },
  {
   "cell_type": "code",
   "execution_count": 5,
   "metadata": {
    "scrolled": true
   },
   "outputs": [
    {
     "name": "stdout",
     "output_type": "stream",
     "text": [
      "<class 'pandas.core.frame.DataFrame'>\n",
      "RangeIndex: 200 entries, 0 to 199\n",
      "Data columns (total 4 columns):\n",
      "TV           200 non-null float64\n",
      "radio        200 non-null float64\n",
      "newspaper    200 non-null float64\n",
      "sales        200 non-null float64\n",
      "dtypes: float64(4)\n",
      "memory usage: 6.3 KB\n"
     ]
    }
   ],
   "source": [
    "# 数据总体信息\n",
    "df.info()"
   ]
  },
  {
   "cell_type": "markdown",
   "metadata": {
    "collapsed": true
   },
   "source": [
    "## 3. 数据准备"
   ]
  },
  {
   "cell_type": "code",
   "execution_count": 7,
   "metadata": {
    "collapsed": true
   },
   "outputs": [],
   "source": [
    "# 从原始数据中分离输入特征x和输出y\n",
    "y = df['sales']\n",
    "X = df.drop('sales', axis = 1)\n",
    "\n",
    "#特征名称，用于后续显示权重系数对应的特征\n",
    "feat_names = X.columns"
   ]
  },
  {
   "cell_type": "code",
   "execution_count": 8,
   "metadata": {
    "collapsed": true
   },
   "outputs": [],
   "source": [
    "# 数据标准化\n",
    "# 本数据集中3个特征的单位相同，可以不做特征缩放，不影响正则\n",
    "# 但3个特征的取值范围不同，如果采用梯度下降/随机梯度下降法求解，\n",
    "# 还是将所有特征的取值范围缩放到相同区间\n",
    "from sklearn.preprocessing import StandardScaler\n",
    "\n",
    "# 分别初始化对特征和目标值的标准化器\n",
    "ss_X = StandardScaler()\n",
    "\n",
    "# 对训练数据，先调用fit方法训练模型，得到模型参数；然后对训练数据和测试数据进行transform\n",
    "X = ss_X.fit_transform(X)"
   ]
  },
  {
   "cell_type": "code",
   "execution_count": 10,
   "metadata": {
    "collapsed": true,
    "scrolled": true
   },
   "outputs": [],
   "source": [
    "#将数据分割训练数据与测试数据\n",
    "from sklearn.model_selection import train_test_split\n",
    "\n",
    "# 随机采样20%的数据构建测试样本，其余作为训练样本\n",
    "X_train, X_test, y_train, y_test = train_test_split(X, y, random_state=33, test_size=0.2)\n",
    "#X_train.shape"
   ]
  },
  {
   "cell_type": "markdown",
   "metadata": {},
   "source": [
    "## 4. 最小二乘线性回归"
   ]
  },
  {
   "cell_type": "code",
   "execution_count": 112,
   "metadata": {},
   "outputs": [
    {
     "data": {
      "text/html": [
       "<div>\n",
       "<style>\n",
       "    .dataframe thead tr:only-child th {\n",
       "        text-align: right;\n",
       "    }\n",
       "\n",
       "    .dataframe thead th {\n",
       "        text-align: left;\n",
       "    }\n",
       "\n",
       "    .dataframe tbody tr th {\n",
       "        vertical-align: top;\n",
       "    }\n",
       "</style>\n",
       "<table border=\"1\" class=\"dataframe\">\n",
       "  <thead>\n",
       "    <tr style=\"text-align: right;\">\n",
       "      <th></th>\n",
       "      <th>coef</th>\n",
       "      <th>columns</th>\n",
       "    </tr>\n",
       "  </thead>\n",
       "  <tbody>\n",
       "    <tr>\n",
       "      <th>0</th>\n",
       "      <td>3.983944</td>\n",
       "      <td>TV</td>\n",
       "    </tr>\n",
       "    <tr>\n",
       "      <th>1</th>\n",
       "      <td>2.860230</td>\n",
       "      <td>radio</td>\n",
       "    </tr>\n",
       "    <tr>\n",
       "      <th>2</th>\n",
       "      <td>0.038194</td>\n",
       "      <td>newspaper</td>\n",
       "    </tr>\n",
       "    <tr>\n",
       "      <th>3</th>\n",
       "      <td>13.969091</td>\n",
       "      <td>intercept</td>\n",
       "    </tr>\n",
       "  </tbody>\n",
       "</table>\n",
       "</div>"
      ],
      "text/plain": [
       "        coef    columns\n",
       "0   3.983944         TV\n",
       "1   2.860230      radio\n",
       "2   0.038194  newspaper\n",
       "3  13.969091  intercept"
      ]
     },
     "execution_count": 112,
     "metadata": {},
     "output_type": "execute_result"
    }
   ],
   "source": [
    "# 线性回归\n",
    "from sklearn.linear_model import LinearRegression\n",
    "\n",
    "# 1.使用默认配置初始化学习器实例\n",
    "lr = LinearRegression()\n",
    "\n",
    "# 2.用训练数据训练模型参数\n",
    "lr.fit(X_train, y_train)\n",
    "\n",
    "# 3. 用训练好的模型对测试集进行预测\n",
    "y_test_pred_lr = lr.predict(X_test)\n",
    "y_train_pred_lr = lr.predict(X_train)\n",
    "\n",
    "\n",
    "# 看看各特征的权重系数，系数的绝对值大小可视为该特征的重要性\n",
    "fs = pd.DataFrame({\"columns\":list(feat_names), \"coef\":list((lr.coef_.T))})\n",
    "#fs.sort_values(by=['coef'],ascending=False)\n",
    "fs = fs.append([{'columns':'intercept','coef':lr.intercept_}], ignore_index=True)\n",
    "fs"
   ]
  },
  {
   "cell_type": "code",
   "execution_count": 113,
   "metadata": {
    "scrolled": true
   },
   "outputs": [
    {
     "name": "stdout",
     "output_type": "stream",
     "text": [
      "The r2 score of LinearRegression on test is 0.893729\n",
      "The r2 score of LinearRegression on train is 0.896285\n"
     ]
    }
   ],
   "source": [
    "# 使用r2_score评价模型在测试集和训练集上的性能，并输出评估结果\n",
    "from sklearn.metrics import r2_score  #评价回归预测模型的性能\n",
    "#测试集\n",
    "print(\"The r2 score of LinearRegression on test is %f\" %(r2_score(y_test, y_test_pred_lr)))\n",
    "\n",
    "#训练集\n",
    "print(\"The r2 score of LinearRegression on train is %f\" %(r2_score(y_train, y_train_pred_lr)))"
   ]
  },
  {
   "cell_type": "markdown",
   "metadata": {},
   "source": [
    "## 残差分布"
   ]
  },
  {
   "cell_type": "code",
   "execution_count": 114,
   "metadata": {
    "scrolled": false
   },
   "outputs": [
    {
     "data": {
      "text/plain": [
       "Text(0.5,1,u'\\u6b8b\\u5dee\\u76f4\\u65b9\\u56fe')"
      ]
     },
     "execution_count": 114,
     "metadata": {},
     "output_type": "execute_result"
    },
    {
     "data": {
      "image/png": "[encoded data removed]",
      "text/plain": [
       "<matplotlib.figure.Figure at 0x1a18165950>"
      ]
     },
     "metadata": {
      "needs_background": "light"
     },
     "output_type": "display_data"
    }
   ],
   "source": [
    "#在训练集上观察预测残差的分布，看是否符合模型假设：噪声为0均值的高斯噪声\n",
    "figsize = 11,9\n",
    "res = y_train - y_train_pred_lr\n",
    "sns.distplot(res, bins=40, kde = False)\n",
    "plt.xlabel(u'残差')\n",
    "plt.title(u'残差直方图') "
   ]
  },
  {
   "cell_type": "markdown",
   "metadata": {},
   "source": [
    "看起来残差的分布并不符合0均值的正态分布"
   ]
  },
  {
   "cell_type": "code",
   "execution_count": 115,
   "metadata": {
    "scrolled": false
   },
   "outputs": [
    {
     "data": {
      "text/plain": [
       "Text(0,0.5,u'\\u6b8b\\u5dee')"
      ]
     },
     "execution_count": 115,
     "metadata": {},
     "output_type": "execute_result"
    },
    {
     "data": {
      "image/png": "[encoded data removed]",
      "text/plain": [
       "<matplotlib.figure.Figure at 0x1a18109250>"
      ]
     },
     "metadata": {
      "needs_background": "light"
     },
     "output_type": "display_data"
    }
   ],
   "source": [
    "figsize = 11,9\n",
    "plt.scatter(y_train_pred_lr, res)\n",
    "plt.xlabel(u'预测值')\n",
    "plt.ylabel(u'残差')"
   ]
  },
  {
   "cell_type": "markdown",
   "metadata": {},
   "source": [
    "从预测值和残差的散点图来看，预测值和残差不是没有关系。看起来预测值较小和较大时，预测残差的绝对值很大。也就是说，模型还没有完全建模y与x之间的关系，还有一部分关系在残差中。"
   ]
  },
  {
   "cell_type": "markdown",
   "metadata": {},
   "source": [
    "## 5. 岭回归"
   ]
  },
  {
   "cell_type": "code",
   "execution_count": 129,
   "metadata": {},
   "outputs": [
    {
     "data": {
      "text/html": [
       "<div>\n",
       "<style>\n",
       "    .dataframe thead tr:only-child th {\n",
       "        text-align: right;\n",
       "    }\n",
       "\n",
       "    .dataframe thead th {\n",
       "        text-align: left;\n",
       "    }\n",
       "\n",
       "    .dataframe tbody tr th {\n",
       "        vertical-align: top;\n",
       "    }\n",
       "</style>\n",
       "<table border=\"1\" class=\"dataframe\">\n",
       "  <thead>\n",
       "    <tr style=\"text-align: right;\">\n",
       "      <th></th>\n",
       "      <th>coef</th>\n",
       "      <th>columns</th>\n",
       "    </tr>\n",
       "  </thead>\n",
       "  <tbody>\n",
       "    <tr>\n",
       "      <th>0</th>\n",
       "      <td>3.981524</td>\n",
       "      <td>TV</td>\n",
       "    </tr>\n",
       "    <tr>\n",
       "      <th>1</th>\n",
       "      <td>2.858304</td>\n",
       "      <td>radio</td>\n",
       "    </tr>\n",
       "    <tr>\n",
       "      <th>2</th>\n",
       "      <td>0.038925</td>\n",
       "      <td>newspaper</td>\n",
       "    </tr>\n",
       "    <tr>\n",
       "      <th>3</th>\n",
       "      <td>13.969282</td>\n",
       "      <td>intercept</td>\n",
       "    </tr>\n",
       "  </tbody>\n",
       "</table>\n",
       "</div>"
      ],
      "text/plain": [
       "        coef    columns\n",
       "0   3.981524         TV\n",
       "1   2.858304      radio\n",
       "2   0.038925  newspaper\n",
       "3  13.969282  intercept"
      ]
     },
     "execution_count": 129,
     "metadata": {},
     "output_type": "execute_result"
    }
   ],
   "source": [
    "from sklearn.linear_model import  RidgeCV\n",
    "\n",
    "#1. 设置超参数（正则参数）范围\n",
    "alphas = [ 0.01, 0.1, 1, 10,100]\n",
    "\n",
    "#2. 生成一个RidgeCV实例\n",
    "ridge = RidgeCV(alphas=alphas, store_cv_values=True)  \n",
    "\n",
    "#3. 模型训练\n",
    "ridge.fit(X_train, y_train)    \n",
    "\n",
    "#4. 预测\n",
    "y_test_pred_ridge = ridge.predict(X_test)\n",
    "y_train_pred_ridge = ridge.predict(X_train)\n",
    "\n",
    "# 看看各特征的权重系数，系数的绝对值大小可视为该特征的重要性\n",
    "fs = pd.DataFrame({\"columns\":list(feat_names), \"coef\":list((ridge.coef_.T))})\n",
    "#fs.sort_values(by=['coef'],ascending=False)\n",
    "fs = fs.append([{'columns':'intercept','coef':ridge.intercept_}], ignore_index=True)\n",
    "fs"
   ]
  },
  {
   "cell_type": "code",
   "execution_count": 130,
   "metadata": {
    "scrolled": true
   },
   "outputs": [
    {
     "name": "stdout",
     "output_type": "stream",
     "text": [
      "The r2 score of Ridge on test is 0.893865\n",
      "The r2 score of Ridge on train is 0.896285\n"
     ]
    }
   ],
   "source": [
    "#测试集\n",
    "print(\"The r2 score of Ridge on test is %f\" %(r2_score(y_test, y_test_pred_ridge)))\n",
    "\n",
    "#训练集\n",
    "print(\"The r2 score of Ridge on train is %f\" %(r2_score(y_train, y_train_pred_ridge)))"
   ]
  },
  {
   "cell_type": "markdown",
   "metadata": {},
   "source": [
    "## 6. Lasso回归"
   ]
  },
  {
   "cell_type": "code",
   "execution_count": 131,
   "metadata": {},
   "outputs": [
    {
     "name": "stdout",
     "output_type": "stream",
     "text": [
      "The r2 score of lasso on test is 0.899197\n",
      "The r2 score of lasso on train is 0.895925\n"
     ]
    }
   ],
   "source": [
    "from sklearn.linear_model import LassoCV\n",
    "\n",
    "#1. 设置超参数搜索范围\n",
    "#Lasso可以自动确定最大的alpha，所以另一种设置alpha的方式是设置最小的alpha值（eps） 和 超参数的数目（n_alphas），\n",
    "#然后LassoCV对最小值和最大值之间在log域上均匀取值n_alphas个\n",
    "# np.logspace(np.log10(alpha_max * eps), np.log10(alpha_max),num=n_alphas)[::-1]\n",
    "\n",
    "#2 生成LassoCV实例（默认超参数搜索范围）\n",
    "lasso = LassoCV()  \n",
    "\n",
    "#3. 训练（内含CV）\n",
    "lasso.fit(X_train, y_train)  \n",
    "\n",
    "#4. 测试\n",
    "y_test_pred_lasso = lasso.predict(X_test)\n",
    "y_train_pred_lasso = lasso.predict(X_train)\n",
    "\n",
    "\n",
    "# 评估，使用r2_score评价模型在测试集和训练集上的性能\n",
    "print(\"The r2 score of lasso on test is %f\" %(r2_score(y_test, y_test_pred_lasso)))\n",
    "print(\"The r2 score of lasso on train is %f\" %(r2_score(y_train, y_train_pred_lasso)))"
   ]
  },
  {
   "cell_type": "code",
   "execution_count": 135,
   "metadata": {
    "scrolled": true
   },
   "outputs": [
    {
     "data": {
      "text/html": [
       "<div>\n",
       "<style>\n",
       "    .dataframe thead tr:only-child th {\n",
       "        text-align: right;\n",
       "    }\n",
       "\n",
       "    .dataframe thead th {\n",
       "        text-align: left;\n",
       "    }\n",
       "\n",
       "    .dataframe tbody tr th {\n",
       "        vertical-align: top;\n",
       "    }\n",
       "</style>\n",
       "<table border=\"1\" class=\"dataframe\">\n",
       "  <thead>\n",
       "    <tr style=\"text-align: right;\">\n",
       "      <th></th>\n",
       "      <th>coef_lasso</th>\n",
       "      <th>coef_lr</th>\n",
       "      <th>coef_ridge</th>\n",
       "      <th>columns</th>\n",
       "    </tr>\n",
       "  </thead>\n",
       "  <tbody>\n",
       "    <tr>\n",
       "      <th>0</th>\n",
       "      <td>3.921642</td>\n",
       "      <td>3.983944</td>\n",
       "      <td>3.981524</td>\n",
       "      <td>TV</td>\n",
       "    </tr>\n",
       "    <tr>\n",
       "      <th>1</th>\n",
       "      <td>2.806374</td>\n",
       "      <td>2.860230</td>\n",
       "      <td>2.858304</td>\n",
       "      <td>radio</td>\n",
       "    </tr>\n",
       "    <tr>\n",
       "      <th>2</th>\n",
       "      <td>0.000000</td>\n",
       "      <td>0.038194</td>\n",
       "      <td>0.038925</td>\n",
       "      <td>newspaper</td>\n",
       "    </tr>\n",
       "    <tr>\n",
       "      <th>3</th>\n",
       "      <td>13.972528</td>\n",
       "      <td>13.969091</td>\n",
       "      <td>13.969282</td>\n",
       "      <td>intercept</td>\n",
       "    </tr>\n",
       "  </tbody>\n",
       "</table>\n",
       "</div>"
      ],
      "text/plain": [
       "   coef_lasso    coef_lr  coef_ridge    columns\n",
       "0    3.921642   3.983944    3.981524         TV\n",
       "1    2.806374   2.860230    2.858304      radio\n",
       "2    0.000000   0.038194    0.038925  newspaper\n",
       "3   13.972528  13.969091   13.969282  intercept"
      ]
     },
     "execution_count": 135,
     "metadata": {},
     "output_type": "execute_result"
    }
   ],
   "source": [
    "# 看看各特征的权重系数，系数的绝对值大小可视为该特征的重要性\n",
    "fs = pd.DataFrame({\"columns\":list(feat_names), \"coef_lr\":list((lr.coef_.T)), \"coef_ridge\":list((ridge.coef_.T)), \"coef_lasso\":list((lasso.coef_.T))})\n",
    "#fs.sort_values(by=['coef_lr'],ascending=False)\n",
    "fs = fs.append([{'columns':'intercept','coef_lr':lr.intercept_, 'coef_ridge':ridge.intercept_, 'coef_lasso':lasso.intercept_}], ignore_index=True)\n",
    "fs"
   ]
  },
  {
   "cell_type": "markdown",
   "metadata": {},
   "source": [
    "## 默认超参数的Huber损失回归\n",
    "注意默认超参数alpha=0.0001\n",
    "如果要对HuberRegressor模型超参数调优，可结合GridSearchCV"
   ]
  },
  {
   "cell_type": "code",
   "execution_count": 136,
   "metadata": {
    "scrolled": false
   },
   "outputs": [
    {
     "data": {
      "text/html": [
       "<div>\n",
       "<style>\n",
       "    .dataframe thead tr:only-child th {\n",
       "        text-align: right;\n",
       "    }\n",
       "\n",
       "    .dataframe thead th {\n",
       "        text-align: left;\n",
       "    }\n",
       "\n",
       "    .dataframe tbody tr th {\n",
       "        vertical-align: top;\n",
       "    }\n",
       "</style>\n",
       "<table border=\"1\" class=\"dataframe\">\n",
       "  <thead>\n",
       "    <tr style=\"text-align: right;\">\n",
       "      <th></th>\n",
       "      <th>coef</th>\n",
       "      <th>columns</th>\n",
       "    </tr>\n",
       "  </thead>\n",
       "  <tbody>\n",
       "    <tr>\n",
       "      <th>0</th>\n",
       "      <td>3.840762</td>\n",
       "      <td>TV</td>\n",
       "    </tr>\n",
       "    <tr>\n",
       "      <th>1</th>\n",
       "      <td>2.931079</td>\n",
       "      <td>radio</td>\n",
       "    </tr>\n",
       "    <tr>\n",
       "      <th>2</th>\n",
       "      <td>-0.023874</td>\n",
       "      <td>newspaper</td>\n",
       "    </tr>\n",
       "    <tr>\n",
       "      <th>3</th>\n",
       "      <td>14.237015</td>\n",
       "      <td>intercept</td>\n",
       "    </tr>\n",
       "  </tbody>\n",
       "</table>\n",
       "</div>"
      ],
      "text/plain": [
       "        coef    columns\n",
       "0   3.840762         TV\n",
       "1   2.931079      radio\n",
       "2  -0.023874  newspaper\n",
       "3  14.237015  intercept"
      ]
     },
     "execution_count": 136,
     "metadata": {},
     "output_type": "execute_result"
    }
   ],
   "source": [
    "# Huber回归\n",
    "from sklearn.linear_model import HuberRegressor\n",
    "\n",
    "# 1.使用默认配置初始化学习器实例\n",
    "hr = HuberRegressor()\n",
    "\n",
    "# 2.用训练数据训练模型参数\n",
    "hr.fit(X_train, y_train)\n",
    "\n",
    "# 3. 用训练好的模型对测试集进行预测\n",
    "y_test_pred_hr = hr.predict(X_test)\n",
    "y_train_pred_hr = hr.predict(X_train)\n",
    "\n",
    "\n",
    "# 看看各特征的权重系数，系数的绝对值大小可视为该特征的重要性\n",
    "fs = pd.DataFrame({\"columns\":list(feat_names), \"coef\":list((hr.coef_.T))})\n",
    "#fs.sort_values(by=['coef'],ascending=False)\n",
    "fs = fs.append([{'columns':'intercept','coef':hr.intercept_}], ignore_index=True)\n",
    "fs"
   ]
  },
  {
   "cell_type": "code",
   "execution_count": 137,
   "metadata": {},
   "outputs": [
    {
     "data": {
      "text/plain": [
       "Text(0.5,1,u'\\u6b8b\\u5dee\\u76f4\\u65b9\\u56fe')"
      ]
     },
     "execution_count": 137,
     "metadata": {},
     "output_type": "execute_result"
    },
    {
     "data": {
      "image/png": "[encoded data removed]",
      "text/plain": [
       "<matplotlib.figure.Figure at 0x1a189a5cd0>"
      ]
     },
     "metadata": {
      "needs_background": "light"
     },
     "output_type": "display_data"
    }
   ],
   "source": [
    "#在训练集上观察预测残差的分布，看是否符合模型假设：噪声为0均值的高斯噪声\n",
    "figsize = 11,9\n",
    "res = y_train - y_train_pred_hr\n",
    "sns.distplot(res, bins=40, kde = False)\n",
    "plt.xlabel(u'残差')\n",
    "plt.title(u'残差直方图') "
   ]
  },
  {
   "cell_type": "code",
   "execution_count": 138,
   "metadata": {
    "scrolled": true
   },
   "outputs": [
    {
     "data": {
      "text/plain": [
       "Text(0,0.5,u'\\u6b8b\\u5dee')"
      ]
     },
     "execution_count": 138,
     "metadata": {},
     "output_type": "execute_result"
    },
    {
     "data": {
      "image/png": "[encoded data removed]",
      "text/plain": [
       "<matplotlib.figure.Figure at 0x1a1a8c92d0>"
      ]
     },
     "metadata": {
      "needs_background": "light"
     },
     "output_type": "display_data"
    }
   ],
   "source": [
    "figsize = 11,9\n",
    "\n",
    "res = y_train - y_train_pred_hr\n",
    "plt.scatter(y_train_pred_hr, res)\n",
    "plt.xlabel(u'预测值')\n",
    "plt.ylabel(u'残差')"
   ]
  },
  {
   "cell_type": "markdown",
   "metadata": {},
   "source": [
    "## 梯度下降"
   ]
  },
  {
   "cell_type": "code",
   "execution_count": 40,
   "metadata": {
    "collapsed": true
   },
   "outputs": [],
   "source": [
    "# 目标函数\n",
    "def obj_ols(X, y, w):\n",
    "    N = X.shape[0]  # 样本数目\n",
    "    y_pred = np.dot(X, w)\n",
    "    res = y - y_pred\n",
    "    return np.sum(res ** 2)/N # 目标函数"
   ]
  },
  {
   "cell_type": "code",
   "execution_count": 198,
   "metadata": {
    "collapsed": true
   },
   "outputs": [],
   "source": [
    "# 目标函数的一阶导数\n",
    "def grad_OLS(X, y, w):\n",
    "    N = X.shape[0]  # 样本数目\n",
    "    X_transpose = np.transpose(X)\n",
    "    y_pred = np.dot(X, w)\n",
    "    res = y_pred - y \n",
    "    \n",
    "    #2(Xw-y)*X^T\n",
    "    grad =  2*np.dot(X_transpose , res)/N \n",
    "    return grad"
   ]
  },
  {
   "cell_type": "code",
   "execution_count": 284,
   "metadata": {
    "collapsed": true
   },
   "outputs": [],
   "source": [
    "# 梯度下降法\n",
    "# 给定起始点与目标函数的一阶导函数，求在epochs次迭代中x的更新值\n",
    "def bgd_ols(X, y, w_start, df, max_epochs=10000, lr=0.1, epsilon = 0.0001):\n",
    "    \"\"\"\n",
    "    :param X, y: 训练数据\n",
    "    :param w_start: x的起始点\n",
    "    :param df: 目标函数的一阶导函数\n",
    "    :param max_epochs: 最大迭代次数\n",
    "    :param lr: 学习率\n",
    "    :return: 每次迭代后的位置（包括起始点），和对应目标函数值\n",
    "    \"\"\"\n",
    "    #初始化\n",
    "    ws = []      # 参数\n",
    "    Js = []      # 目标函数\n",
    "    D = X.shape[1]  # 特征维度\n",
    "    \n",
    "    w = w_start\n",
    "    row = []\n",
    "    for j in range(D):\n",
    "        row.append(w[j])\n",
    "    ws.append(row)\n",
    "    \n",
    "    J = obj_ols(X, y,w)\n",
    "    Js.append(J)\n",
    "    \n",
    "    for iter in range(1, max_epochs+1):\n",
    "        dw = df(X, y, w) #计算梯度\n",
    "        \n",
    "        w += - dw * lr   #根据梯度，更新参数\n",
    "        \n",
    "        row = []\n",
    "        for j in range(D):\n",
    "            row.append(w[j])\n",
    "        ws.append(row)\n",
    "        \n",
    "        #判断目标函数是否收敛\n",
    "        J = obj_ols(X, y,w)\n",
    "        Js.append(J)\n",
    "        #print(\"iter %s | J: %.3f\" % (iter, J))\n",
    "        #print( w)\n",
    "        #print( dw)\n",
    "       \n",
    "        #判断是否收敛\n",
    "        if (abs(Js[iter-1]-J)/Js[iter-1] < epsilon or abs(Js[iter-1]-J)/Js[iter-1]< epsilon or Js[iter] <epsilon): \n",
    "            break\n",
    "            \n",
    "    return ws, Js"
   ]
  },
  {
   "cell_type": "code",
   "execution_count": 266,
   "metadata": {
    "collapsed": true
   },
   "outputs": [],
   "source": [
    "# mini-batch梯度下降法\n",
    "# 给定起始点与目标函数的一阶导函数，求在epochs次迭代中x的更新值\n",
    "def mbgd_ols(X, y, w_start, df, max_epochs=10, lr=0.1, epsilon = 0.000001, batch_size = 16):\n",
    "    \"\"\"\n",
    "    :param X, y: 训练数据\n",
    "    :param w_start: x的起始点\n",
    "    :param df: 目标函数的一阶导函数\n",
    "    :param max_epochs: 最大迭代次数\n",
    "    :param lr: 学习率\n",
    "    :param batch_size: 批大小\n",
    "    :return: 每次迭代后的位置（包括起始点），和对应目标函数值\n",
    "    \"\"\"\n",
    "    #初始化\n",
    "    ws = []      # 参数\n",
    "    Js = []      # 目标函数\n",
    "    \n",
    "    D = X.shape[1]  # 特征维度\n",
    "    N = X.shape[0]  # 样本数目\n",
    "    n_batches = int(N/batch_size)\n",
    "    \n",
    "    w = w_start\n",
    "    row = []\n",
    "    for j in range(D):\n",
    "        row.append(w[j])\n",
    "    ws.append(row)\n",
    "    \n",
    "    J = obj_ols(X, y,w)\n",
    "    Js.append(J)\n",
    "    \n",
    "    for iter in range(1, max_epochs+1):\n",
    "        J =0.0\n",
    "        \n",
    "        #数据重新洗牌\n",
    "        indices = np.random.permutation(N)\n",
    "        X = X[indices]\n",
    "        y = y[indices]\n",
    "        \n",
    "        for i in range(0,m,batch_size):\n",
    "            #本批次的样本    \n",
    "            X_i = X[i: i+batch_size]\n",
    "            y_i = y[i: i+batch_size]\n",
    "        \n",
    "            dw = df(X_i, y_i, w) #计算梯度\n",
    "            w += - dw * lr   #根据梯度，更新参数\n",
    "        \n",
    "            row = []\n",
    "            for j in range(D):\n",
    "                row.append(w[j])\n",
    "            ws.append(row)\n",
    "            \n",
    "            J += obj_ols(X, y,w)\n",
    "        \n",
    "        #判断目标函数是否收敛\n",
    "        Js.append(J)\n",
    "        #print(\"iter %s | J: %.3f\" % (iter, J))\n",
    "        #print( w)\n",
    "        #print( dw)\n",
    "       \n",
    "        #判断是否收敛\n",
    "        if (abs(Js[iter-1]-J)/Js[iter-1] < epsilon or Js[iter] <epsilon): \n",
    "            break\n",
    "            \n",
    "    return ws, Js"
   ]
  },
  {
   "cell_type": "code",
   "execution_count": 264,
   "metadata": {
    "scrolled": false
   },
   "outputs": [
    {
     "name": "stdout",
     "output_type": "stream",
     "text": [
      "[3.9829613555257053, 2.8651599111849038, 0.03471289299387434, 13.95811336914721]\n"
     ]
    },
    {
     "data": {
      "image/png": "[encoded data removed]",
      "text/plain": [
       "<matplotlib.figure.Figure at 0x106d0cf90>"
      ]
     },
     "metadata": {
      "needs_background": "light"
     },
     "output_type": "display_data"
    }
   ],
   "source": [
    "#X增加常数列1，用于表示截距\n",
    "intercept = np.ones(X_train.shape[0])\n",
    "X_train_new = np.c_[X_train,intercept]\n",
    "\n",
    "#初始化\n",
    "D = X_train_new.shape[1]  # 特征维度\n",
    "w_start = np.zeros(D)  #参数初始化\n",
    "\n",
    "#梯度下降\n",
    "ws, Js = bgd_ols(X_train_new, y_train, w_start, grad_OLS, lr = 0.2)\n",
    "\n",
    "#显示\n",
    "n_iter = len(ws)\n",
    "plt.plot(range(n_iter), Js, \"b-\")\n",
    "plt.xlabel(u'迭代次数')\n",
    "plt.ylabel(u'目标函数值')\n",
    "plt.title(u'学习率：0.2')\n",
    "\n",
    "print(ws[n_iter-1])"
   ]
  },
  {
   "cell_type": "markdown",
   "metadata": {},
   "source": [
    "### 只取两个特征，同时去掉截距项\n",
    "方便可视化"
   ]
  },
  {
   "cell_type": "code",
   "execution_count": 267,
   "metadata": {
    "collapsed": true
   },
   "outputs": [],
   "source": [
    "X_train_2d = np.delete(X_train, -1, axis=1)\n",
    "y_train_mean = y_train.mean()\n",
    "y_train_2d = y_train - y_train_mean"
   ]
  },
  {
   "cell_type": "code",
   "execution_count": 268,
   "metadata": {},
   "outputs": [
    {
     "name": "stdout",
     "output_type": "stream",
     "text": [
      "[3.98201653 2.85552578]\n"
     ]
    }
   ],
   "source": [
    "# 1.使用默认配置初始化学习器实例，看看最佳参数位置\n",
    "from sklearn.linear_model import LinearRegression\n",
    "lr_2d = LinearRegression(fit_intercept = False)\n",
    "#lr_2d = LinearRegression()\n",
    "\n",
    "# 2.用训练数据训练模型参数\n",
    "lr_2d.fit(X_train_2d, y_train_2d)\n",
    "\n",
    "print lr_2d.coef_\n",
    "#print lr_2d.intercept_"
   ]
  },
  {
   "cell_type": "code",
   "execution_count": 290,
   "metadata": {
    "scrolled": true
   },
   "outputs": [
    {
     "data": {
      "image/png": "[encoded data removed]",
      "text/plain": [
       "<matplotlib.figure.Figure at 0x106d00b10>"
      ]
     },
     "metadata": {
      "needs_background": "light"
     },
     "output_type": "display_data"
    }
   ],
   "source": [
    "n = 256\n",
    "w1 = np.linspace(0, 6, n)\n",
    "w2 = np.linspace(0, 6, n)\n",
    "Js_grid = np.zeros((256, 256))\n",
    "w_2d = np.zeros(2)\n",
    " \n",
    "# 把w1,w2数据生成mesh网格状的数据，因为等高线的显示是在网格的基础上添加上高度值\n",
    "W1, W2 = np.meshgrid(w1, w2)\n",
    "\n",
    "for i in range(0,n):\n",
    "    w_2d[0] = w1[i]\n",
    "    for j in range(0,n):\n",
    "        w_2d[1] = w2[j]\n",
    "        Js_grid[i,j] = obj_ols(X_train_2d, y_train_2d, w_2d)\n",
    "    \n",
    "# 等高线\n",
    "plt.contour(W1, W2, Js_grid, 30)\n",
    "\n",
    "#梯度下降轨迹\n",
    "#初始化\n",
    "d2 = X_train_2d.shape[1]  # 特征维度\n",
    "w_start = np.zeros(d2)  #参数初始化\n",
    "\n",
    "#梯度下降\n",
    "ws_bgd, Js_bgd = bgd_ols(X_train_2d, y_train_2d, w_start, grad_OLS, lr =  0.1)\n",
    "\n",
    "ws_np_bgd = np.mat(ws_bgd)\n",
    "plt.plot(ws_np_bgd[:,1], ws_np_bgd[:,0],  color='r',markerfacecolor='blue',marker='o')  \n",
    "\n",
    "plt.xlabel(u'w1')\n",
    "plt.ylabel(u'w2')\n",
    "# 显示图表\n",
    "plt.show()"
   ]
  },
  {
   "cell_type": "markdown",
   "metadata": {},
   "source": [
    "## 2D特征不做缩放"
   ]
  },
  {
   "cell_type": "code",
   "execution_count": 280,
   "metadata": {
    "collapsed": true
   },
   "outputs": [],
   "source": [
    "# 从原始数据中分离输入特征x和输出y\n",
    "df = pd.read_csv(dpath + \"Advertising.csv\")\n",
    "\n",
    "y = df['sales']\n",
    "X = df.drop(['sales', 'Unnamed: 0', 'newspaper'], axis = 1)\n",
    "\n",
    "#将数据分割训练数据与测试数据\n",
    "# 随机采样20%的数据构建测试样本，其余作为训练样本\n",
    "X_train, X_test, y_train, y_test = train_test_split(X, y, random_state=33, test_size=0.2)\n",
    "\n",
    "#数据中心化，截距=0\n",
    "X_train_mean = X_train.mean()\n",
    "X_train = X_train - X_train_mean\n",
    "\n",
    "y_train_mean = y_train.mean()\n",
    "y_train = y_train - y_train_mean"
   ]
  },
  {
   "cell_type": "code",
   "execution_count": 281,
   "metadata": {},
   "outputs": [
    {
     "name": "stdout",
     "output_type": "stream",
     "text": [
      "[0.04654474 0.19392176]\n"
     ]
    }
   ],
   "source": [
    "from sklearn.linear_model import LinearRegression\n",
    "lr_2d = LinearRegression(fit_intercept = False)\n",
    "#lr_2d = LinearRegression()\n",
    "\n",
    "# 2.用训练数据训练模型参数\n",
    "lr_2d.fit(X_train, y_train)\n",
    "\n",
    "print lr_2d.coef_"
   ]
  },
  {
   "cell_type": "code",
   "execution_count": 286,
   "metadata": {
    "scrolled": false
   },
   "outputs": [
    {
     "name": "stdout",
     "output_type": "stream",
     "text": [
      "[0.04656358354175372, 0.19027906764383734]\n"
     ]
    },
    {
     "data": {
      "image/png": "[encoded data removed]",
      "text/plain": [
       "<matplotlib.figure.Figure at 0x1a1b6a78d0>"
      ]
     },
     "metadata": {
      "needs_background": "light"
     },
     "output_type": "display_data"
    }
   ],
   "source": [
    "#初始化\n",
    "D = X_train.shape[1]  # 特征维度\n",
    "w_start = np.zeros(D)  #参数初始化\n",
    "\n",
    "ws, Js = bgd_ols(X_train, y_train, w_start, grad_OLS, lr = 0.0001)\n",
    "\n",
    "n_iter = len(ws)\n",
    "plt.plot(range(n_iter), Js, \"b-\")\n",
    "plt.xlabel(u'迭代次数')\n",
    "plt.ylabel(u'目标函数值')\n",
    "#plt.title(u'学习率：0.0000001')\n",
    "\n",
    "print(ws[n_iter-1])"
   ]
  },
  {
   "cell_type": "code",
   "execution_count": 287,
   "metadata": {},
   "outputs": [
    {
     "data": {
      "text/plain": [
       "89"
      ]
     },
     "execution_count": 287,
     "metadata": {},
     "output_type": "execute_result"
    }
   ],
   "source": [
    "n_iter"
   ]
  },
  {
   "cell_type": "code",
   "execution_count": 289,
   "metadata": {},
   "outputs": [
    {
     "data": {
      "image/png": "[encoded data removed]",
      "text/plain": [
       "<matplotlib.figure.Figure at 0x1a1a752bd0>"
      ]
     },
     "metadata": {
      "needs_background": "light"
     },
     "output_type": "display_data"
    }
   ],
   "source": [
    "n = 256\n",
    "w1 = np.linspace(0, 0.25, n)\n",
    "w2 = np.linspace(0, 0.25, n)\n",
    "Js_grid = np.zeros((256, 256))\n",
    "w_2d = np.zeros(2)\n",
    " \n",
    "# 把w1,w2数据生成mesh网格状的数据，因为等高线的显示是在网格的基础上添加上高度值\n",
    "W1, W2 = np.meshgrid(w1, w2)\n",
    "\n",
    "for i in range(0,n):\n",
    "    w_2d[0] = w1[i]\n",
    "    for j in range(0,n):\n",
    "        w_2d[1] = w2[j]\n",
    "        Js_grid[i,j] = obj_ols(X_train, y_train, w_2d)\n",
    "    \n",
    "# 等高线\n",
    "plt.contour(W1, W2, Js_grid, 30)\n",
    "\n",
    "#梯度下降轨迹\n",
    "D = X_train.shape[1]  # 特征维度\n",
    "w_start = np.zeros(D)  #参数初始化\n",
    "\n",
    "ws, Js = bgd_ols(X_train, y_train, w_start, grad_OLS, lr =  0.0001)\n",
    "#print(ws)\n",
    "\n",
    "ws_np = np.mat(ws)\n",
    "plt.plot(ws_np[:,1], ws_np[:,0],  color='r',markerfacecolor='blue',marker='o')  \n",
    "\n",
    "plt.xlabel(u'w1')\n",
    "plt.ylabel(u'w2')\n",
    "# 显示图表\n",
    "plt.show()"
   ]
  }
 ],
 "metadata": {
  "kernelspec": {
   "display_name": "Python (pytorch)",
   "language": "python",
   "name": "pytorch"
  },
  "language_info": {
   "codemirror_mode": {
    "name": "ipython",
    "version": 2
   },
   "file_extension": ".py",
   "mimetype": "text/x-python",
   "name": "python",
   "nbconvert_exporter": "python",
   "pygments_lexer": "ipython2",
   "version": "2.7.3"
  }
 },
 "nbformat": 4,
 "nbformat_minor": 2
}
