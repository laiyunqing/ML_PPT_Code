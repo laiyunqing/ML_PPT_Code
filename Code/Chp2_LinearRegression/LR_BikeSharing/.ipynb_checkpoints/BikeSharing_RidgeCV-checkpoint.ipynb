{
 "cells": [
  {
   "cell_type": "code",
   "execution_count": 2,
   "metadata": {},
   "outputs": [
    {
     "name": "stdout",
     "output_type": "stream",
     "text": [
      "(365, 31)\n",
      "(365,)\n",
      "(366, 31)\n",
      "(366,)\n",
      "('The r2 score of LinearRegression on test is', -0.68717788001141011)\n",
      "('The r2 score of LinearRegression on train is', 0.80346203650178016)\n"
     ]
    },
    {
     "name": "stderr",
     "output_type": "stream",
     "text": [
      "/Users/qing/anaconda2/lib/python2.7/site-packages/sklearn/utils/validation.py:475: DataConversionWarning: Data with input dtype int64 was converted to float64 by StandardScaler.\n",
      "  warnings.warn(msg, DataConversionWarning)\n"
     ]
    },
    {
     "name": "stdout",
     "output_type": "stream",
     "text": [
      "('The r2 score of RidgeCV on test is', -0.72190570906225671)\n",
      "('The r2 score of RidgeCV on train is', 0.80117059097061838)\n"
     ]
    }
   ],
   "source": [
    "import numpy as np\n",
    "import pandas as pd\n",
    "from sklearn.metrics import r2_score\n",
    "from sklearn.preprocessing import StandardScaler,MinMaxScaler,MaxAbsScaler,OneHotEncoder\n",
    "\n",
    "import matplotlib.pyplot as plt\n",
    "import seaborn as sns\n",
    "from sklearn.preprocessing import minmax_scale\n",
    "from scipy.sparse import hstack\n",
    "\n",
    "data = pd.read_csv('day.csv')\n",
    "data = data.drop(['instant','registered','dteday','casual'],axis=1)\n",
    "\n",
    "OneHotEnc = OneHotEncoder()\n",
    "mn_x = MinMaxScaler()\n",
    "\n",
    "#选取2011年的数据作为训练数据\n",
    "train_data = data[data.yr ==0]\n",
    "\n",
    "#类别型变量进行OneHot编码\n",
    "x_train_cat= OneHotEnc.fit_transform(train_data[['season','mnth','holiday','weekday','workingday']])\n",
    "\n",
    "#数据值变量继续预处理\n",
    "x_train_num = mn_x.fit_transform(train_data[['temp','atemp','hum','windspeed']])\n",
    "\n",
    "#将变换后的类别型变量和数值型变量串联\n",
    "x_train = hstack((x_train_cat,x_train_num))\n",
    "\n",
    "y_train = train_data['cnt'].values\n",
    "print(\"shape of train:\", x_train.shape)\n",
    "print(\"shape of test\",y_train.shape)\n",
    "\n",
    "#选择2012年的数据为测试数据\n",
    "test_data = data[data.yr == 1]\n",
    "\n",
    "#测试数据进行与训练数据一样的预处理（直接transform，没有fit了，用训练数据fit）\n",
    "x_test_cat = OneHotEnc.transform(test_data[['season','mnth','holiday','weekday','workingday']])\n",
    "x_test_num = mn_x.transform(test_data[['temp','atemp','hum','windspeed']])\n",
    "x_test = hstack((x_test_cat,x_test_num))\n",
    "y_test = test_data['cnt'].values\n",
    "print(x_test.shape)\n",
    "print(y_test.shape)\n",
    "\n",
    "#对y做标准化，不是必须\n",
    "ss_y = StandardScaler()\n",
    "y_train = ss_y.fit_transform(y_train.reshape(-1,1))\n",
    "y_test = ss_y.transform(y_test.reshape(-1,1))\n",
    "\n",
    "#训练集和测试集y的均值差异很大，均值差异用作校正\n",
    "mean_test_y = y_test.mean()\n",
    "#归一化后train均值为0\n",
    "#mean_train_y = 0\n",
    "mean_diff = mean_test_y;\n",
    "print(\"difference between mean of train and test y:\", mean_diff)\n",
    "\n",
    "#1. 缺省参数的最小二乘\n",
    "from sklearn.linear_model import LinearRegression\n",
    "lr = LinearRegression()\n",
    "lr.fit(x_train,y_train)\n",
    "y_test_pred_lr = lr.predict(x_test)\n",
    "y_test_pred_lr += mean_diff\n",
    "y_train_pred_lr = lr.predict(x_train)\n",
    "\n",
    "print('The r2 score of LinearRegression on test is',r2_score(y_test,y_test_pred_lr))\n",
    "print('The r2 score of LinearRegression on train is',r2_score(y_train,y_train_pred_lr))\n",
    "\n",
    "#2. 岭回归，对正则参数lambda（scikit learn中为alpha）进行调优\n",
    "from sklearn.linear_model import  RidgeCV\n",
    "\n",
    "#设置超参数（正则参数）范围\n",
    "alphas = [ 0.01, 0.1, 1, 10,100]\n",
    "#n_alphas = 20\n",
    "#alphas = np.logspace(-5,2,n_alphas)\n",
    "\n",
    "#生成一个RidgeCV实例\n",
    "ridge = RidgeCV(alphas=alphas)\n",
    "\n",
    "#模型训练\n",
    "ridge.fit(x_train, y_train)\n",
    "\n",
    "#预测\n",
    "y_test_pred_ridge = ridge.predict(x_test)\n",
    "y_test_pred_ridge += mean_diff\n",
    "y_train_pred_ridge = ridge.predict(x_train)\n",
    "\n",
    "\n",
    "# 评估，使用r2_score评价模型在测试集和训练集上的性能\n",
    "print (('The r2 score of RidgeCV on test is'), r2_score(y_test, y_test_pred_ridge))\n",
    "print (('The r2 score of RidgeCV on train is'), r2_score(y_train, y_train_pred_ridge))\n",
    "\n",
    "#3. Lasso，对正则参数lambda（scikit learn中为alpha）进行调优\n",
    "#过程与岭回归一样，在此省略\n",
    "\n"
   ]
  }
 ],
 "metadata": {
  "kernelspec": {
   "display_name": "Python 2",
   "language": "python",
   "name": "python2"
  },
  "language_info": {
   "codemirror_mode": {
    "name": "ipython",
    "version": 2
   },
   "file_extension": ".py",
   "mimetype": "text/x-python",
   "name": "python",
   "nbconvert_exporter": "python",
   "pygments_lexer": "ipython2",
   "version": "2.7.14"
  }
 },
 "nbformat": 4,
 "nbformat_minor": 2
}
